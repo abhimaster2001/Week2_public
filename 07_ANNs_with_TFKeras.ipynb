{
  "nbformat": 4,
  "nbformat_minor": 0,
  "metadata": {
    "colab": {
      "name": "07_ANNs_with_TFKeras.ipynb",
      "version": "0.3.2",
      "provenance": [],
      "collapsed_sections": []
    },
    "kernelspec": {
      "name": "python3",
      "display_name": "Python 3"
    }
  },
  "cells": [
    {
      "metadata": {
        "id": "9XZEvoDUdSKh",
        "colab_type": "text"
      },
      "cell_type": "markdown",
      "source": [
        "# Artificial Neural Networks with TensorFlow.Keras\n",
        "\n",
        "In this notebook we will see how to use TensorFlow to train ANNs and avoid needing to extract features like we did in the previous notebook.\n",
        "\n",
        "Let's grab the same digit data we used before!"
      ]
    },
    {
      "metadata": {
        "id": "3MIrMPcldSQZ",
        "colab_type": "code",
        "colab": {
          "base_uri": "https://localhost:8080/",
          "height": 102
        },
        "outputId": "cd1400d1-4d6a-457e-d630-b95d4b9f8157"
      },
      "cell_type": "code",
      "source": [
        "! git clone https://github.com/Jakobovski/free-spoken-digit-dataset.git"
      ],
      "execution_count": 76,
      "outputs": [
        {
          "output_type": "stream",
          "text": [
            "Cloning into 'free-spoken-digit-dataset'...\n",
            "remote: Counting objects: 2089, done.\u001b[K\n",
            "remote: Total 2089 (delta 0), reused 0 (delta 0), pack-reused 2089\u001b[K\n",
            "Receiving objects: 100% (2089/2089), 20.90 MiB | 35.26 MiB/s, done.\n",
            "Resolving deltas: 100% (39/39), done.\n"
          ],
          "name": "stdout"
        }
      ]
    },
    {
      "metadata": {
        "id": "qvpcS7sshZzF",
        "colab_type": "code",
        "colab": {}
      },
      "cell_type": "code",
      "source": [
        "import os\n",
        "os.chdir('free-spoken-digit-dataset/recordings')"
      ],
      "execution_count": 0,
      "outputs": []
    },
    {
      "metadata": {
        "id": "6m3pXT_QW5Il",
        "colab_type": "code",
        "colab": {
          "base_uri": "https://localhost:8080/",
          "height": 221
        },
        "outputId": "1aca6609-823c-4910-dee2-eef93ed3c8ea"
      },
      "cell_type": "code",
      "source": [
        "import glob, os\n",
        "\n",
        "wavfiles = list()\n",
        "for file in glob.glob(\"*.wav\"):\n",
        "    wavfiles.append(file)\n",
        "\n",
        "num_points = len(wavfiles)\n",
        "\n",
        "print('{} data points\\n'.format(num_points))\n",
        "\n",
        "# list the first few files\n",
        "wavfiles[:10]\n",
        "\n"
      ],
      "execution_count": 78,
      "outputs": [
        {
          "output_type": "stream",
          "text": [
            "1500 data points\n",
            "\n"
          ],
          "name": "stdout"
        },
        {
          "output_type": "execute_result",
          "data": {
            "text/plain": [
              "['0_theo_16.wav',\n",
              " '9_jackson_26.wav',\n",
              " '3_jackson_28.wav',\n",
              " '1_theo_22.wav',\n",
              " '6_jackson_34.wav',\n",
              " '4_jackson_20.wav',\n",
              " '9_jackson_47.wav',\n",
              " '1_theo_29.wav',\n",
              " '3_jackson_21.wav',\n",
              " '6_jackson_6.wav']"
            ]
          },
          "metadata": {
            "tags": []
          },
          "execution_count": 78
        }
      ]
    },
    {
      "metadata": {
        "id": "dY2O4r5bW-j7",
        "colab_type": "code",
        "colab": {}
      },
      "cell_type": "code",
      "source": [
        "\n",
        "import numpy as np\n",
        "import scipy.io.wavfile\n",
        "from IPython.display import Audio\n",
        "import matplotlib.pyplot as plt\n",
        "import matplotlib\n",
        "import tensorflow as tf\n",
        "from sklearn import metrics\n",
        "import pandas as pd\n",
        "\n",
        "%matplotlib inline\n",
        "matplotlib.rcParams.update({'font.size': 16,'figure.figsize':(10,6)})\n"
      ],
      "execution_count": 0,
      "outputs": []
    },
    {
      "metadata": {
        "id": "pbB7aYMZ2gMs",
        "colab_type": "text"
      },
      "cell_type": "markdown",
      "source": [
        "## Load the data"
      ]
    },
    {
      "metadata": {
        "id": "ADKsZNPW4L8J",
        "colab_type": "code",
        "colab": {}
      },
      "cell_type": "code",
      "source": [
        "import re\n",
        "\n",
        "re_digit = re.compile('\\d+_')\n",
        "re_speaker = re.compile('_[a-z]+_')\n",
        "re_trial = re.compile('_\\d+.')\n",
        "\n",
        "X_data = np.ndarray(shape=(num_points,),dtype=object)\n",
        "y_labels = list()\n",
        "\n",
        "label='digit'"
      ],
      "execution_count": 0,
      "outputs": []
    },
    {
      "metadata": {
        "id": "9qcJGxFJ1fZC",
        "colab_type": "code",
        "colab": {
          "base_uri": "https://localhost:8080/",
          "height": 51
        },
        "outputId": "dcb62a5f-6bdb-42bc-87a2-2ac6a7aca944"
      },
      "cell_type": "code",
      "source": [
        "ix = 0\n",
        "for sample_file in wavfiles:\n",
        "  try:\n",
        "    \n",
        "    digit = int(re.match( re_digit, sample_file)[0][:-1])\n",
        "    speaker = re.search( re_speaker, sample_file)[0][1:-1]\n",
        "\n",
        "    # read the file\n",
        "    (sample_rate, signal) = scipy.io.wavfile.read(sample_file)\n",
        "    \n",
        "    # some files have two channels... just take the first one\n",
        "    if len(signal.shape) == 2:\n",
        "      signal = signal[:,0]\n",
        "      \n",
        "    \n",
        "    X_data[ix,] = np.array(signal)\n",
        "    \n",
        "    ix+=1\n",
        "    \n",
        "    if label == 'speaker':\n",
        "      y_labels.append(speaker)\n",
        "      \n",
        "    elif label == 'digit':\n",
        "      y_labels.append(digit)\n",
        "      \n",
        "    else:\n",
        "      print(\"I don't know what you want to predict...\")\n",
        "      break\n",
        "      \n",
        "    \n",
        "  except Exception as e:\n",
        "    \n",
        "    # something went wrong!  =(\n",
        "    \n",
        "    print(sample_file)\n",
        "    print(e)\n",
        "    print(X_data.shape)\n",
        "    print(signal.shape)\n",
        "    \n",
        "    break\n"
      ],
      "execution_count": 81,
      "outputs": [
        {
          "output_type": "stream",
          "text": [
            "/usr/local/lib/python3.6/dist-packages/scipy/io/wavfile.py:273: WavFileWarning: Chunk (non-data) not understood, skipping it.\n",
            "  WavFileWarning)\n"
          ],
          "name": "stderr"
        }
      ]
    },
    {
      "metadata": {
        "id": "bjprxl4__Mb8",
        "colab_type": "text"
      },
      "cell_type": "markdown",
      "source": [
        "## Normalize the inputs\n",
        "Each .wav file is a different duration.  If we want to use the raw input as the signals, this will make our neural net cranky.  Let's artifically pad or truncate our input vectors so they're all the same length.  (Warning: we may lose data!)"
      ]
    },
    {
      "metadata": {
        "id": "rXTpE6du1fgv",
        "colab_type": "code",
        "colab": {
          "base_uri": "https://localhost:8080/",
          "height": 391
        },
        "outputId": "6f9c2e5e-e9da-4bed-9c84-5afda7a97667"
      },
      "cell_type": "code",
      "source": [
        "# Remove the mean from the data\n",
        "# For each data point:\n",
        "#   1) Remove the mean\n",
        "#   2) Make the length = 2000\n",
        "s_plot_ix = 1\n",
        "desired_length = 2000\n",
        "plt.subplot(2,1,1)\n",
        "plt.plot(X_data[s_plot_ix])\n",
        "\n",
        "for ix in range(X_data.shape[0]):\n",
        "  len_sig = X_data[ix].shape[0]\n",
        "  \n",
        "  if len_sig < desired_length:\n",
        "    pad_len = desired_length - len_sig\n",
        "    X_data[ix] = np.append(X_data[ix], np.mean(X_data[ix]) * np.ones(pad_len))\n",
        "  elif len_sig > desired_length:\n",
        "    X_data[ix] = X_data[ix][:desired_length]\n",
        "  \n",
        "  X_data[ix] = X_data[ix]-np.mean(X_data[ix])\n",
        "\n",
        "plt.subplot(2,1,2)\n",
        "plt.plot(X_data[s_plot_ix])"
      ],
      "execution_count": 82,
      "outputs": [
        {
          "output_type": "execute_result",
          "data": {
            "text/plain": [
              "[<matplotlib.lines.Line2D at 0x7fa5bb393358>]"
            ]
          },
          "metadata": {
            "tags": []
          },
          "execution_count": 82
        },
        {
          "output_type": "display_data",
          "data": {
            "image/png": "[encoded data removed]",
            "text/plain": [
              "<matplotlib.figure.Figure at 0x7fa5c2820c50>"
            ]
          },
          "metadata": {
            "tags": []
          }
        }
      ]
    },
    {
      "metadata": {
        "id": "BwVVx3DaLybg",
        "colab_type": "code",
        "colab": {
          "base_uri": "https://localhost:8080/",
          "height": 51
        },
        "outputId": "40624559-133d-439c-f5bb-2b956b611461"
      },
      "cell_type": "code",
      "source": [
        "# turn y_labels into categories (0,1,2)\n",
        "\n",
        "## YOUR CODE HERE\n",
        "\n",
        "labels = np.array(list(set(y_labels)))\n",
        "print(labels)\n",
        "\n",
        "for j in range(len(y_labels)):\n",
        "  y_labels[j]=np.where(labels==y_labels[j])[0][0]\n",
        "print(set(y_labels))"
      ],
      "execution_count": 83,
      "outputs": [
        {
          "output_type": "stream",
          "text": [
            "[0 1 2 3 4 5 6 7 8 9]\n",
            "{0, 1, 2, 3, 4, 5, 6, 7, 8, 9}\n"
          ],
          "name": "stdout"
        }
      ]
    },
    {
      "metadata": {
        "id": "XZkW3thkFtPs",
        "colab_type": "text"
      },
      "cell_type": "markdown",
      "source": [
        "## Split data into test/train split"
      ]
    },
    {
      "metadata": {
        "id": "mANSzEFx1fo7",
        "colab_type": "code",
        "colab": {}
      },
      "cell_type": "code",
      "source": [
        "from sklearn.model_selection import train_test_split\n",
        "\n",
        "# split X and y into training and testing sets\n",
        "X_train, X_test, y_train, y_test = train_test_split(X_data, np.array(y_labels), test_size=0.25)"
      ],
      "execution_count": 0,
      "outputs": []
    },
    {
      "metadata": {
        "id": "1oGFU7vm1fmr",
        "colab_type": "code",
        "colab": {
          "base_uri": "https://localhost:8080/",
          "height": 51
        },
        "outputId": "41e0c4f7-0bd9-47de-ee87-22885961634a"
      },
      "cell_type": "code",
      "source": [
        "print(X_train.shape)\n",
        "print(y_train.shape)"
      ],
      "execution_count": 85,
      "outputs": [
        {
          "output_type": "stream",
          "text": [
            "(1125,)\n",
            "(1125,)\n"
          ],
          "name": "stdout"
        }
      ]
    },
    {
      "metadata": {
        "id": "oNZex1ySHzGb",
        "colab_type": "text"
      },
      "cell_type": "markdown",
      "source": [
        "## Reformat the labels\n",
        "\n",
        "Next, we want to convert the labels from an integer format (e.g., \"2\"), to a [one hot encoding](https://en.wikipedia.org/wiki/One-hot) (e.g., \"0, 0, 1, 0, 0, 0, 0, 0, 0, 0\"). To do so, we'll use the `tf.keras.utils.to_categorical` [function](https://www.tensorflow.org/api_docs/python/tf/keras/utils/to_categorical) function."
      ]
    },
    {
      "metadata": {
        "id": "WAVsA9rk1fkd",
        "colab_type": "code",
        "colab": {
          "base_uri": "https://localhost:8080/",
          "height": 51
        },
        "outputId": "969fcc3d-15d4-4f4d-f66c-fa2ee9dc4386"
      },
      "cell_type": "code",
      "source": [
        "NUM_DIGITS = 10\n",
        "\n",
        "print(\"Before\", y_train[0])\n",
        "\n",
        "y_train = tf.keras.utils.to_categorical(y_train, NUM_DIGITS)\n",
        "\n",
        "print(\"After\", y_train[0])\n",
        "\n",
        "y_test = tf.keras.utils.to_categorical(y_train, NUM_DIGITS)"
      ],
      "execution_count": 86,
      "outputs": [
        {
          "output_type": "stream",
          "text": [
            "Before 3\n",
            "After [0. 0. 0. 1. 0. 0. 0. 0. 0. 0.]\n"
          ],
          "name": "stdout"
        }
      ]
    },
    {
      "metadata": {
        "id": "DiaSczTAb042",
        "colab_type": "code",
        "colab": {}
      },
      "cell_type": "code",
      "source": [
        "# The X data is in a variable-length array, which will make TensorFlow cranky... we're going to hack something together to fix that\n",
        "\n",
        "\n",
        "X_train_df = pd.DataFrame()\n",
        "for xx in X_train:\n",
        "  X_train_df=X_train_df.append(pd.Series(xx),ignore_index=True)\n",
        "\n",
        "\n",
        "X_test_df = pd.DataFrame()\n",
        "for xx in X_test:\n",
        "  X_test_df=X_test_df.append(pd.Series(xx),ignore_index=True)"
      ],
      "execution_count": 0,
      "outputs": []
    },
    {
      "metadata": {
        "id": "Dr9q1Sd0NdIO",
        "colab_type": "text"
      },
      "cell_type": "markdown",
      "source": [
        "## Build the model\n",
        "\n",
        "Now, we'll create our neural network using the [Keras Sequential API](https://www.tensorflow.org/api_docs/python/tf/keras/Sequential). \n",
        "* Architecture wise, we'll single layer network. \n",
        "* The hidden layer will have 512 units using the [ReLU](https://www.tensorflow.org/api_docs/python/tf/keras/activations/relu) activation function. \n",
        "* The output layer will have 10 units and use [softmax](https://www.tensorflow.org/api_docs/python/tf/keras/activations/softmax) function. \n",
        "* Note: you will need to specify the input shape on the first layer. If you add subsequent layers, this is not necessary. \n",
        "* We will use the [categorical crossentropy](https://www.tensorflow.org/api_docs/python/tf/keras/losses/categorical_crossentropy) loss function, and the [RMSProp](https://www.tensorflow.org/api_docs/python/tf/keras/optimizers/RMSprop) optimizer."
      ]
    },
    {
      "metadata": {
        "id": "S9nggvb4HsYi",
        "colab_type": "code",
        "colab": {
          "base_uri": "https://localhost:8080/",
          "height": 204
        },
        "outputId": "7016b9d8-c8d8-4ea3-c620-99679efb1e25"
      },
      "cell_type": "code",
      "source": [
        "# Build a fully-connected ANN with one hidden layer\n",
        "from keras.layers import Dense, Activation\n",
        "\n",
        "\n",
        "model = tf.keras.Sequential()\n",
        "model.add(tf.keras.layers.Dense(512, activation = tf.nn.relu, input_shape=X_train[0].shape))   # hidden layer with 512 units and relu activation\n",
        "model.add(tf.keras.layers.Dense(10, activation = tf.nn.softmax))   # output layer with 10 units and softmax activation\n",
        "model.compile(loss = 'sparse_categorical_crossentropy',\n",
        "             optimizer = 'rmsprop',\n",
        "             metrics=[\"accuracy\"])## YOUR CODE HERE)\n",
        "\n",
        "model.summary()"
      ],
      "execution_count": 88,
      "outputs": [
        {
          "output_type": "stream",
          "text": [
            "_________________________________________________________________\n",
            "Layer (type)                 Output Shape              Param #   \n",
            "=================================================================\n",
            "dense_2 (Dense)              (None, 512)               1024512   \n",
            "_________________________________________________________________\n",
            "dense_3 (Dense)              (None, 10)                5130      \n",
            "=================================================================\n",
            "Total params: 1,029,642\n",
            "Trainable params: 1,029,642\n",
            "Non-trainable params: 0\n",
            "_________________________________________________________________\n"
          ],
          "name": "stdout"
        }
      ]
    },
    {
      "metadata": {
        "id": "0eNUnAweNtnc",
        "colab_type": "text"
      },
      "cell_type": "markdown",
      "source": [
        "## Training\n",
        "\n",
        "Next, we will train the model by using the [fit method](https://www.tensorflow.org/api_docs/python/tf/keras/Sequential#fit) for 10 [epochs](https://www.quora.com/What-is-epochs-in-machine-learning). We will keep track of the training loss and accuracy as we go. Please be patient as this step may take a while depending on your hardware."
      ]
    },
    {
      "metadata": {
        "id": "W5YJMXeKHseP",
        "colab_type": "code",
        "colab": {
          "base_uri": "https://localhost:8080/",
          "height": 3794
        },
        "outputId": "0d3e7b25-1964-476c-817b-4c882a7d68a8"
      },
      "cell_type": "code",
      "source": [
        "history = model.fit(X_train_df, y_train, epochs=100)\n",
        "\n",
        "# plot metrics\n",
        "plt.plot(history.history['acc'])\n",
        "plt.show()"
      ],
      "execution_count": 89,
      "outputs": [
        {
          "output_type": "stream",
          "text": [
            "Epoch 1/100\n",
            "1125/1125 [==============================] - 1s 688us/step - loss: 13.2093 - acc: 0.1440\n",
            "Epoch 2/100\n",
            "1125/1125 [==============================] - 1s 544us/step - loss: 12.3487 - acc: 0.2222\n",
            "Epoch 3/100\n",
            "1125/1125 [==============================] - 1s 546us/step - loss: 12.0773 - acc: 0.2409\n",
            "Epoch 4/100\n",
            "1125/1125 [==============================] - 1s 529us/step - loss: 11.9728 - acc: 0.2436\n",
            "Epoch 5/100\n",
            "1125/1125 [==============================] - 1s 536us/step - loss: 11.5726 - acc: 0.2729\n",
            "Epoch 6/100\n",
            "1125/1125 [==============================] - 1s 532us/step - loss: 11.4259 - acc: 0.2827\n",
            "Epoch 7/100\n",
            "1125/1125 [==============================] - 1s 539us/step - loss: 11.0804 - acc: 0.3084\n",
            "Epoch 8/100\n",
            "1125/1125 [==============================] - 1s 528us/step - loss: 11.1818 - acc: 0.3031\n",
            "Epoch 9/100\n",
            "1125/1125 [==============================] - 1s 528us/step - loss: 11.1223 - acc: 0.3049\n",
            "Epoch 10/100\n",
            "1125/1125 [==============================] - 1s 530us/step - loss: 11.1897 - acc: 0.3058\n",
            "Epoch 11/100\n",
            "1125/1125 [==============================] - 1s 527us/step - loss: 11.1243 - acc: 0.3067\n",
            "Epoch 12/100\n",
            "1125/1125 [==============================] - 1s 538us/step - loss: 11.0796 - acc: 0.3102\n",
            "Epoch 13/100\n",
            " 896/1125 [======================>.......] - ETA: 0s - loss: 10.9260 - acc: 0.3203"
          ],
          "name": "stdout"
        },
        {
          "output_type": "stream",
          "text": [
            "1125/1125 [==============================] - 1s 544us/step - loss: 10.9577 - acc: 0.3182\n",
            "Epoch 14/100\n",
            "1125/1125 [==============================] - 1s 530us/step - loss: 11.1030 - acc: 0.3084\n",
            "Epoch 15/100\n",
            "1125/1125 [==============================] - 1s 552us/step - loss: 11.0151 - acc: 0.3120\n",
            "Epoch 16/100\n",
            "1125/1125 [==============================] - 1s 533us/step - loss: 10.8329 - acc: 0.3253\n",
            "Epoch 17/100\n",
            "1125/1125 [==============================] - 1s 538us/step - loss: 10.7635 - acc: 0.3307\n",
            "Epoch 18/100\n",
            "1125/1125 [==============================] - 1s 542us/step - loss: 10.8325 - acc: 0.3271\n",
            "Epoch 19/100\n",
            "1125/1125 [==============================] - 1s 517us/step - loss: 10.8174 - acc: 0.3280\n",
            "Epoch 20/100\n",
            "1125/1125 [==============================] - 1s 521us/step - loss: 10.7742 - acc: 0.3298\n",
            "Epoch 21/100\n",
            "1125/1125 [==============================] - 1s 534us/step - loss: 10.6773 - acc: 0.3369\n",
            "Epoch 22/100\n",
            "1125/1125 [==============================] - 1s 548us/step - loss: 10.7873 - acc: 0.3289\n",
            "Epoch 23/100\n",
            "1125/1125 [==============================] - 1s 546us/step - loss: 10.6247 - acc: 0.3378\n",
            "Epoch 24/100\n",
            "1125/1125 [==============================] - 1s 570us/step - loss: 10.6337 - acc: 0.3369\n",
            "Epoch 25/100\n",
            " 352/1125 [========>.....................] - ETA: 0s - loss: 10.7607 - acc: 0.3324"
          ],
          "name": "stdout"
        },
        {
          "output_type": "stream",
          "text": [
            "1125/1125 [==============================] - 1s 553us/step - loss: 10.5591 - acc: 0.3449\n",
            "Epoch 26/100\n",
            "1125/1125 [==============================] - 1s 542us/step - loss: 10.5591 - acc: 0.3449\n",
            "Epoch 27/100\n",
            "1125/1125 [==============================] - 1s 551us/step - loss: 10.5735 - acc: 0.3440\n",
            "Epoch 28/100\n",
            "1125/1125 [==============================] - 1s 561us/step - loss: 10.5878 - acc: 0.3431\n",
            "Epoch 29/100\n",
            "1125/1125 [==============================] - 1s 551us/step - loss: 10.5878 - acc: 0.3431\n",
            "Epoch 30/100\n",
            "1125/1125 [==============================] - 1s 541us/step - loss: 10.6021 - acc: 0.3422\n",
            "Epoch 31/100\n",
            "1125/1125 [==============================] - 1s 541us/step - loss: 10.6021 - acc: 0.3422\n",
            "Epoch 32/100\n",
            "1125/1125 [==============================] - 1s 549us/step - loss: 10.6021 - acc: 0.3422\n",
            "Epoch 33/100\n",
            "1125/1125 [==============================] - 1s 548us/step - loss: 10.6021 - acc: 0.3422\n",
            "Epoch 34/100\n",
            "1125/1125 [==============================] - 1s 568us/step - loss: 10.6021 - acc: 0.3422\n",
            "Epoch 35/100\n",
            "1125/1125 [==============================] - 1s 543us/step - loss: 10.6021 - acc: 0.3422\n",
            "Epoch 36/100\n",
            "1125/1125 [==============================] - 1s 549us/step - loss: 10.6021 - acc: 0.3422\n"
          ],
          "name": "stdout"
        },
        {
          "output_type": "stream",
          "text": [
            "Epoch 37/100\n",
            "1125/1125 [==============================] - 1s 538us/step - loss: 10.6021 - acc: 0.3422\n",
            "Epoch 38/100\n",
            "1125/1125 [==============================] - 1s 538us/step - loss: 10.6021 - acc: 0.3422\n",
            "Epoch 39/100\n",
            "1125/1125 [==============================] - 1s 547us/step - loss: 10.6021 - acc: 0.3422\n",
            "Epoch 40/100\n",
            "1125/1125 [==============================] - 1s 556us/step - loss: 10.6021 - acc: 0.3422\n",
            "Epoch 41/100\n",
            "1125/1125 [==============================] - 1s 541us/step - loss: 10.6021 - acc: 0.3422\n",
            "Epoch 42/100\n",
            "1125/1125 [==============================] - 1s 532us/step - loss: 10.6021 - acc: 0.3422\n",
            "Epoch 43/100\n",
            "1125/1125 [==============================] - 1s 523us/step - loss: 10.6021 - acc: 0.3422\n",
            "Epoch 44/100\n",
            "1125/1125 [==============================] - 1s 533us/step - loss: 10.6021 - acc: 0.3422\n",
            "Epoch 45/100\n",
            "1125/1125 [==============================] - 1s 525us/step - loss: 10.6021 - acc: 0.3422\n",
            "Epoch 46/100\n",
            "1125/1125 [==============================] - 1s 524us/step - loss: 10.6021 - acc: 0.3422\n",
            "Epoch 47/100\n",
            "1125/1125 [==============================] - 1s 520us/step - loss: 10.6021 - acc: 0.3422\n",
            "Epoch 48/100\n",
            "1125/1125 [==============================] - 1s 530us/step - loss: 10.6021 - acc: 0.3422\n",
            "Epoch 49/100\n",
            " 640/1125 [================>.............] - ETA: 0s - loss: 10.3257 - acc: 0.3594"
          ],
          "name": "stdout"
        },
        {
          "output_type": "stream",
          "text": [
            "1125/1125 [==============================] - 1s 524us/step - loss: 10.6021 - acc: 0.3422\n",
            "Epoch 50/100\n",
            "1125/1125 [==============================] - 1s 516us/step - loss: 10.6021 - acc: 0.3422\n",
            "Epoch 51/100\n",
            "1125/1125 [==============================] - 1s 521us/step - loss: 10.6021 - acc: 0.3422\n",
            "Epoch 52/100\n",
            "1125/1125 [==============================] - 1s 522us/step - loss: 10.6021 - acc: 0.3422\n",
            "Epoch 53/100\n",
            "1125/1125 [==============================] - 1s 506us/step - loss: 10.6021 - acc: 0.3422\n",
            "Epoch 54/100\n",
            "1125/1125 [==============================] - 1s 523us/step - loss: 10.6021 - acc: 0.3422\n",
            "Epoch 55/100\n",
            "1125/1125 [==============================] - 1s 525us/step - loss: 10.6021 - acc: 0.3422\n",
            "Epoch 56/100\n",
            "1125/1125 [==============================] - 1s 536us/step - loss: 10.6021 - acc: 0.3422\n",
            "Epoch 57/100\n",
            "1125/1125 [==============================] - 1s 540us/step - loss: 10.6021 - acc: 0.3422\n",
            "Epoch 58/100\n",
            "1125/1125 [==============================] - 1s 557us/step - loss: 10.6021 - acc: 0.3422\n",
            "Epoch 59/100\n",
            "1125/1125 [==============================] - 1s 547us/step - loss: 10.6021 - acc: 0.3422\n",
            "Epoch 60/100\n",
            "1125/1125 [==============================] - 1s 551us/step - loss: 10.6021 - acc: 0.3422\n",
            "Epoch 61/100\n",
            " 320/1125 [=======>......................] - ETA: 0s - loss: 10.0738 - acc: 0.3750"
          ],
          "name": "stdout"
        },
        {
          "output_type": "stream",
          "text": [
            "1125/1125 [==============================] - 1s 546us/step - loss: 10.6021 - acc: 0.3422\n",
            "Epoch 62/100\n",
            "1125/1125 [==============================] - 1s 544us/step - loss: 10.6021 - acc: 0.3422\n",
            "Epoch 63/100\n",
            "1125/1125 [==============================] - 1s 564us/step - loss: 10.6021 - acc: 0.3422\n",
            "Epoch 64/100\n",
            "1125/1125 [==============================] - 1s 552us/step - loss: 10.6021 - acc: 0.3422\n",
            "Epoch 65/100\n",
            "1125/1125 [==============================] - 1s 539us/step - loss: 10.6021 - acc: 0.3422\n",
            "Epoch 66/100\n",
            "1125/1125 [==============================] - 1s 537us/step - loss: 10.6021 - acc: 0.3422\n",
            "Epoch 67/100\n",
            "1125/1125 [==============================] - 1s 543us/step - loss: 10.6021 - acc: 0.3422\n",
            "Epoch 68/100\n",
            "1125/1125 [==============================] - 1s 542us/step - loss: 10.6021 - acc: 0.3422\n",
            "Epoch 69/100\n",
            "1125/1125 [==============================] - 1s 546us/step - loss: 10.6021 - acc: 0.3422\n",
            "Epoch 70/100\n",
            "1125/1125 [==============================] - 1s 540us/step - loss: 10.6021 - acc: 0.3422\n",
            "Epoch 71/100\n",
            "1125/1125 [==============================] - 1s 528us/step - loss: 10.6021 - acc: 0.3422\n",
            "Epoch 72/100\n",
            "1125/1125 [==============================] - 1s 527us/step - loss: 10.6021 - acc: 0.3422\n",
            "Epoch 73/100\n",
            " 448/1125 [==========>...................] - ETA: 0s - loss: 10.5055 - acc: 0.3482"
          ],
          "name": "stdout"
        },
        {
          "output_type": "stream",
          "text": [
            "1125/1125 [==============================] - 1s 537us/step - loss: 10.6021 - acc: 0.3422\n",
            "Epoch 74/100\n",
            "1125/1125 [==============================] - 1s 531us/step - loss: 10.6021 - acc: 0.3422\n",
            "Epoch 75/100\n",
            "1125/1125 [==============================] - 1s 524us/step - loss: 10.6021 - acc: 0.3422\n",
            "Epoch 76/100\n",
            "1125/1125 [==============================] - 1s 530us/step - loss: 10.6021 - acc: 0.3422\n",
            "Epoch 77/100\n",
            "1125/1125 [==============================] - 1s 531us/step - loss: 10.6021 - acc: 0.3422\n",
            "Epoch 78/100\n",
            "1125/1125 [==============================] - 1s 535us/step - loss: 10.6021 - acc: 0.3422\n",
            "Epoch 79/100\n",
            "1125/1125 [==============================] - 1s 531us/step - loss: 10.6021 - acc: 0.3422\n",
            "Epoch 80/100\n",
            "1125/1125 [==============================] - 1s 540us/step - loss: 10.6021 - acc: 0.3422\n",
            "Epoch 81/100\n",
            "1125/1125 [==============================] - 1s 526us/step - loss: 10.6021 - acc: 0.3422\n",
            "Epoch 82/100\n",
            "1125/1125 [==============================] - 1s 542us/step - loss: 10.6021 - acc: 0.3422\n",
            "Epoch 83/100\n",
            "1125/1125 [==============================] - 1s 536us/step - loss: 10.6021 - acc: 0.3422\n",
            "Epoch 84/100\n",
            "1125/1125 [==============================] - 1s 538us/step - loss: 10.6021 - acc: 0.3422\n",
            "Epoch 85/100\n",
            " 672/1125 [================>.............] - ETA: 0s - loss: 10.6015 - acc: 0.3423"
          ],
          "name": "stdout"
        },
        {
          "output_type": "stream",
          "text": [
            "1125/1125 [==============================] - 1s 540us/step - loss: 10.6021 - acc: 0.3422\n",
            "Epoch 86/100\n",
            "1125/1125 [==============================] - 1s 543us/step - loss: 10.6021 - acc: 0.3422\n",
            "Epoch 87/100\n",
            "1125/1125 [==============================] - 1s 546us/step - loss: 10.6021 - acc: 0.3422\n",
            "Epoch 88/100\n",
            "1125/1125 [==============================] - 1s 545us/step - loss: 10.6021 - acc: 0.3422\n",
            "Epoch 89/100\n",
            "1125/1125 [==============================] - 1s 532us/step - loss: 10.6021 - acc: 0.3422\n",
            "Epoch 90/100\n",
            "1125/1125 [==============================] - 1s 555us/step - loss: 10.6021 - acc: 0.3422\n",
            "Epoch 91/100\n",
            "1125/1125 [==============================] - 1s 556us/step - loss: 10.6021 - acc: 0.3422\n",
            "Epoch 92/100\n",
            "1125/1125 [==============================] - 1s 564us/step - loss: 10.6021 - acc: 0.3422\n",
            "Epoch 93/100\n",
            "1125/1125 [==============================] - 1s 560us/step - loss: 10.6021 - acc: 0.3422\n",
            "Epoch 94/100\n",
            "1125/1125 [==============================] - 1s 552us/step - loss: 10.6021 - acc: 0.3422\n",
            "Epoch 95/100\n",
            "1125/1125 [==============================] - 1s 542us/step - loss: 10.6021 - acc: 0.3422\n",
            "Epoch 96/100\n",
            "1125/1125 [==============================] - 1s 545us/step - loss: 10.6021 - acc: 0.3422\n",
            "Epoch 97/100\n",
            "  32/1125 [..............................] - ETA: 0s - loss: 13.5996 - acc: 0.1562"
          ],
          "name": "stdout"
        },
        {
          "output_type": "stream",
          "text": [
            "1125/1125 [==============================] - 1s 537us/step - loss: 10.6021 - acc: 0.3422\n",
            "Epoch 98/100\n",
            "1125/1125 [==============================] - 1s 539us/step - loss: 10.6021 - acc: 0.3422\n",
            "Epoch 99/100\n",
            "1125/1125 [==============================] - 1s 548us/step - loss: 10.6021 - acc: 0.3422\n",
            "Epoch 100/100\n",
            "1125/1125 [==============================] - 1s 550us/step - loss: 10.6021 - acc: 0.3422\n"
          ],
          "name": "stdout"
        },
        {
          "output_type": "display_data",
          "data": {
            "image/png": "[encoded data removed]",
            "text/plain": [
              "<matplotlib.figure.Figure at 0x7fa5bb37a630>"
            ]
          },
          "metadata": {
            "tags": []
          }
        }
      ]
    },
    {
      "metadata": {
        "id": "SxkMOdLrT-2V",
        "colab_type": "text"
      },
      "cell_type": "markdown",
      "source": [
        "## Testing\n",
        "Now that we have trained our model, we want to evaluate it. The training accuracy wasn't great (~35%, depending on the random seed), but better than random (10%).  Let's see how well we do on our test data."
      ]
    },
    {
      "metadata": {
        "id": "86h3mYf5T_Bh",
        "colab_type": "code",
        "colab": {
          "base_uri": "https://localhost:8080/",
          "height": 557
        },
        "outputId": "e7d64f20-54af-4a22-d92f-1ca973338b87"
      },
      "cell_type": "code",
      "source": [
        "loss, accuracy = model.evaluate(X_test_df, y_test)\n",
        "print('Test accuracy: %.2f' % (accuracy))"
      ],
      "execution_count": 90,
      "outputs": [
        {
          "output_type": "error",
          "ename": "ValueError",
          "evalue": "ignored",
          "traceback": [
            "\u001b[0;31m---------------------------------------------------------------------------\u001b[0m",
            "\u001b[0;31mValueError\u001b[0m                                Traceback (most recent call last)",
            "\u001b[0;32m<ipython-input-90-8497c79f88fd>\u001b[0m in \u001b[0;36m<module>\u001b[0;34m()\u001b[0m\n\u001b[0;32m----> 1\u001b[0;31m \u001b[0mloss\u001b[0m\u001b[0;34m,\u001b[0m \u001b[0maccuracy\u001b[0m \u001b[0;34m=\u001b[0m \u001b[0mmodel\u001b[0m\u001b[0;34m.\u001b[0m\u001b[0mevaluate\u001b[0m\u001b[0;34m(\u001b[0m\u001b[0mX_test_df\u001b[0m\u001b[0;34m,\u001b[0m \u001b[0my_test\u001b[0m\u001b[0;34m)\u001b[0m\u001b[0;34m\u001b[0m\u001b[0m\n\u001b[0m\u001b[1;32m      2\u001b[0m \u001b[0mprint\u001b[0m\u001b[0;34m(\u001b[0m\u001b[0;34m'Test accuracy: %.2f'\u001b[0m \u001b[0;34m%\u001b[0m \u001b[0;34m(\u001b[0m\u001b[0maccuracy\u001b[0m\u001b[0;34m)\u001b[0m\u001b[0;34m)\u001b[0m\u001b[0;34m\u001b[0m\u001b[0m\n",
            "\u001b[0;32m/usr/local/lib/python3.6/dist-packages/tensorflow/python/keras/engine/training.py\u001b[0m in \u001b[0;36mevaluate\u001b[0;34m(self, x, y, batch_size, verbose, sample_weight, steps)\u001b[0m\n\u001b[1;32m   1420\u001b[0m         \u001b[0mcheck_steps\u001b[0m\u001b[0;34m=\u001b[0m\u001b[0;32mTrue\u001b[0m\u001b[0;34m,\u001b[0m\u001b[0;34m\u001b[0m\u001b[0m\n\u001b[1;32m   1421\u001b[0m         \u001b[0msteps_name\u001b[0m\u001b[0;34m=\u001b[0m\u001b[0;34m'steps'\u001b[0m\u001b[0;34m,\u001b[0m\u001b[0;34m\u001b[0m\u001b[0m\n\u001b[0;32m-> 1422\u001b[0;31m         steps=steps)\n\u001b[0m\u001b[1;32m   1423\u001b[0m \u001b[0;34m\u001b[0m\u001b[0m\n\u001b[1;32m   1424\u001b[0m     \u001b[0;32mif\u001b[0m \u001b[0mcontext\u001b[0m\u001b[0;34m.\u001b[0m\u001b[0mexecuting_eagerly\u001b[0m\u001b[0;34m(\u001b[0m\u001b[0;34m)\u001b[0m\u001b[0;34m:\u001b[0m\u001b[0;34m\u001b[0m\u001b[0m\n",
            "\u001b[0;32m/usr/local/lib/python3.6/dist-packages/tensorflow/python/keras/engine/training.py\u001b[0m in \u001b[0;36m_standardize_user_data\u001b[0;34m(self, x, y, sample_weight, class_weight, batch_size, check_steps, steps_name, steps, validation_split)\u001b[0m\n\u001b[1;32m    905\u001b[0m           \u001b[0mfeed_output_shapes\u001b[0m\u001b[0;34m,\u001b[0m\u001b[0;34m\u001b[0m\u001b[0m\n\u001b[1;32m    906\u001b[0m           \u001b[0mcheck_batch_axis\u001b[0m\u001b[0;34m=\u001b[0m\u001b[0;32mFalse\u001b[0m\u001b[0;34m,\u001b[0m  \u001b[0;31m# Don't enforce the batch size.\u001b[0m\u001b[0;34m\u001b[0m\u001b[0m\n\u001b[0;32m--> 907\u001b[0;31m           exception_prefix='target')\n\u001b[0m\u001b[1;32m    908\u001b[0m \u001b[0;34m\u001b[0m\u001b[0m\n\u001b[1;32m    909\u001b[0m       \u001b[0;31m# Generate sample-wise weight values given the `sample_weight` and\u001b[0m\u001b[0;34m\u001b[0m\u001b[0;34m\u001b[0m\u001b[0m\n",
            "\u001b[0;32m/usr/local/lib/python3.6/dist-packages/tensorflow/python/keras/engine/training_utils.py\u001b[0m in \u001b[0;36mstandardize_input_data\u001b[0;34m(data, names, shapes, check_batch_axis, exception_prefix)\u001b[0m\n\u001b[1;32m    180\u001b[0m                            \u001b[0;34m': expected '\u001b[0m \u001b[0;34m+\u001b[0m \u001b[0mnames\u001b[0m\u001b[0;34m[\u001b[0m\u001b[0mi\u001b[0m\u001b[0;34m]\u001b[0m \u001b[0;34m+\u001b[0m \u001b[0;34m' to have '\u001b[0m \u001b[0;34m+\u001b[0m\u001b[0;34m\u001b[0m\u001b[0m\n\u001b[1;32m    181\u001b[0m                            \u001b[0mstr\u001b[0m\u001b[0;34m(\u001b[0m\u001b[0mlen\u001b[0m\u001b[0;34m(\u001b[0m\u001b[0mshape\u001b[0m\u001b[0;34m)\u001b[0m\u001b[0;34m)\u001b[0m \u001b[0;34m+\u001b[0m \u001b[0;34m' dimensions, but got array '\u001b[0m\u001b[0;34m\u001b[0m\u001b[0m\n\u001b[0;32m--> 182\u001b[0;31m                            'with shape ' + str(data_shape))\n\u001b[0m\u001b[1;32m    183\u001b[0m         \u001b[0;32mif\u001b[0m \u001b[0;32mnot\u001b[0m \u001b[0mcheck_batch_axis\u001b[0m\u001b[0;34m:\u001b[0m\u001b[0;34m\u001b[0m\u001b[0m\n\u001b[1;32m    184\u001b[0m           \u001b[0mdata_shape\u001b[0m \u001b[0;34m=\u001b[0m \u001b[0mdata_shape\u001b[0m\u001b[0;34m[\u001b[0m\u001b[0;36m1\u001b[0m\u001b[0;34m:\u001b[0m\u001b[0;34m]\u001b[0m\u001b[0;34m\u001b[0m\u001b[0m\n",
            "\u001b[0;31mValueError\u001b[0m: Error when checking target: expected dense_3 to have 2 dimensions, but got array with shape (1125, 10, 10)"
          ]
        }
      ]
    },
    {
      "metadata": {
        "id": "J6d-b_SrHsl2",
        "colab_type": "code",
        "colab": {}
      },
      "cell_type": "code",
      "source": [
        "y_pred = model.predict_proba(X_test_df, verbose=1)\n",
        "\n",
        "ix_pred = [np.argmax(y) for y in y_pred]\n",
        "ix_true = [np.argmax(y) for y in y_test]"
      ],
      "execution_count": 0,
      "outputs": []
    },
    {
      "metadata": {
        "id": "I0iiseNLWyBc",
        "colab_type": "code",
        "colab": {}
      },
      "cell_type": "code",
      "source": [
        "# Visualize the confusion matrix\n",
        "def plot_cmatrix(cm,labels,title='Confusion Matrix'):\n",
        "  fig = plt.figure()\n",
        "  ax = fig.add_subplot(111)\n",
        "  cax = ax.matshow(cm,cmap='Reds')\n",
        "  plt.title('\\n'+title+'\\n', fontsize=20)\n",
        "  fig.colorbar(cax)\n",
        "  ax.set_xticks(range(len(labels)))\n",
        "  ax.set_yticks(range(len(labels)))\n",
        "  ax.set_xticklabels(labels, fontsize=16)\n",
        "  ax.set_yticklabels(labels, fontsize=16)\n",
        "  plt.xlabel('Predicted', fontsize=16)\n",
        "  plt.ylabel('True', fontsize=16)\n",
        "  plt.show()"
      ],
      "execution_count": 0,
      "outputs": []
    },
    {
      "metadata": {
        "id": "ViciIqK4Xz9t",
        "colab_type": "code",
        "colab": {}
      },
      "cell_type": "code",
      "source": [
        "cm = metrics.confusion_matrix(ix_true,ix_pred, range(10))\n",
        "plot_cmatrix(cm, range(10))"
      ],
      "execution_count": 0,
      "outputs": []
    },
    {
      "metadata": {
        "id": "hN0uqYX6ZmH7",
        "colab_type": "text"
      },
      "cell_type": "markdown",
      "source": [
        "### Conclusions\n",
        "As you can see, this is actually a pretty terrible classifier... \n",
        "* Play around with some of the model parameters to see if you can make it better.  Later we'll see how we can use convolutions to solve a similar problem!\n",
        "* Try to see if you can train a better classifier using the frequency spectrum instead of the raw signal.  You won't have to pad/truncate the data because the data should all be the same size in the frequency domain (assuming they are all sampled at the same rate, which they are)!"
      ]
    },
    {
      "metadata": {
        "id": "Hm8YdwHuZwPj",
        "colab_type": "code",
        "colab": {}
      },
      "cell_type": "code",
      "source": [
        ""
      ],
      "execution_count": 0,
      "outputs": []
    }
  ]
}