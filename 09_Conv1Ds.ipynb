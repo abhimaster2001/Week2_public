{
  "nbformat": 4,
  "nbformat_minor": 0,
  "metadata": {
    "colab": {
      "name": "Conv1DStudent.ipynb",
      "version": "0.3.2",
      "provenance": [],
      "collapsed_sections": []
    }
  },
  "cells": [
    {
      "metadata": {
        "id": "PcahCqill_TM",
        "colab_type": "text"
      },
      "cell_type": "markdown",
      "source": [
        "# 1d Convolutional Neural Networks"
      ]
    },
    {
      "metadata": {
        "id": "5juHZFcFugzS",
        "colab_type": "code",
        "colab": {}
      },
      "cell_type": "code",
      "source": [
        "\n",
        "# Imports\n",
        "import numpy as np\n",
        "import os\n",
        "# from utils.utilities import *\n",
        "from sklearn.model_selection import train_test_split\n",
        "import matplotlib.pyplot as plt\n",
        "import tensorflow as tf\n",
        "import pandas as pd\n",
        "import tensorflow as tf\n",
        "from tensorflow import keras"
      ],
      "execution_count": 0,
      "outputs": []
    },
    {
      "metadata": {
        "id": "Bx9AXfRcmGky",
        "colab_type": "text"
      },
      "cell_type": "markdown",
      "source": [
        "### About the Data"
      ]
    },
    {
      "metadata": {
        "id": "8-uE2dd9mJMv",
        "colab_type": "text"
      },
      "cell_type": "markdown",
      "source": [
        "Data is from people doing one of these activities (WALKING, WALKING_UPSTAIRS, WALKING_DOWNSTAIRS, SITTING, STANDING, LAYING) <br><br>\n",
        "The data is from a smartphone and provides the body acceleration, general acceleration and a gyroscope reading <br><br>\n",
        "Data is from: https://archive.ics.uci.edu/ml/datasets/human+activity+recognition+using+smartphones "
      ]
    },
    {
      "metadata": {
        "id": "gHFlVzfY4ZPQ",
        "colab_type": "text"
      },
      "cell_type": "markdown",
      "source": [
        "### Read in data from functions provided below"
      ]
    },
    {
      "metadata": {
        "id": "ikIjLu7w4Mm_",
        "colab_type": "code",
        "colab": {}
      },
      "cell_type": "code",
      "source": [
        "X_train, labels_train, list_ch_train = read_data_train() # train\n",
        "X_test, labels_test, list_ch_test = read_data_test()"
      ],
      "execution_count": 0,
      "outputs": []
    },
    {
      "metadata": {
        "id": "EG3Tq1ajmjOu",
        "colab_type": "code",
        "colab": {
          "base_uri": "https://localhost:8080/",
          "height": 34
        },
        "outputId": "6ce37364-ba46-45a6-bf1e-e4e96245c83a"
      },
      "cell_type": "code",
      "source": [
        "print(X_train.shape)"
      ],
      "execution_count": 36,
      "outputs": [
        {
          "output_type": "stream",
          "text": [
            "(7352, 128, 9)\n"
          ],
          "name": "stdout"
        }
      ]
    },
    {
      "metadata": {
        "id": "MwRtb-8ymqDz",
        "colab_type": "text"
      },
      "cell_type": "markdown",
      "source": [
        "\n",
        "#### Explaining the shape of the data \n",
        "There are 7,352 data points that are classified as doing one of those activities <br>\n",
        "There are 128 time steps <br>\n",
        "There are 9 values for each time step for each data point for the x,y,z values of the body \n",
        "acceleration, general acceleration and gyrscope reading. <br>"
      ]
    },
    {
      "metadata": {
        "id": "V-8mOh7cm75k",
        "colab_type": "text"
      },
      "cell_type": "markdown",
      "source": [
        "### Use train_test_split to create training and validation data and labels"
      ]
    },
    {
      "metadata": {
        "id": "buuR3HH9yTOw",
        "colab_type": "code",
        "colab": {}
      },
      "cell_type": "code",
      "source": [
        "# your code here\n",
        "xtrain, xval, ytrain, yval = train_test_split(X_train, labels_train, train_size=.75, random_state=0);"
      ],
      "execution_count": 0,
      "outputs": []
    },
    {
      "metadata": {
        "id": "roTpeSQMnKHa",
        "colab_type": "text"
      },
      "cell_type": "markdown",
      "source": [
        "One hot coding is when each row represents one label and it the nonzero column represents what the label is<br>\n",
        " [0,0,0,0,0,1] <br>\n",
        "           ^ This label is LAYING, which was previously represented with a 5\n",
        "           <br><br>"
      ]
    },
    {
      "metadata": {
        "id": "0LiLobJZnscs",
        "colab_type": "text"
      },
      "cell_type": "markdown",
      "source": [
        "### One hot encoding functions are provided at the bottom of this notebook <br> Use these functions to convert the training, validation and testing labels"
      ]
    },
    {
      "metadata": {
        "id": "gZQJY0rYnKeC",
        "colab_type": "code",
        "colab": {}
      },
      "cell_type": "code",
      "source": [
        "# your code here\n",
        "ytrainhot = one_hot(ytrain)\n",
        "yvalhot = one_hot(yval)\n",
        "ytesthot = one_hot(labels_test)"
      ],
      "execution_count": 0,
      "outputs": []
    },
    {
      "metadata": {
        "id": "7bi9-LMuotEG",
        "colab_type": "text"
      },
      "cell_type": "markdown",
      "source": [
        "### Define your Keras model <br>\n",
        "You wlil want to use\n",
        "\n",
        "See for examples on creating Keras modelshttps://github.com/keras-team/keras/blob/master/examples/mnist_cnn.py"
      ]
    },
    {
      "metadata": {
        "id": "9mwwpV8upQYD",
        "colab_type": "code",
        "colab": {
          "base_uri": "https://localhost:8080/",
          "height": 255
        },
        "outputId": "9cdf5197-c005-48a6-f59a-b88d4f9437ab"
      },
      "cell_type": "code",
      "source": [
        "# fill in with your code below\n",
        "input_shape=(128,9)\n",
        "model = keras.Sequential()\n",
        "model.add(tf.keras.layers.Convolution1D(filters=18, kernel_size=3, input_shape=input_shape, activation='relu'))# add convolutional layer )\n",
        "model.add(tf.keras.layers.GlobalMaxPooling1D()) # add pooling layer )\n",
        "model.add(tf.keras.layers.Dense(6, activation='sigmoid')) # what layer is needed to output the predict results )\n",
        "print(model.summary())  # view model\n",
        "    \n",
        "    \n"
      ],
      "execution_count": 48,
      "outputs": [
        {
          "output_type": "stream",
          "text": [
            "_________________________________________________________________\n",
            "Layer (type)                 Output Shape              Param #   \n",
            "=================================================================\n",
            "conv1d_11 (Conv1D)           (None, 126, 18)           504       \n",
            "_________________________________________________________________\n",
            "global_max_pooling1d (Global (None, 18)                0         \n",
            "_________________________________________________________________\n",
            "dense_1 (Dense)              (None, 6)                 114       \n",
            "=================================================================\n",
            "Total params: 618\n",
            "Trainable params: 618\n",
            "Non-trainable params: 0\n",
            "_________________________________________________________________\n",
            "None\n"
          ],
          "name": "stdout"
        }
      ]
    },
    {
      "metadata": {
        "id": "X844AtBlqV1Y",
        "colab_type": "text"
      },
      "cell_type": "markdown",
      "source": [
        "### Compile your model"
      ]
    },
    {
      "metadata": {
        "id": "6KSPl0lMqUUZ",
        "colab_type": "code",
        "colab": {}
      },
      "cell_type": "code",
      "source": [
        "lr = .0008 # choose a learning rate, this will be a good paramter to tune\n",
        "model.compile( optimizer=tf.train.AdamOptimizer(lr), loss=keras.losses.categorical_crossentropy, metrics = ['accuracy'] )"
      ],
      "execution_count": 0,
      "outputs": []
    },
    {
      "metadata": {
        "id": "pBOK_ZaCq6XR",
        "colab_type": "text"
      },
      "cell_type": "markdown",
      "source": [
        "### Fit your model"
      ]
    },
    {
      "metadata": {
        "id": "6ksWXRzrrCzL",
        "colab_type": "code",
        "colab": {
          "base_uri": "https://localhost:8080/",
          "height": 28274
        },
        "outputId": "83572640-2d5b-4f44-add3-461e37af641b"
      },
      "cell_type": "code",
      "source": [
        "history = model.fit(xtrain,\n",
        "                    ytrainhot,\n",
        "                    epochs= 10000,\n",
        "                    batch_size= 50,\n",
        "                    validation_data=(xval, yvalhot),  # your validation data, val labels),\n",
        "                    verbose=1 \n",
        "                    )"
      ],
      "execution_count": 0,
      "outputs": [
        {
          "output_type": "stream",
          "text": [
            "Train on 5514 samples, validate on 1838 samples\n",
            "Epoch 1/10000\n",
            "5514/5514 [==============================] - 1s 230us/step - loss: 0.0815 - acc: 0.9634 - val_loss: 0.1003 - val_acc: 0.9614\n",
            "Epoch 2/10000\n",
            "5514/5514 [==============================] - 1s 244us/step - loss: 0.0807 - acc: 0.9657 - val_loss: 0.0999 - val_acc: 0.9630\n",
            "Epoch 3/10000\n",
            "5514/5514 [==============================] - 2s 293us/step - loss: 0.0804 - acc: 0.9664 - val_loss: 0.0997 - val_acc: 0.9635\n",
            "Epoch 4/10000\n",
            "5514/5514 [==============================] - 2s 297us/step - loss: 0.0804 - acc: 0.9654 - val_loss: 0.0996 - val_acc: 0.9635\n",
            "Epoch 5/10000\n",
            "5514/5514 [==============================] - 2s 293us/step - loss: 0.0802 - acc: 0.9661 - val_loss: 0.0996 - val_acc: 0.9635\n",
            "Epoch 6/10000\n",
            "5514/5514 [==============================] - 2s 294us/step - loss: 0.0801 - acc: 0.9657 - val_loss: 0.0995 - val_acc: 0.9657\n",
            "Epoch 7/10000\n",
            "3050/5514 [===============>..............] - ETA: 0s - loss: 0.0731 - acc: 0.9715"
          ],
          "name": "stdout"
        },
        {
          "output_type": "stream",
          "text": [
            "5514/5514 [==============================] - 2s 299us/step - loss: 0.0801 - acc: 0.9664 - val_loss: 0.0995 - val_acc: 0.9641\n",
            "Epoch 8/10000\n",
            "5514/5514 [==============================] - 2s 298us/step - loss: 0.0802 - acc: 0.9657 - val_loss: 0.0995 - val_acc: 0.9635\n",
            "Epoch 9/10000\n",
            "5514/5514 [==============================] - 2s 300us/step - loss: 0.0800 - acc: 0.9659 - val_loss: 0.0994 - val_acc: 0.9646\n",
            "Epoch 10/10000\n",
            "5514/5514 [==============================] - 2s 295us/step - loss: 0.0800 - acc: 0.9666 - val_loss: 0.0995 - val_acc: 0.9619\n",
            "Epoch 11/10000\n",
            "5514/5514 [==============================] - 2s 287us/step - loss: 0.0800 - acc: 0.9652 - val_loss: 0.0994 - val_acc: 0.9657\n",
            "Epoch 12/10000\n",
            "5514/5514 [==============================] - 2s 288us/step - loss: 0.0802 - acc: 0.9661 - val_loss: 0.0993 - val_acc: 0.9657\n",
            "Epoch 13/10000\n",
            "5250/5514 [===========================>..] - ETA: 0s - loss: 0.0792 - acc: 0.9665"
          ],
          "name": "stdout"
        },
        {
          "output_type": "stream",
          "text": [
            "5514/5514 [==============================] - 2s 291us/step - loss: 0.0800 - acc: 0.9663 - val_loss: 0.0993 - val_acc: 0.9635\n",
            "Epoch 14/10000\n",
            "5514/5514 [==============================] - 2s 288us/step - loss: 0.0801 - acc: 0.9648 - val_loss: 0.0993 - val_acc: 0.9657\n",
            "Epoch 15/10000\n",
            "5514/5514 [==============================] - 2s 288us/step - loss: 0.0800 - acc: 0.9661 - val_loss: 0.0992 - val_acc: 0.9652\n",
            "Epoch 16/10000\n",
            "5514/5514 [==============================] - 2s 292us/step - loss: 0.0798 - acc: 0.9668 - val_loss: 0.0997 - val_acc: 0.9630\n",
            "Epoch 17/10000\n",
            "5514/5514 [==============================] - 2s 290us/step - loss: 0.0802 - acc: 0.9659 - val_loss: 0.0993 - val_acc: 0.9619\n",
            "Epoch 18/10000\n",
            "5514/5514 [==============================] - 2s 290us/step - loss: 0.0802 - acc: 0.9655 - val_loss: 0.0994 - val_acc: 0.9635\n",
            "Epoch 19/10000\n",
            "5514/5514 [==============================] - 2s 292us/step - loss: 0.0798 - acc: 0.9655 - val_loss: 0.0992 - val_acc: 0.9625\n"
          ],
          "name": "stdout"
        },
        {
          "output_type": "stream",
          "text": [
            "Epoch 20/10000\n",
            "5514/5514 [==============================] - 2s 297us/step - loss: 0.0798 - acc: 0.9655 - val_loss: 0.0991 - val_acc: 0.9635\n",
            "Epoch 21/10000\n",
            "5514/5514 [==============================] - 2s 298us/step - loss: 0.0798 - acc: 0.9661 - val_loss: 0.0993 - val_acc: 0.9635\n",
            "Epoch 22/10000\n",
            "5514/5514 [==============================] - 2s 297us/step - loss: 0.0798 - acc: 0.9645 - val_loss: 0.0990 - val_acc: 0.9641\n",
            "Epoch 23/10000\n",
            "5514/5514 [==============================] - 2s 294us/step - loss: 0.0797 - acc: 0.9663 - val_loss: 0.0990 - val_acc: 0.9625\n",
            "Epoch 24/10000\n",
            "5514/5514 [==============================] - 2s 294us/step - loss: 0.0796 - acc: 0.9652 - val_loss: 0.0989 - val_acc: 0.9652\n",
            "Epoch 25/10000\n",
            "5514/5514 [==============================] - 2s 296us/step - loss: 0.0798 - acc: 0.9668 - val_loss: 0.0989 - val_acc: 0.9657\n",
            "Epoch 26/10000\n",
            "4450/5514 [=======================>......] - ETA: 0s - loss: 0.0832 - acc: 0.9636"
          ],
          "name": "stdout"
        },
        {
          "output_type": "stream",
          "text": [
            "5514/5514 [==============================] - 2s 292us/step - loss: 0.0796 - acc: 0.9663 - val_loss: 0.0991 - val_acc: 0.9668\n",
            "Epoch 27/10000\n",
            "5514/5514 [==============================] - 2s 293us/step - loss: 0.0797 - acc: 0.9661 - val_loss: 0.0986 - val_acc: 0.9641\n",
            "Epoch 28/10000\n",
            "5514/5514 [==============================] - 2s 294us/step - loss: 0.0796 - acc: 0.9663 - val_loss: 0.0993 - val_acc: 0.9619\n",
            "Epoch 29/10000\n",
            "5514/5514 [==============================] - 2s 296us/step - loss: 0.0798 - acc: 0.9657 - val_loss: 0.0996 - val_acc: 0.9619\n",
            "Epoch 30/10000\n",
            "5514/5514 [==============================] - 2s 296us/step - loss: 0.0793 - acc: 0.9646 - val_loss: 0.0988 - val_acc: 0.9668\n",
            "Epoch 31/10000\n",
            "5514/5514 [==============================] - 2s 298us/step - loss: 0.0792 - acc: 0.9663 - val_loss: 0.0993 - val_acc: 0.9663\n",
            "Epoch 32/10000\n",
            "5450/5514 [============================>.] - ETA: 0s - loss: 0.0794 - acc: 0.9673"
          ],
          "name": "stdout"
        },
        {
          "output_type": "stream",
          "text": [
            "5514/5514 [==============================] - 2s 295us/step - loss: 0.0795 - acc: 0.9672 - val_loss: 0.0985 - val_acc: 0.9630\n",
            "Epoch 33/10000\n",
            "5514/5514 [==============================] - 2s 293us/step - loss: 0.0794 - acc: 0.9655 - val_loss: 0.0987 - val_acc: 0.9630\n",
            "Epoch 34/10000\n",
            "5514/5514 [==============================] - 2s 294us/step - loss: 0.0794 - acc: 0.9663 - val_loss: 0.1001 - val_acc: 0.9614\n",
            "Epoch 35/10000\n",
            "5514/5514 [==============================] - 2s 293us/step - loss: 0.0796 - acc: 0.9661 - val_loss: 0.0982 - val_acc: 0.9657\n",
            "Epoch 36/10000\n",
            "5514/5514 [==============================] - 2s 298us/step - loss: 0.0794 - acc: 0.9657 - val_loss: 0.0985 - val_acc: 0.9635\n",
            "Epoch 37/10000\n",
            "5514/5514 [==============================] - 2s 302us/step - loss: 0.0796 - acc: 0.9652 - val_loss: 0.0985 - val_acc: 0.9630\n",
            "Epoch 38/10000\n",
            "5514/5514 [==============================] - 2s 301us/step - loss: 0.0790 - acc: 0.9663 - val_loss: 0.0984 - val_acc: 0.9668\n"
          ],
          "name": "stdout"
        },
        {
          "output_type": "stream",
          "text": [
            "Epoch 39/10000\n",
            "5514/5514 [==============================] - 2s 303us/step - loss: 0.0792 - acc: 0.9659 - val_loss: 0.0982 - val_acc: 0.9657\n",
            "Epoch 40/10000\n",
            "5514/5514 [==============================] - 2s 303us/step - loss: 0.0793 - acc: 0.9650 - val_loss: 0.0980 - val_acc: 0.9657\n",
            "Epoch 41/10000\n",
            "5514/5514 [==============================] - 2s 301us/step - loss: 0.0793 - acc: 0.9670 - val_loss: 0.0982 - val_acc: 0.9641\n",
            "Epoch 42/10000\n",
            "5514/5514 [==============================] - 2s 303us/step - loss: 0.0790 - acc: 0.9654 - val_loss: 0.0983 - val_acc: 0.9657\n",
            "Epoch 43/10000\n",
            "5514/5514 [==============================] - 2s 303us/step - loss: 0.0788 - acc: 0.9663 - val_loss: 0.0986 - val_acc: 0.9663\n",
            "Epoch 44/10000\n",
            "5514/5514 [==============================] - 2s 309us/step - loss: 0.0789 - acc: 0.9659 - val_loss: 0.0994 - val_acc: 0.9619\n",
            "Epoch 45/10000\n",
            "4250/5514 [======================>.......] - ETA: 0s - loss: 0.0828 - acc: 0.9638"
          ],
          "name": "stdout"
        },
        {
          "output_type": "stream",
          "text": [
            "5514/5514 [==============================] - 2s 306us/step - loss: 0.0790 - acc: 0.9650 - val_loss: 0.0983 - val_acc: 0.9641\n",
            "Epoch 46/10000\n",
            "5514/5514 [==============================] - 2s 304us/step - loss: 0.0785 - acc: 0.9655 - val_loss: 0.0985 - val_acc: 0.9663\n",
            "Epoch 47/10000\n",
            "5514/5514 [==============================] - 2s 305us/step - loss: 0.0789 - acc: 0.9655 - val_loss: 0.0983 - val_acc: 0.9652\n",
            "Epoch 48/10000\n",
            "5514/5514 [==============================] - 2s 305us/step - loss: 0.0788 - acc: 0.9663 - val_loss: 0.0990 - val_acc: 0.9657\n",
            "Epoch 49/10000\n",
            "5514/5514 [==============================] - 2s 301us/step - loss: 0.0786 - acc: 0.9646 - val_loss: 0.0985 - val_acc: 0.9652\n",
            "Epoch 50/10000\n",
            "5514/5514 [==============================] - 2s 304us/step - loss: 0.0786 - acc: 0.9659 - val_loss: 0.0988 - val_acc: 0.9630\n",
            "Epoch 51/10000\n",
            "5400/5514 [============================>.] - ETA: 0s - loss: 0.0787 - acc: 0.9659"
          ],
          "name": "stdout"
        },
        {
          "output_type": "stream",
          "text": [
            "5514/5514 [==============================] - 2s 308us/step - loss: 0.0782 - acc: 0.9663 - val_loss: 0.0983 - val_acc: 0.9657\n",
            "Epoch 52/10000\n",
            "5514/5514 [==============================] - 2s 309us/step - loss: 0.0789 - acc: 0.9663 - val_loss: 0.0997 - val_acc: 0.9614\n",
            "Epoch 53/10000\n",
            "5514/5514 [==============================] - 2s 307us/step - loss: 0.0779 - acc: 0.9666 - val_loss: 0.1005 - val_acc: 0.9608\n",
            "Epoch 54/10000\n",
            "5514/5514 [==============================] - 2s 306us/step - loss: 0.0780 - acc: 0.9661 - val_loss: 0.0985 - val_acc: 0.9657\n",
            "Epoch 55/10000\n",
            "5514/5514 [==============================] - 2s 308us/step - loss: 0.0782 - acc: 0.9672 - val_loss: 0.0988 - val_acc: 0.9630\n",
            "Epoch 56/10000\n",
            "5514/5514 [==============================] - 2s 310us/step - loss: 0.0781 - acc: 0.9646 - val_loss: 0.0992 - val_acc: 0.9657\n",
            "Epoch 57/10000\n",
            "5200/5514 [===========================>..] - ETA: 0s - loss: 0.0792 - acc: 0.9673"
          ],
          "name": "stdout"
        },
        {
          "output_type": "stream",
          "text": [
            "5514/5514 [==============================] - 2s 304us/step - loss: 0.0777 - acc: 0.9677 - val_loss: 0.1015 - val_acc: 0.9608\n",
            "Epoch 58/10000\n",
            "5514/5514 [==============================] - 2s 305us/step - loss: 0.0781 - acc: 0.9663 - val_loss: 0.0989 - val_acc: 0.9663\n",
            "Epoch 59/10000\n",
            "5514/5514 [==============================] - 2s 304us/step - loss: 0.0783 - acc: 0.9663 - val_loss: 0.0991 - val_acc: 0.9657\n",
            "Epoch 60/10000\n",
            "5514/5514 [==============================] - 2s 302us/step - loss: 0.0776 - acc: 0.9674 - val_loss: 0.1006 - val_acc: 0.9614\n",
            "Epoch 61/10000\n",
            "5514/5514 [==============================] - 2s 302us/step - loss: 0.0776 - acc: 0.9670 - val_loss: 0.0992 - val_acc: 0.9657\n",
            "Epoch 62/10000\n",
            "5514/5514 [==============================] - 2s 304us/step - loss: 0.0774 - acc: 0.9666 - val_loss: 0.0997 - val_acc: 0.9630\n",
            "Epoch 63/10000\n",
            "5514/5514 [==============================] - 2s 304us/step - loss: 0.0774 - acc: 0.9650 - val_loss: 0.0997 - val_acc: 0.9625\n"
          ],
          "name": "stdout"
        },
        {
          "output_type": "stream",
          "text": [
            "Epoch 64/10000\n",
            "5514/5514 [==============================] - 2s 307us/step - loss: 0.0771 - acc: 0.9654 - val_loss: 0.0998 - val_acc: 0.9630\n",
            "Epoch 65/10000\n",
            "5514/5514 [==============================] - 2s 306us/step - loss: 0.0770 - acc: 0.9652 - val_loss: 0.0998 - val_acc: 0.9657\n",
            "Epoch 66/10000\n",
            "5514/5514 [==============================] - 2s 305us/step - loss: 0.0770 - acc: 0.9675 - val_loss: 0.1006 - val_acc: 0.9625\n",
            "Epoch 67/10000\n",
            "5514/5514 [==============================] - 2s 300us/step - loss: 0.0769 - acc: 0.9674 - val_loss: 0.0996 - val_acc: 0.9652\n",
            "Epoch 68/10000\n",
            "5514/5514 [==============================] - 2s 306us/step - loss: nan - acc: 0.3584 - val_loss: nan - val_acc: 0.1676\n",
            "Epoch 69/10000\n",
            "5514/5514 [==============================] - 2s 305us/step - loss: nan - acc: 0.1665 - val_loss: nan - val_acc: 0.1676\n",
            "Epoch 70/10000\n",
            "4450/5514 [=======================>......] - ETA: 0s - loss: nan - acc: 0.1679"
          ],
          "name": "stdout"
        },
        {
          "output_type": "stream",
          "text": [
            "5514/5514 [==============================] - 2s 306us/step - loss: nan - acc: 0.1665 - val_loss: nan - val_acc: 0.1676\n",
            "Epoch 71/10000\n",
            "5514/5514 [==============================] - 2s 306us/step - loss: nan - acc: 0.1665 - val_loss: nan - val_acc: 0.1676\n",
            "Epoch 72/10000\n",
            "5514/5514 [==============================] - 2s 307us/step - loss: nan - acc: 0.1665 - val_loss: nan - val_acc: 0.1676\n",
            "Epoch 73/10000\n",
            "5514/5514 [==============================] - 2s 309us/step - loss: nan - acc: 0.1665 - val_loss: nan - val_acc: 0.1676\n",
            "Epoch 74/10000\n",
            "5514/5514 [==============================] - 2s 305us/step - loss: nan - acc: 0.1665 - val_loss: nan - val_acc: 0.1676\n",
            "Epoch 75/10000\n",
            "5514/5514 [==============================] - 2s 306us/step - loss: nan - acc: 0.1665 - val_loss: nan - val_acc: 0.1676\n",
            "Epoch 76/10000\n",
            "5514/5514 [==============================] - 2s 302us/step - loss: nan - acc: 0.1665 - val_loss: nan - val_acc: 0.1676\n",
            "Epoch 77/10000\n",
            "  50/5514 [..............................] - ETA: 1s - loss: nan - acc: 0.1800"
          ],
          "name": "stdout"
        },
        {
          "output_type": "stream",
          "text": [
            "5514/5514 [==============================] - 2s 305us/step - loss: nan - acc: 0.1665 - val_loss: nan - val_acc: 0.1676\n",
            "Epoch 78/10000\n",
            "5514/5514 [==============================] - 2s 310us/step - loss: nan - acc: 0.1665 - val_loss: nan - val_acc: 0.1676\n",
            "Epoch 79/10000\n",
            "5514/5514 [==============================] - 2s 314us/step - loss: nan - acc: 0.1665 - val_loss: nan - val_acc: 0.1676\n",
            "Epoch 80/10000\n",
            "5514/5514 [==============================] - 2s 310us/step - loss: nan - acc: 0.1665 - val_loss: nan - val_acc: 0.1676\n",
            "Epoch 81/10000\n",
            "5514/5514 [==============================] - 2s 311us/step - loss: nan - acc: 0.1665 - val_loss: nan - val_acc: 0.1676\n",
            "Epoch 82/10000\n",
            "5514/5514 [==============================] - 2s 308us/step - loss: nan - acc: 0.1665 - val_loss: nan - val_acc: 0.1676\n",
            "Epoch 83/10000\n",
            "5400/5514 [============================>.] - ETA: 0s - loss: nan - acc: 0.1665"
          ],
          "name": "stdout"
        },
        {
          "output_type": "stream",
          "text": [
            "\b\b\b\b\b\b\b\b\b\b\b\b\b\b\b\b\b\b\b\b\b\b\b\b\b\b\b\b\b\b\b\b\b\b\b\b\b\b\b\b\b\b\b\b\b\b\b\b\b\b\b\b\b\b\b\b\b\b\b\b\b\b\b\b\b\b\b\b\b\b\b\b\b\b\b\b\b\b\r5514/5514 [==============================] - 2s 312us/step - loss: nan - acc: 0.1665 - val_loss: nan - val_acc: 0.1676\n",
            "Epoch 84/10000\n",
            "5514/5514 [==============================] - 2s 314us/step - loss: nan - acc: 0.1665 - val_loss: nan - val_acc: 0.1676\n",
            "Epoch 85/10000\n",
            "5514/5514 [==============================] - 2s 307us/step - loss: nan - acc: 0.1665 - val_loss: nan - val_acc: 0.1676\n",
            "Epoch 86/10000\n",
            "5514/5514 [==============================] - 2s 309us/step - loss: nan - acc: 0.1665 - val_loss: nan - val_acc: 0.1676\n",
            "Epoch 87/10000\n",
            "5514/5514 [==============================] - 2s 308us/step - loss: nan - acc: 0.1665 - val_loss: nan - val_acc: 0.1676\n",
            "Epoch 88/10000\n",
            "5514/5514 [==============================] - 2s 316us/step - loss: nan - acc: 0.1665 - val_loss: nan - val_acc: 0.1676\n",
            "Epoch 89/10000\n",
            "3200/5514 [================>.............] - ETA: 0s - loss: nan - acc: 0.1719"
          ],
          "name": "stdout"
        },
        {
          "output_type": "stream",
          "text": [
            "5514/5514 [==============================] - 2s 308us/step - loss: nan - acc: 0.1665 - val_loss: nan - val_acc: 0.1676\n",
            "Epoch 90/10000\n",
            "5514/5514 [==============================] - 2s 304us/step - loss: nan - acc: 0.1665 - val_loss: nan - val_acc: 0.1676\n",
            "Epoch 91/10000\n",
            "5514/5514 [==============================] - 2s 309us/step - loss: nan - acc: 0.1665 - val_loss: nan - val_acc: 0.1676\n",
            "Epoch 92/10000\n",
            "5514/5514 [==============================] - 2s 307us/step - loss: nan - acc: 0.1665 - val_loss: nan - val_acc: 0.1676\n",
            "Epoch 93/10000\n",
            "5514/5514 [==============================] - 2s 307us/step - loss: nan - acc: 0.1665 - val_loss: nan - val_acc: 0.1676\n",
            "Epoch 94/10000\n",
            "5514/5514 [==============================] - 2s 311us/step - loss: nan - acc: 0.1665 - val_loss: nan - val_acc: 0.1676\n",
            "Epoch 95/10000\n",
            "5514/5514 [==============================] - 2s 312us/step - loss: nan - acc: 0.1665 - val_loss: nan - val_acc: 0.1676\n"
          ],
          "name": "stdout"
        },
        {
          "output_type": "stream",
          "text": [
            "Epoch 96/10000\n",
            "5514/5514 [==============================] - 2s 309us/step - loss: nan - acc: 0.1665 - val_loss: nan - val_acc: 0.1676\n",
            "Epoch 97/10000\n",
            "5514/5514 [==============================] - 2s 310us/step - loss: nan - acc: 0.1665 - val_loss: nan - val_acc: 0.1676\n",
            "Epoch 98/10000\n",
            "5514/5514 [==============================] - 2s 300us/step - loss: nan - acc: 0.1665 - val_loss: nan - val_acc: 0.1676\n",
            "Epoch 99/10000\n",
            "5514/5514 [==============================] - 2s 301us/step - loss: nan - acc: 0.1665 - val_loss: nan - val_acc: 0.1676\n",
            "Epoch 100/10000\n",
            "5514/5514 [==============================] - 2s 308us/step - loss: nan - acc: 0.1665 - val_loss: nan - val_acc: 0.1676\n",
            "Epoch 101/10000\n",
            "5514/5514 [==============================] - 2s 300us/step - loss: nan - acc: 0.1665 - val_loss: nan - val_acc: 0.1676\n",
            "Epoch 102/10000\n",
            "5250/5514 [===========================>..] - ETA: 0s - loss: nan - acc: 0.1669"
          ],
          "name": "stdout"
        },
        {
          "output_type": "stream",
          "text": [
            "5514/5514 [==============================] - 2s 304us/step - loss: nan - acc: 0.1665 - val_loss: nan - val_acc: 0.1676\n",
            "Epoch 103/10000\n",
            "5514/5514 [==============================] - 2s 310us/step - loss: nan - acc: 0.1665 - val_loss: nan - val_acc: 0.1676\n",
            "Epoch 104/10000\n",
            "5514/5514 [==============================] - 2s 305us/step - loss: nan - acc: 0.1665 - val_loss: nan - val_acc: 0.1676\n",
            "Epoch 105/10000\n",
            "5514/5514 [==============================] - 2s 304us/step - loss: nan - acc: 0.1665 - val_loss: nan - val_acc: 0.1676\n",
            "Epoch 106/10000\n",
            "5514/5514 [==============================] - 2s 306us/step - loss: nan - acc: 0.1665 - val_loss: nan - val_acc: 0.1676\n",
            "Epoch 107/10000\n",
            "5514/5514 [==============================] - 2s 308us/step - loss: nan - acc: 0.1665 - val_loss: nan - val_acc: 0.1676\n",
            "Epoch 108/10000\n",
            "5514/5514 [==============================] - 2s 304us/step - loss: nan - acc: 0.1665 - val_loss: nan - val_acc: 0.1676\n",
            "Epoch 109/10000\n",
            " 250/5514 [>.............................] - ETA: 1s - loss: nan - acc: 0.1680"
          ],
          "name": "stdout"
        },
        {
          "output_type": "stream",
          "text": [
            "5514/5514 [==============================] - 2s 306us/step - loss: nan - acc: 0.1665 - val_loss: nan - val_acc: 0.1676\n",
            "Epoch 110/10000\n",
            "5514/5514 [==============================] - 2s 308us/step - loss: nan - acc: 0.1665 - val_loss: nan - val_acc: 0.1676\n",
            "Epoch 111/10000\n",
            "5514/5514 [==============================] - 2s 304us/step - loss: nan - acc: 0.1665 - val_loss: nan - val_acc: 0.1676\n",
            "Epoch 112/10000\n",
            "5514/5514 [==============================] - 2s 309us/step - loss: nan - acc: 0.1665 - val_loss: nan - val_acc: 0.1676\n",
            "Epoch 113/10000\n",
            "5514/5514 [==============================] - 2s 301us/step - loss: nan - acc: 0.1665 - val_loss: nan - val_acc: 0.1676\n",
            "Epoch 114/10000\n",
            "5514/5514 [==============================] - 2s 302us/step - loss: nan - acc: 0.1665 - val_loss: nan - val_acc: 0.1676\n",
            "Epoch 115/10000\n",
            "5514/5514 [==============================] - 2s 304us/step - loss: nan - acc: 0.1665 - val_loss: nan - val_acc: 0.1676\n",
            "Epoch 116/10000\n",
            "  50/5514 [..............................] - ETA: 1s - loss: nan - acc: 0.1600"
          ],
          "name": "stdout"
        },
        {
          "output_type": "stream",
          "text": [
            "5514/5514 [==============================] - 2s 306us/step - loss: nan - acc: 0.1665 - val_loss: nan - val_acc: 0.1676\n",
            "Epoch 117/10000\n",
            "5514/5514 [==============================] - 2s 304us/step - loss: nan - acc: 0.1665 - val_loss: nan - val_acc: 0.1676\n",
            "Epoch 118/10000\n",
            "5514/5514 [==============================] - 2s 301us/step - loss: nan - acc: 0.1665 - val_loss: nan - val_acc: 0.1676\n",
            "Epoch 119/10000\n",
            "5514/5514 [==============================] - 2s 302us/step - loss: nan - acc: 0.1665 - val_loss: nan - val_acc: 0.1676\n",
            "Epoch 120/10000\n",
            "5514/5514 [==============================] - 2s 301us/step - loss: nan - acc: 0.1665 - val_loss: nan - val_acc: 0.1676\n",
            "Epoch 121/10000\n",
            "5514/5514 [==============================] - 2s 301us/step - loss: nan - acc: 0.1665 - val_loss: nan - val_acc: 0.1676\n",
            "Epoch 122/10000\n",
            "5514/5514 [==============================] - 2s 304us/step - loss: nan - acc: 0.1665 - val_loss: nan - val_acc: 0.1676\n",
            "Epoch 123/10000\n"
          ],
          "name": "stdout"
        },
        {
          "output_type": "stream",
          "text": [
            "5514/5514 [==============================] - 2s 303us/step - loss: nan - acc: 0.1665 - val_loss: nan - val_acc: 0.1676\n",
            "Epoch 124/10000\n",
            "5514/5514 [==============================] - 2s 302us/step - loss: nan - acc: 0.1665 - val_loss: nan - val_acc: 0.1676\n",
            "Epoch 125/10000\n",
            "5514/5514 [==============================] - 2s 303us/step - loss: nan - acc: 0.1665 - val_loss: nan - val_acc: 0.1676\n",
            "Epoch 126/10000\n",
            "5514/5514 [==============================] - 2s 305us/step - loss: nan - acc: 0.1665 - val_loss: nan - val_acc: 0.1676\n",
            "Epoch 127/10000\n",
            "5514/5514 [==============================] - 2s 300us/step - loss: nan - acc: 0.1665 - val_loss: nan - val_acc: 0.1676\n",
            "Epoch 128/10000\n",
            "5514/5514 [==============================] - 2s 301us/step - loss: nan - acc: 0.1665 - val_loss: nan - val_acc: 0.1676\n",
            "Epoch 129/10000\n",
            "5514/5514 [==============================] - 2s 302us/step - loss: nan - acc: 0.1665 - val_loss: nan - val_acc: 0.1676\n",
            "Epoch 130/10000\n",
            "  50/5514 [..............................] - ETA: 1s - loss: nan - acc: 0.2400"
          ],
          "name": "stdout"
        },
        {
          "output_type": "stream",
          "text": [
            "5514/5514 [==============================] - 2s 300us/step - loss: nan - acc: 0.1665 - val_loss: nan - val_acc: 0.1676\n",
            "Epoch 131/10000\n",
            "5514/5514 [==============================] - 2s 303us/step - loss: nan - acc: 0.1665 - val_loss: nan - val_acc: 0.1676\n",
            "Epoch 132/10000\n",
            "5514/5514 [==============================] - 2s 304us/step - loss: nan - acc: 0.1665 - val_loss: nan - val_acc: 0.1676\n",
            "Epoch 133/10000\n",
            "5514/5514 [==============================] - 2s 304us/step - loss: nan - acc: 0.1665 - val_loss: nan - val_acc: 0.1676\n",
            "Epoch 134/10000\n",
            "5514/5514 [==============================] - 2s 304us/step - loss: nan - acc: 0.1665 - val_loss: nan - val_acc: 0.1676\n",
            "Epoch 135/10000\n",
            "5514/5514 [==============================] - 2s 307us/step - loss: nan - acc: 0.1665 - val_loss: nan - val_acc: 0.1676\n",
            "Epoch 136/10000\n",
            "5514/5514 [==============================] - 2s 305us/step - loss: nan - acc: 0.1665 - val_loss: nan - val_acc: 0.1676\n",
            "Epoch 137/10000\n",
            "  50/5514 [..............................] - ETA: 1s - loss: nan - acc: 0.1600"
          ],
          "name": "stdout"
        },
        {
          "output_type": "stream",
          "text": [
            "5514/5514 [==============================] - 2s 304us/step - loss: nan - acc: 0.1665 - val_loss: nan - val_acc: 0.1676\n",
            "Epoch 138/10000\n",
            "5514/5514 [==============================] - 2s 304us/step - loss: nan - acc: 0.1665 - val_loss: nan - val_acc: 0.1676\n",
            "Epoch 139/10000\n",
            "5514/5514 [==============================] - 2s 308us/step - loss: nan - acc: 0.1665 - val_loss: nan - val_acc: 0.1676\n",
            "Epoch 140/10000\n",
            "5514/5514 [==============================] - 2s 306us/step - loss: nan - acc: 0.1665 - val_loss: nan - val_acc: 0.1676\n",
            "Epoch 141/10000\n",
            "5514/5514 [==============================] - 2s 307us/step - loss: nan - acc: 0.1665 - val_loss: nan - val_acc: 0.1676\n",
            "Epoch 142/10000\n",
            "5514/5514 [==============================] - 2s 308us/step - loss: nan - acc: 0.1665 - val_loss: nan - val_acc: 0.1676\n",
            "Epoch 143/10000\n",
            "5514/5514 [==============================] - 2s 307us/step - loss: nan - acc: 0.1665 - val_loss: nan - val_acc: 0.1676\n"
          ],
          "name": "stdout"
        },
        {
          "output_type": "stream",
          "text": [
            "Epoch 144/10000\n",
            "5514/5514 [==============================] - 2s 308us/step - loss: nan - acc: 0.1665 - val_loss: nan - val_acc: 0.1676\n",
            "Epoch 145/10000\n",
            "5514/5514 [==============================] - 2s 306us/step - loss: nan - acc: 0.1665 - val_loss: nan - val_acc: 0.1676\n",
            "Epoch 146/10000\n",
            "5514/5514 [==============================] - 2s 306us/step - loss: nan - acc: 0.1665 - val_loss: nan - val_acc: 0.1676\n",
            "Epoch 147/10000\n",
            "5514/5514 [==============================] - 2s 300us/step - loss: nan - acc: 0.1665 - val_loss: nan - val_acc: 0.1676\n",
            "Epoch 148/10000\n",
            "5514/5514 [==============================] - 2s 300us/step - loss: nan - acc: 0.1665 - val_loss: nan - val_acc: 0.1676\n",
            "Epoch 149/10000\n",
            "5514/5514 [==============================] - 2s 299us/step - loss: nan - acc: 0.1665 - val_loss: nan - val_acc: 0.1676\n",
            "Epoch 150/10000\n",
            "5250/5514 [===========================>..] - ETA: 0s - loss: nan - acc: 0.1665"
          ],
          "name": "stdout"
        },
        {
          "output_type": "stream",
          "text": [
            "5514/5514 [==============================] - 2s 303us/step - loss: nan - acc: 0.1665 - val_loss: nan - val_acc: 0.1676\n",
            "Epoch 151/10000\n",
            "5514/5514 [==============================] - 2s 302us/step - loss: nan - acc: 0.1665 - val_loss: nan - val_acc: 0.1676\n",
            "Epoch 152/10000\n",
            "5514/5514 [==============================] - 2s 306us/step - loss: nan - acc: 0.1665 - val_loss: nan - val_acc: 0.1676\n",
            "Epoch 153/10000\n",
            "5514/5514 [==============================] - 2s 306us/step - loss: nan - acc: 0.1665 - val_loss: nan - val_acc: 0.1676\n",
            "Epoch 154/10000\n",
            "5514/5514 [==============================] - 2s 303us/step - loss: nan - acc: 0.1665 - val_loss: nan - val_acc: 0.1676\n",
            "Epoch 155/10000\n",
            "5514/5514 [==============================] - 2s 304us/step - loss: nan - acc: 0.1665 - val_loss: nan - val_acc: 0.1676\n",
            "Epoch 156/10000\n",
            "5514/5514 [==============================] - 2s 303us/step - loss: nan - acc: 0.1665 - val_loss: nan - val_acc: 0.1676\n",
            "Epoch 157/10000\n",
            " 450/5514 [=>............................] - ETA: 1s - loss: nan - acc: 0.1622"
          ],
          "name": "stdout"
        },
        {
          "output_type": "stream",
          "text": [
            "5514/5514 [==============================] - 2s 305us/step - loss: nan - acc: 0.1665 - val_loss: nan - val_acc: 0.1676\n",
            "Epoch 158/10000\n",
            "5514/5514 [==============================] - 2s 306us/step - loss: nan - acc: 0.1665 - val_loss: nan - val_acc: 0.1676\n",
            "Epoch 159/10000\n",
            "5514/5514 [==============================] - 2s 304us/step - loss: nan - acc: 0.1665 - val_loss: nan - val_acc: 0.1676\n",
            "Epoch 160/10000\n",
            "5514/5514 [==============================] - 2s 303us/step - loss: nan - acc: 0.1665 - val_loss: nan - val_acc: 0.1676\n",
            "Epoch 161/10000\n",
            "5514/5514 [==============================] - 2s 304us/step - loss: nan - acc: 0.1665 - val_loss: nan - val_acc: 0.1676\n",
            "Epoch 162/10000\n",
            "5514/5514 [==============================] - 2s 305us/step - loss: nan - acc: 0.1665 - val_loss: nan - val_acc: 0.1676\n",
            "Epoch 163/10000\n",
            "5514/5514 [==============================] - 2s 309us/step - loss: nan - acc: 0.1665 - val_loss: nan - val_acc: 0.1676\n"
          ],
          "name": "stdout"
        },
        {
          "output_type": "stream",
          "text": [
            "Epoch 164/10000\n",
            "5514/5514 [==============================] - 2s 306us/step - loss: nan - acc: 0.1665 - val_loss: nan - val_acc: 0.1676\n",
            "Epoch 165/10000\n",
            "5514/5514 [==============================] - 2s 301us/step - loss: nan - acc: 0.1665 - val_loss: nan - val_acc: 0.1676\n",
            "Epoch 166/10000\n",
            "5514/5514 [==============================] - 2s 292us/step - loss: nan - acc: 0.1665 - val_loss: nan - val_acc: 0.1676\n",
            "Epoch 167/10000\n",
            "5514/5514 [==============================] - 2s 294us/step - loss: nan - acc: 0.1665 - val_loss: nan - val_acc: 0.1676\n",
            "Epoch 168/10000\n",
            "5514/5514 [==============================] - 2s 297us/step - loss: nan - acc: 0.1665 - val_loss: nan - val_acc: 0.1676\n",
            "Epoch 169/10000\n",
            "5514/5514 [==============================] - 2s 303us/step - loss: nan - acc: 0.1665 - val_loss: nan - val_acc: 0.1676\n",
            "Epoch 170/10000\n",
            "5250/5514 [===========================>..] - ETA: 0s - loss: nan - acc: 0.1676"
          ],
          "name": "stdout"
        },
        {
          "output_type": "stream",
          "text": [
            "5514/5514 [==============================] - 2s 299us/step - loss: nan - acc: 0.1665 - val_loss: nan - val_acc: 0.1676\n",
            "Epoch 171/10000\n",
            "5514/5514 [==============================] - 2s 296us/step - loss: nan - acc: 0.1665 - val_loss: nan - val_acc: 0.1676\n",
            "Epoch 172/10000\n",
            "5514/5514 [==============================] - 2s 300us/step - loss: nan - acc: 0.1665 - val_loss: nan - val_acc: 0.1676\n",
            "Epoch 173/10000\n",
            "5514/5514 [==============================] - 2s 298us/step - loss: nan - acc: 0.1665 - val_loss: nan - val_acc: 0.1676\n",
            "Epoch 174/10000\n",
            "5514/5514 [==============================] - 2s 301us/step - loss: nan - acc: 0.1665 - val_loss: nan - val_acc: 0.1676\n",
            "Epoch 175/10000\n",
            "5514/5514 [==============================] - 2s 301us/step - loss: nan - acc: 0.1665 - val_loss: nan - val_acc: 0.1676\n",
            "Epoch 176/10000\n",
            "5514/5514 [==============================] - 2s 304us/step - loss: nan - acc: 0.1665 - val_loss: nan - val_acc: 0.1676\n",
            "Epoch 177/10000\n",
            " 250/5514 [>.............................] - ETA: 1s - loss: nan - acc: 0.1480"
          ],
          "name": "stdout"
        },
        {
          "output_type": "stream",
          "text": [
            "5514/5514 [==============================] - 2s 299us/step - loss: nan - acc: 0.1665 - val_loss: nan - val_acc: 0.1676\n",
            "Epoch 178/10000\n",
            "5514/5514 [==============================] - 2s 303us/step - loss: nan - acc: 0.1665 - val_loss: nan - val_acc: 0.1676\n",
            "Epoch 179/10000\n",
            "5514/5514 [==============================] - 2s 301us/step - loss: nan - acc: 0.1665 - val_loss: nan - val_acc: 0.1676\n",
            "Epoch 180/10000\n",
            "5514/5514 [==============================] - 2s 302us/step - loss: nan - acc: 0.1665 - val_loss: nan - val_acc: 0.1676\n",
            "Epoch 181/10000\n",
            "5514/5514 [==============================] - 2s 306us/step - loss: nan - acc: 0.1665 - val_loss: nan - val_acc: 0.1676\n",
            "Epoch 182/10000\n",
            "5514/5514 [==============================] - 2s 308us/step - loss: nan - acc: 0.1665 - val_loss: nan - val_acc: 0.1676\n",
            "Epoch 183/10000\n",
            "5514/5514 [==============================] - 2s 302us/step - loss: nan - acc: 0.1665 - val_loss: nan - val_acc: 0.1676\n",
            "Epoch 184/10000\n",
            "  50/5514 [..............................] - ETA: 1s - loss: nan - acc: 0.1400"
          ],
          "name": "stdout"
        },
        {
          "output_type": "stream",
          "text": [
            "5514/5514 [==============================] - 2s 301us/step - loss: nan - acc: 0.1665 - val_loss: nan - val_acc: 0.1676\n",
            "Epoch 185/10000\n",
            "5514/5514 [==============================] - 2s 295us/step - loss: nan - acc: 0.1665 - val_loss: nan - val_acc: 0.1676\n",
            "Epoch 186/10000\n",
            "5514/5514 [==============================] - 2s 298us/step - loss: nan - acc: 0.1665 - val_loss: nan - val_acc: 0.1676\n",
            "Epoch 187/10000\n",
            "5514/5514 [==============================] - 2s 299us/step - loss: nan - acc: 0.1665 - val_loss: nan - val_acc: 0.1676\n",
            "Epoch 188/10000\n",
            "5514/5514 [==============================] - 2s 297us/step - loss: nan - acc: 0.1665 - val_loss: nan - val_acc: 0.1676\n",
            "Epoch 189/10000\n",
            "5514/5514 [==============================] - 2s 301us/step - loss: nan - acc: 0.1665 - val_loss: nan - val_acc: 0.1676\n",
            "Epoch 190/10000\n",
            "5514/5514 [==============================] - 2s 299us/step - loss: nan - acc: 0.1665 - val_loss: nan - val_acc: 0.1676\n",
            "Epoch 191/10000\n",
            "  50/5514 [..............................] - ETA: 1s - loss: nan - acc: 0.1400"
          ],
          "name": "stdout"
        },
        {
          "output_type": "stream",
          "text": [
            "5514/5514 [==============================] - 2s 302us/step - loss: nan - acc: 0.1665 - val_loss: nan - val_acc: 0.1676\n",
            "Epoch 192/10000\n",
            "5514/5514 [==============================] - 2s 301us/step - loss: nan - acc: 0.1665 - val_loss: nan - val_acc: 0.1676\n",
            "Epoch 193/10000\n",
            "5514/5514 [==============================] - 2s 305us/step - loss: nan - acc: 0.1665 - val_loss: nan - val_acc: 0.1676\n",
            "Epoch 194/10000\n",
            "5514/5514 [==============================] - 2s 301us/step - loss: nan - acc: 0.1665 - val_loss: nan - val_acc: 0.1676\n",
            "Epoch 195/10000\n",
            "5514/5514 [==============================] - 2s 303us/step - loss: nan - acc: 0.1665 - val_loss: nan - val_acc: 0.1676\n",
            "Epoch 196/10000\n",
            "5514/5514 [==============================] - 2s 305us/step - loss: nan - acc: 0.1665 - val_loss: nan - val_acc: 0.1676\n",
            "Epoch 197/10000\n",
            "5514/5514 [==============================] - 2s 301us/step - loss: nan - acc: 0.1665 - val_loss: nan - val_acc: 0.1676\n",
            "Epoch 198/10000\n",
            "  50/5514 [..............................] - ETA: 1s - loss: nan - acc: 0.1800"
          ],
          "name": "stdout"
        },
        {
          "output_type": "stream",
          "text": [
            "5514/5514 [==============================] - 2s 300us/step - loss: nan - acc: 0.1665 - val_loss: nan - val_acc: 0.1676\n",
            "Epoch 199/10000\n",
            "5514/5514 [==============================] - 2s 301us/step - loss: nan - acc: 0.1665 - val_loss: nan - val_acc: 0.1676\n",
            "Epoch 200/10000\n",
            "5514/5514 [==============================] - 2s 306us/step - loss: nan - acc: 0.1665 - val_loss: nan - val_acc: 0.1676\n",
            "Epoch 201/10000\n",
            "5514/5514 [==============================] - 2s 301us/step - loss: nan - acc: 0.1665 - val_loss: nan - val_acc: 0.1676\n",
            "Epoch 202/10000\n",
            "5514/5514 [==============================] - 2s 305us/step - loss: nan - acc: 0.1665 - val_loss: nan - val_acc: 0.1676\n",
            "Epoch 203/10000\n",
            "5514/5514 [==============================] - 2s 299us/step - loss: nan - acc: 0.1665 - val_loss: nan - val_acc: 0.1676\n",
            "Epoch 204/10000\n",
            "5514/5514 [==============================] - 2s 300us/step - loss: nan - acc: 0.1665 - val_loss: nan - val_acc: 0.1676\n",
            "Epoch 205/10000\n",
            "  50/5514 [..............................] - ETA: 1s - loss: nan - acc: 0.2200"
          ],
          "name": "stdout"
        },
        {
          "output_type": "stream",
          "text": [
            "5514/5514 [==============================] - 2s 300us/step - loss: nan - acc: 0.1665 - val_loss: nan - val_acc: 0.1676\n",
            "Epoch 206/10000\n",
            "5514/5514 [==============================] - 2s 298us/step - loss: nan - acc: 0.1665 - val_loss: nan - val_acc: 0.1676\n",
            "Epoch 207/10000\n",
            "5514/5514 [==============================] - 2s 299us/step - loss: nan - acc: 0.1665 - val_loss: nan - val_acc: 0.1676\n",
            "Epoch 208/10000\n",
            "5514/5514 [==============================] - 2s 303us/step - loss: nan - acc: 0.1665 - val_loss: nan - val_acc: 0.1676\n",
            "Epoch 209/10000\n",
            "5514/5514 [==============================] - 2s 301us/step - loss: nan - acc: 0.1665 - val_loss: nan - val_acc: 0.1676\n",
            "Epoch 210/10000\n",
            "5514/5514 [==============================] - 2s 298us/step - loss: nan - acc: 0.1665 - val_loss: nan - val_acc: 0.1676\n",
            "Epoch 211/10000\n",
            "5514/5514 [==============================] - 2s 299us/step - loss: nan - acc: 0.1665 - val_loss: nan - val_acc: 0.1676\n",
            "Epoch 212/10000\n",
            "  50/5514 [..............................] - ETA: 1s - loss: nan - acc: 0.1400"
          ],
          "name": "stdout"
        },
        {
          "output_type": "stream",
          "text": [
            "5514/5514 [==============================] - 2s 294us/step - loss: nan - acc: 0.1665 - val_loss: nan - val_acc: 0.1676\n",
            "Epoch 213/10000\n",
            "5514/5514 [==============================] - 2s 302us/step - loss: nan - acc: 0.1665 - val_loss: nan - val_acc: 0.1676\n",
            "Epoch 214/10000\n",
            "5514/5514 [==============================] - 2s 304us/step - loss: nan - acc: 0.1665 - val_loss: nan - val_acc: 0.1676\n",
            "Epoch 215/10000\n",
            "5514/5514 [==============================] - 2s 304us/step - loss: nan - acc: 0.1665 - val_loss: nan - val_acc: 0.1676\n",
            "Epoch 216/10000\n",
            "5514/5514 [==============================] - 2s 311us/step - loss: nan - acc: 0.1665 - val_loss: nan - val_acc: 0.1676\n",
            "Epoch 217/10000\n",
            "5514/5514 [==============================] - 2s 311us/step - loss: nan - acc: 0.1665 - val_loss: nan - val_acc: 0.1676\n",
            "Epoch 218/10000\n",
            "5514/5514 [==============================] - 2s 310us/step - loss: nan - acc: 0.1665 - val_loss: nan - val_acc: 0.1676\n"
          ],
          "name": "stdout"
        },
        {
          "output_type": "stream",
          "text": [
            "Epoch 219/10000\n",
            "5514/5514 [==============================] - 2s 307us/step - loss: nan - acc: 0.1665 - val_loss: nan - val_acc: 0.1676\n",
            "Epoch 220/10000\n",
            "5514/5514 [==============================] - 2s 304us/step - loss: nan - acc: 0.1665 - val_loss: nan - val_acc: 0.1676\n",
            "Epoch 221/10000\n",
            "5514/5514 [==============================] - 2s 305us/step - loss: nan - acc: 0.1665 - val_loss: nan - val_acc: 0.1676\n",
            "Epoch 222/10000\n",
            "5514/5514 [==============================] - 2s 309us/step - loss: nan - acc: 0.1665 - val_loss: nan - val_acc: 0.1676\n",
            "Epoch 223/10000\n",
            "5514/5514 [==============================] - 2s 306us/step - loss: nan - acc: 0.1665 - val_loss: nan - val_acc: 0.1676\n",
            "Epoch 224/10000\n",
            "5514/5514 [==============================] - 2s 306us/step - loss: nan - acc: 0.1665 - val_loss: nan - val_acc: 0.1676\n",
            "Epoch 225/10000\n",
            "5200/5514 [===========================>..] - ETA: 0s - loss: nan - acc: 0.1671"
          ],
          "name": "stdout"
        },
        {
          "output_type": "stream",
          "text": [
            "5514/5514 [==============================] - 2s 308us/step - loss: nan - acc: 0.1665 - val_loss: nan - val_acc: 0.1676\n",
            "Epoch 226/10000\n",
            "5514/5514 [==============================] - 2s 306us/step - loss: nan - acc: 0.1665 - val_loss: nan - val_acc: 0.1676\n",
            "Epoch 227/10000\n",
            "5514/5514 [==============================] - 2s 304us/step - loss: nan - acc: 0.1665 - val_loss: nan - val_acc: 0.1676\n",
            "Epoch 228/10000\n",
            "5514/5514 [==============================] - 2s 306us/step - loss: nan - acc: 0.1665 - val_loss: nan - val_acc: 0.1676\n",
            "Epoch 229/10000\n",
            "5514/5514 [==============================] - 2s 305us/step - loss: nan - acc: 0.1665 - val_loss: nan - val_acc: 0.1676\n",
            "Epoch 230/10000\n",
            "5514/5514 [==============================] - 2s 304us/step - loss: nan - acc: 0.1665 - val_loss: nan - val_acc: 0.1676\n",
            "Epoch 231/10000\n",
            "5514/5514 [==============================] - 2s 306us/step - loss: nan - acc: 0.1665 - val_loss: nan - val_acc: 0.1676\n",
            "Epoch 232/10000\n",
            " 450/5514 [=>............................] - ETA: 1s - loss: nan - acc: 0.1422"
          ],
          "name": "stdout"
        },
        {
          "output_type": "stream",
          "text": [
            "5514/5514 [==============================] - 2s 307us/step - loss: nan - acc: 0.1665 - val_loss: nan - val_acc: 0.1676\n",
            "Epoch 233/10000\n",
            "5514/5514 [==============================] - 2s 304us/step - loss: nan - acc: 0.1665 - val_loss: nan - val_acc: 0.1676\n",
            "Epoch 234/10000\n",
            "5514/5514 [==============================] - 2s 305us/step - loss: nan - acc: 0.1665 - val_loss: nan - val_acc: 0.1676\n",
            "Epoch 235/10000\n",
            "5514/5514 [==============================] - 2s 302us/step - loss: nan - acc: 0.1665 - val_loss: nan - val_acc: 0.1676\n",
            "Epoch 236/10000\n",
            "5514/5514 [==============================] - 2s 304us/step - loss: nan - acc: 0.1665 - val_loss: nan - val_acc: 0.1676\n",
            "Epoch 237/10000\n",
            "5514/5514 [==============================] - 2s 303us/step - loss: nan - acc: 0.1665 - val_loss: nan - val_acc: 0.1676\n",
            "Epoch 238/10000\n",
            "5514/5514 [==============================] - 2s 304us/step - loss: nan - acc: 0.1665 - val_loss: nan - val_acc: 0.1676\n",
            "Epoch 239/10000\n",
            "  50/5514 [..............................] - ETA: 1s - loss: nan - acc: 0.2200"
          ],
          "name": "stdout"
        },
        {
          "output_type": "stream",
          "text": [
            "5514/5514 [==============================] - 2s 306us/step - loss: nan - acc: 0.1665 - val_loss: nan - val_acc: 0.1676\n",
            "Epoch 240/10000\n",
            "5514/5514 [==============================] - 2s 306us/step - loss: nan - acc: 0.1665 - val_loss: nan - val_acc: 0.1676\n",
            "Epoch 241/10000\n",
            "5514/5514 [==============================] - 2s 299us/step - loss: nan - acc: 0.1665 - val_loss: nan - val_acc: 0.1676\n",
            "Epoch 242/10000\n",
            "5514/5514 [==============================] - 2s 300us/step - loss: nan - acc: 0.1665 - val_loss: nan - val_acc: 0.1676\n",
            "Epoch 243/10000\n",
            "5514/5514 [==============================] - 2s 301us/step - loss: nan - acc: 0.1665 - val_loss: nan - val_acc: 0.1676\n",
            "Epoch 244/10000\n",
            "5514/5514 [==============================] - 2s 303us/step - loss: nan - acc: 0.1665 - val_loss: nan - val_acc: 0.1676\n",
            "Epoch 245/10000\n",
            "5514/5514 [==============================] - 2s 304us/step - loss: nan - acc: 0.1665 - val_loss: nan - val_acc: 0.1676\n",
            "Epoch 246/10000\n",
            "  50/5514 [..............................] - ETA: 1s - loss: nan - acc: 0.1200"
          ],
          "name": "stdout"
        },
        {
          "output_type": "stream",
          "text": [
            "5514/5514 [==============================] - 2s 304us/step - loss: nan - acc: 0.1665 - val_loss: nan - val_acc: 0.1676\n",
            "Epoch 247/10000\n",
            "5514/5514 [==============================] - 2s 302us/step - loss: nan - acc: 0.1665 - val_loss: nan - val_acc: 0.1676\n",
            "Epoch 248/10000\n",
            "5514/5514 [==============================] - 2s 302us/step - loss: nan - acc: 0.1665 - val_loss: nan - val_acc: 0.1676\n",
            "Epoch 249/10000\n",
            "5514/5514 [==============================] - 2s 305us/step - loss: nan - acc: 0.1665 - val_loss: nan - val_acc: 0.1676\n",
            "Epoch 250/10000\n",
            "5514/5514 [==============================] - 2s 299us/step - loss: nan - acc: 0.1665 - val_loss: nan - val_acc: 0.1676\n",
            "Epoch 251/10000\n",
            "5514/5514 [==============================] - 2s 301us/step - loss: nan - acc: 0.1665 - val_loss: nan - val_acc: 0.1676\n",
            "Epoch 252/10000\n",
            "5514/5514 [==============================] - 2s 306us/step - loss: nan - acc: 0.1665 - val_loss: nan - val_acc: 0.1676\n",
            "Epoch 253/10000\n",
            "  50/5514 [..............................] - ETA: 1s - loss: nan - acc: 0.1400"
          ],
          "name": "stdout"
        },
        {
          "output_type": "stream",
          "text": [
            "5514/5514 [==============================] - 2s 303us/step - loss: nan - acc: 0.1665 - val_loss: nan - val_acc: 0.1676\n",
            "Epoch 254/10000\n",
            "5514/5514 [==============================] - 2s 303us/step - loss: nan - acc: 0.1665 - val_loss: nan - val_acc: 0.1676\n",
            "Epoch 255/10000\n",
            "5514/5514 [==============================] - 2s 303us/step - loss: nan - acc: 0.1665 - val_loss: nan - val_acc: 0.1676\n",
            "Epoch 256/10000\n",
            "5514/5514 [==============================] - 2s 304us/step - loss: nan - acc: 0.1665 - val_loss: nan - val_acc: 0.1676\n",
            "Epoch 257/10000\n",
            "5514/5514 [==============================] - 2s 298us/step - loss: nan - acc: 0.1665 - val_loss: nan - val_acc: 0.1676\n",
            "Epoch 258/10000\n",
            "5514/5514 [==============================] - 2s 301us/step - loss: nan - acc: 0.1665 - val_loss: nan - val_acc: 0.1676\n",
            "Epoch 259/10000\n",
            "5514/5514 [==============================] - 2s 304us/step - loss: nan - acc: 0.1665 - val_loss: nan - val_acc: 0.1676\n",
            "Epoch 260/10000\n",
            "  50/5514 [..............................] - ETA: 2s - loss: nan - acc: 0.1400"
          ],
          "name": "stdout"
        },
        {
          "output_type": "stream",
          "text": [
            "5514/5514 [==============================] - 2s 305us/step - loss: nan - acc: 0.1665 - val_loss: nan - val_acc: 0.1676\n",
            "Epoch 261/10000\n",
            "5514/5514 [==============================] - 2s 304us/step - loss: nan - acc: 0.1665 - val_loss: nan - val_acc: 0.1676\n",
            "Epoch 262/10000\n",
            "5514/5514 [==============================] - 2s 305us/step - loss: nan - acc: 0.1665 - val_loss: nan - val_acc: 0.1676\n",
            "Epoch 263/10000\n",
            "5514/5514 [==============================] - 2s 304us/step - loss: nan - acc: 0.1665 - val_loss: nan - val_acc: 0.1676\n",
            "Epoch 264/10000\n",
            "5514/5514 [==============================] - 2s 301us/step - loss: nan - acc: 0.1665 - val_loss: nan - val_acc: 0.1676\n",
            "Epoch 265/10000\n",
            "5514/5514 [==============================] - 2s 301us/step - loss: nan - acc: 0.1665 - val_loss: nan - val_acc: 0.1676\n",
            "Epoch 266/10000\n",
            "5514/5514 [==============================] - 2s 299us/step - loss: nan - acc: 0.1665 - val_loss: nan - val_acc: 0.1676\n",
            "Epoch 267/10000\n",
            "  50/5514 [..............................] - ETA: 1s - loss: nan - acc: 0.1200"
          ],
          "name": "stdout"
        },
        {
          "output_type": "stream",
          "text": [
            "5514/5514 [==============================] - 2s 300us/step - loss: nan - acc: 0.1665 - val_loss: nan - val_acc: 0.1676\n",
            "Epoch 268/10000\n",
            "5514/5514 [==============================] - 2s 300us/step - loss: nan - acc: 0.1665 - val_loss: nan - val_acc: 0.1676\n",
            "Epoch 269/10000\n",
            "5514/5514 [==============================] - 2s 300us/step - loss: nan - acc: 0.1665 - val_loss: nan - val_acc: 0.1676\n",
            "Epoch 270/10000\n",
            "5514/5514 [==============================] - 2s 297us/step - loss: nan - acc: 0.1665 - val_loss: nan - val_acc: 0.1676\n",
            "Epoch 271/10000\n",
            "5514/5514 [==============================] - 2s 298us/step - loss: nan - acc: 0.1665 - val_loss: nan - val_acc: 0.1676\n",
            "Epoch 272/10000\n",
            "5514/5514 [==============================] - 2s 299us/step - loss: nan - acc: 0.1665 - val_loss: nan - val_acc: 0.1676\n",
            "Epoch 273/10000\n",
            "5514/5514 [==============================] - 2s 295us/step - loss: nan - acc: 0.1665 - val_loss: nan - val_acc: 0.1676\n",
            "Epoch 274/10000\n",
            "  50/5514 [..............................] - ETA: 1s - loss: nan - acc: 0.1800"
          ],
          "name": "stdout"
        },
        {
          "output_type": "stream",
          "text": [
            "5514/5514 [==============================] - 2s 291us/step - loss: nan - acc: 0.1665 - val_loss: nan - val_acc: 0.1676\n",
            "Epoch 275/10000\n",
            "5514/5514 [==============================] - 2s 291us/step - loss: nan - acc: 0.1665 - val_loss: nan - val_acc: 0.1676\n",
            "Epoch 276/10000\n",
            "5514/5514 [==============================] - 2s 291us/step - loss: nan - acc: 0.1665 - val_loss: nan - val_acc: 0.1676\n",
            "Epoch 277/10000\n",
            "5514/5514 [==============================] - 2s 292us/step - loss: nan - acc: 0.1665 - val_loss: nan - val_acc: 0.1676\n",
            "Epoch 278/10000\n",
            "5514/5514 [==============================] - 2s 291us/step - loss: nan - acc: 0.1665 - val_loss: nan - val_acc: 0.1676\n",
            "Epoch 279/10000\n",
            "5514/5514 [==============================] - 2s 292us/step - loss: nan - acc: 0.1665 - val_loss: nan - val_acc: 0.1676\n",
            "Epoch 280/10000\n",
            "5514/5514 [==============================] - 2s 292us/step - loss: nan - acc: 0.1665 - val_loss: nan - val_acc: 0.1676\n",
            "Epoch 281/10000\n",
            "  50/5514 [..............................] - ETA: 1s - loss: nan - acc: 0.2000"
          ],
          "name": "stdout"
        },
        {
          "output_type": "stream",
          "text": [
            "5514/5514 [==============================] - 2s 291us/step - loss: nan - acc: 0.1665 - val_loss: nan - val_acc: 0.1676\n",
            "Epoch 282/10000\n",
            "5514/5514 [==============================] - 2s 293us/step - loss: nan - acc: 0.1665 - val_loss: nan - val_acc: 0.1676\n",
            "Epoch 283/10000\n",
            "5514/5514 [==============================] - 2s 294us/step - loss: nan - acc: 0.1665 - val_loss: nan - val_acc: 0.1676\n",
            "Epoch 284/10000\n",
            "5514/5514 [==============================] - 2s 293us/step - loss: nan - acc: 0.1665 - val_loss: nan - val_acc: 0.1676\n",
            "Epoch 285/10000\n",
            "5514/5514 [==============================] - 2s 293us/step - loss: nan - acc: 0.1665 - val_loss: nan - val_acc: 0.1676\n",
            "Epoch 286/10000\n",
            "5514/5514 [==============================] - 2s 296us/step - loss: nan - acc: 0.1665 - val_loss: nan - val_acc: 0.1676\n",
            "Epoch 287/10000\n",
            "5514/5514 [==============================] - 2s 296us/step - loss: nan - acc: 0.1665 - val_loss: nan - val_acc: 0.1676\n",
            "Epoch 288/10000\n",
            "  50/5514 [..............................] - ETA: 1s - loss: nan - acc: 0.1600"
          ],
          "name": "stdout"
        },
        {
          "output_type": "stream",
          "text": [
            "5514/5514 [==============================] - 2s 295us/step - loss: nan - acc: 0.1665 - val_loss: nan - val_acc: 0.1676\n",
            "Epoch 289/10000\n",
            "5514/5514 [==============================] - 2s 299us/step - loss: nan - acc: 0.1665 - val_loss: nan - val_acc: 0.1676\n",
            "Epoch 290/10000\n",
            "5514/5514 [==============================] - 2s 296us/step - loss: nan - acc: 0.1665 - val_loss: nan - val_acc: 0.1676\n",
            "Epoch 291/10000\n",
            "5514/5514 [==============================] - 2s 295us/step - loss: nan - acc: 0.1665 - val_loss: nan - val_acc: 0.1676\n",
            "Epoch 292/10000\n",
            "5514/5514 [==============================] - 2s 294us/step - loss: nan - acc: 0.1665 - val_loss: nan - val_acc: 0.1676\n",
            "Epoch 293/10000\n",
            "5514/5514 [==============================] - 2s 295us/step - loss: nan - acc: 0.1665 - val_loss: nan - val_acc: 0.1676\n",
            "Epoch 294/10000\n",
            "5514/5514 [==============================] - 2s 291us/step - loss: nan - acc: 0.1665 - val_loss: nan - val_acc: 0.1676\n",
            "Epoch 295/10000\n",
            "  50/5514 [..............................] - ETA: 1s - loss: nan - acc: 0.1200"
          ],
          "name": "stdout"
        },
        {
          "output_type": "stream",
          "text": [
            "5514/5514 [==============================] - 2s 292us/step - loss: nan - acc: 0.1665 - val_loss: nan - val_acc: 0.1676\n",
            "Epoch 296/10000\n",
            "5514/5514 [==============================] - 2s 292us/step - loss: nan - acc: 0.1665 - val_loss: nan - val_acc: 0.1676\n",
            "Epoch 297/10000\n",
            "5514/5514 [==============================] - 2s 299us/step - loss: nan - acc: 0.1665 - val_loss: nan - val_acc: 0.1676\n",
            "Epoch 298/10000\n",
            "5514/5514 [==============================] - 2s 297us/step - loss: nan - acc: 0.1665 - val_loss: nan - val_acc: 0.1676\n",
            "Epoch 299/10000\n",
            "5514/5514 [==============================] - 2s 297us/step - loss: nan - acc: 0.1665 - val_loss: nan - val_acc: 0.1676\n",
            "Epoch 300/10000\n",
            "5514/5514 [==============================] - 2s 299us/step - loss: nan - acc: 0.1665 - val_loss: nan - val_acc: 0.1676\n",
            "Epoch 301/10000\n",
            "5514/5514 [==============================] - 2s 290us/step - loss: nan - acc: 0.1665 - val_loss: nan - val_acc: 0.1676\n",
            "Epoch 302/10000\n",
            "  50/5514 [..............................] - ETA: 1s - loss: nan - acc: 0.1200"
          ],
          "name": "stdout"
        },
        {
          "output_type": "stream",
          "text": [
            "5514/5514 [==============================] - 2s 294us/step - loss: nan - acc: 0.1665 - val_loss: nan - val_acc: 0.1676\n",
            "Epoch 303/10000\n",
            "5514/5514 [==============================] - 2s 291us/step - loss: nan - acc: 0.1665 - val_loss: nan - val_acc: 0.1676\n",
            "Epoch 304/10000\n",
            "5514/5514 [==============================] - 2s 291us/step - loss: nan - acc: 0.1665 - val_loss: nan - val_acc: 0.1676\n",
            "Epoch 305/10000\n",
            "5514/5514 [==============================] - 2s 294us/step - loss: nan - acc: 0.1665 - val_loss: nan - val_acc: 0.1676\n",
            "Epoch 306/10000\n",
            "5514/5514 [==============================] - 2s 298us/step - loss: nan - acc: 0.1665 - val_loss: nan - val_acc: 0.1676\n",
            "Epoch 307/10000\n",
            "5514/5514 [==============================] - 2s 300us/step - loss: nan - acc: 0.1665 - val_loss: nan - val_acc: 0.1676\n",
            "Epoch 308/10000\n",
            "5514/5514 [==============================] - 2s 298us/step - loss: nan - acc: 0.1665 - val_loss: nan - val_acc: 0.1676\n",
            "Epoch 309/10000\n",
            "  50/5514 [..............................] - ETA: 1s - loss: nan - acc: 0.1200"
          ],
          "name": "stdout"
        },
        {
          "output_type": "stream",
          "text": [
            "5514/5514 [==============================] - 2s 296us/step - loss: nan - acc: 0.1665 - val_loss: nan - val_acc: 0.1676\n",
            "Epoch 310/10000\n",
            "5514/5514 [==============================] - 2s 297us/step - loss: nan - acc: 0.1665 - val_loss: nan - val_acc: 0.1676\n",
            "Epoch 311/10000\n",
            "5514/5514 [==============================] - 2s 297us/step - loss: nan - acc: 0.1665 - val_loss: nan - val_acc: 0.1676\n",
            "Epoch 312/10000\n",
            "5514/5514 [==============================] - 2s 300us/step - loss: nan - acc: 0.1665 - val_loss: nan - val_acc: 0.1676\n",
            "Epoch 313/10000\n",
            "5514/5514 [==============================] - 2s 293us/step - loss: nan - acc: 0.1665 - val_loss: nan - val_acc: 0.1676\n",
            "Epoch 314/10000\n",
            "5514/5514 [==============================] - 2s 296us/step - loss: nan - acc: 0.1665 - val_loss: nan - val_acc: 0.1676\n",
            "Epoch 315/10000\n",
            "5514/5514 [==============================] - 2s 296us/step - loss: nan - acc: 0.1665 - val_loss: nan - val_acc: 0.1676\n",
            "Epoch 316/10000\n",
            "  50/5514 [..............................] - ETA: 2s - loss: nan - acc: 0.1600"
          ],
          "name": "stdout"
        },
        {
          "output_type": "stream",
          "text": [
            "5514/5514 [==============================] - 2s 297us/step - loss: nan - acc: 0.1665 - val_loss: nan - val_acc: 0.1676\n",
            "Epoch 317/10000\n",
            "5514/5514 [==============================] - 2s 302us/step - loss: nan - acc: 0.1665 - val_loss: nan - val_acc: 0.1676\n",
            "Epoch 318/10000\n",
            "5514/5514 [==============================] - 2s 298us/step - loss: nan - acc: 0.1665 - val_loss: nan - val_acc: 0.1676\n",
            "Epoch 319/10000\n",
            "5514/5514 [==============================] - 2s 298us/step - loss: nan - acc: 0.1665 - val_loss: nan - val_acc: 0.1676\n",
            "Epoch 320/10000\n",
            "5514/5514 [==============================] - 2s 307us/step - loss: nan - acc: 0.1665 - val_loss: nan - val_acc: 0.1676\n",
            "Epoch 321/10000\n",
            "5514/5514 [==============================] - 2s 302us/step - loss: nan - acc: 0.1665 - val_loss: nan - val_acc: 0.1676\n",
            "Epoch 322/10000\n",
            "5514/5514 [==============================] - 2s 302us/step - loss: nan - acc: 0.1665 - val_loss: nan - val_acc: 0.1676\n"
          ],
          "name": "stdout"
        },
        {
          "output_type": "stream",
          "text": [
            "Epoch 323/10000\n",
            "5514/5514 [==============================] - 2s 303us/step - loss: nan - acc: 0.1665 - val_loss: nan - val_acc: 0.1676\n",
            "Epoch 324/10000\n",
            "5514/5514 [==============================] - 2s 305us/step - loss: nan - acc: 0.1665 - val_loss: nan - val_acc: 0.1676\n",
            "Epoch 325/10000\n",
            "5514/5514 [==============================] - 2s 301us/step - loss: nan - acc: 0.1665 - val_loss: nan - val_acc: 0.1676\n",
            "Epoch 326/10000\n",
            "5514/5514 [==============================] - 2s 299us/step - loss: nan - acc: 0.1665 - val_loss: nan - val_acc: 0.1676\n",
            "Epoch 327/10000\n",
            "5514/5514 [==============================] - 2s 299us/step - loss: nan - acc: 0.1665 - val_loss: nan - val_acc: 0.1676\n",
            "Epoch 328/10000\n",
            "5514/5514 [==============================] - 2s 299us/step - loss: nan - acc: 0.1665 - val_loss: nan - val_acc: 0.1676\n",
            "Epoch 329/10000\n",
            "5200/5514 [===========================>..] - ETA: 0s - loss: nan - acc: 0.1644"
          ],
          "name": "stdout"
        },
        {
          "output_type": "stream",
          "text": [
            "5514/5514 [==============================] - 2s 300us/step - loss: nan - acc: 0.1665 - val_loss: nan - val_acc: 0.1676\n",
            "Epoch 330/10000\n",
            "5514/5514 [==============================] - 2s 299us/step - loss: nan - acc: 0.1665 - val_loss: nan - val_acc: 0.1676\n",
            "Epoch 331/10000\n",
            "5514/5514 [==============================] - 2s 295us/step - loss: nan - acc: 0.1665 - val_loss: nan - val_acc: 0.1676\n",
            "Epoch 332/10000\n",
            "5514/5514 [==============================] - 2s 298us/step - loss: nan - acc: 0.1665 - val_loss: nan - val_acc: 0.1676\n",
            "Epoch 333/10000\n",
            "5514/5514 [==============================] - 2s 298us/step - loss: nan - acc: 0.1665 - val_loss: nan - val_acc: 0.1676\n",
            "Epoch 334/10000\n",
            "5514/5514 [==============================] - 2s 300us/step - loss: nan - acc: 0.1665 - val_loss: nan - val_acc: 0.1676\n",
            "Epoch 335/10000\n",
            "5514/5514 [==============================] - 2s 304us/step - loss: nan - acc: 0.1665 - val_loss: nan - val_acc: 0.1676\n",
            "Epoch 336/10000\n",
            " 250/5514 [>.............................] - ETA: 1s - loss: nan - acc: 0.1880"
          ],
          "name": "stdout"
        },
        {
          "output_type": "stream",
          "text": [
            "5514/5514 [==============================] - 2s 304us/step - loss: nan - acc: 0.1665 - val_loss: nan - val_acc: 0.1676\n",
            "Epoch 337/10000\n",
            "5514/5514 [==============================] - 2s 298us/step - loss: nan - acc: 0.1665 - val_loss: nan - val_acc: 0.1676\n",
            "Epoch 338/10000\n",
            "5514/5514 [==============================] - 2s 301us/step - loss: nan - acc: 0.1665 - val_loss: nan - val_acc: 0.1676\n",
            "Epoch 339/10000\n",
            "5514/5514 [==============================] - 2s 301us/step - loss: nan - acc: 0.1665 - val_loss: nan - val_acc: 0.1676\n",
            "Epoch 340/10000\n",
            "5514/5514 [==============================] - 2s 298us/step - loss: nan - acc: 0.1665 - val_loss: nan - val_acc: 0.1676\n",
            "Epoch 341/10000\n",
            "5514/5514 [==============================] - 2s 297us/step - loss: nan - acc: 0.1665 - val_loss: nan - val_acc: 0.1676\n",
            "Epoch 342/10000\n",
            "5514/5514 [==============================] - 2s 296us/step - loss: nan - acc: 0.1665 - val_loss: nan - val_acc: 0.1676\n",
            "Epoch 343/10000\n",
            "  50/5514 [..............................] - ETA: 1s - loss: nan - acc: 0.1400"
          ],
          "name": "stdout"
        },
        {
          "output_type": "stream",
          "text": [
            "5514/5514 [==============================] - 2s 300us/step - loss: nan - acc: 0.1665 - val_loss: nan - val_acc: 0.1676\n",
            "Epoch 344/10000\n",
            "5514/5514 [==============================] - 2s 302us/step - loss: nan - acc: 0.1665 - val_loss: nan - val_acc: 0.1676\n",
            "Epoch 345/10000\n",
            "5514/5514 [==============================] - 2s 299us/step - loss: nan - acc: 0.1665 - val_loss: nan - val_acc: 0.1676\n",
            "Epoch 346/10000\n",
            "5514/5514 [==============================] - 2s 297us/step - loss: nan - acc: 0.1665 - val_loss: nan - val_acc: 0.1676\n",
            "Epoch 347/10000\n",
            "5514/5514 [==============================] - 2s 297us/step - loss: nan - acc: 0.1665 - val_loss: nan - val_acc: 0.1676\n",
            "Epoch 348/10000\n",
            "5514/5514 [==============================] - 2s 294us/step - loss: nan - acc: 0.1665 - val_loss: nan - val_acc: 0.1676\n",
            "Epoch 349/10000\n",
            "5514/5514 [==============================] - 2s 293us/step - loss: nan - acc: 0.1665 - val_loss: nan - val_acc: 0.1676\n",
            "Epoch 350/10000\n",
            "  50/5514 [..............................] - ETA: 1s - loss: nan - acc: 0.2200"
          ],
          "name": "stdout"
        },
        {
          "output_type": "stream",
          "text": [
            "5514/5514 [==============================] - 2s 297us/step - loss: nan - acc: 0.1665 - val_loss: nan - val_acc: 0.1676\n",
            "Epoch 351/10000\n",
            "5514/5514 [==============================] - 2s 299us/step - loss: nan - acc: 0.1665 - val_loss: nan - val_acc: 0.1676\n",
            "Epoch 352/10000\n",
            "5514/5514 [==============================] - 2s 299us/step - loss: nan - acc: 0.1665 - val_loss: nan - val_acc: 0.1676\n",
            "Epoch 353/10000\n",
            "5514/5514 [==============================] - 2s 299us/step - loss: nan - acc: 0.1665 - val_loss: nan - val_acc: 0.1676\n",
            "Epoch 354/10000\n",
            "5514/5514 [==============================] - 2s 302us/step - loss: nan - acc: 0.1665 - val_loss: nan - val_acc: 0.1676\n",
            "Epoch 355/10000\n",
            "5514/5514 [==============================] - 2s 302us/step - loss: nan - acc: 0.1665 - val_loss: nan - val_acc: 0.1676\n",
            "Epoch 356/10000\n",
            "5514/5514 [==============================] - 2s 299us/step - loss: nan - acc: 0.1665 - val_loss: nan - val_acc: 0.1676\n",
            "Epoch 357/10000\n",
            "  50/5514 [..............................] - ETA: 1s - loss: nan - acc: 0.2000"
          ],
          "name": "stdout"
        },
        {
          "output_type": "stream",
          "text": [
            "5514/5514 [==============================] - 2s 295us/step - loss: nan - acc: 0.1665 - val_loss: nan - val_acc: 0.1676\n",
            "Epoch 358/10000\n",
            "5514/5514 [==============================] - 2s 295us/step - loss: nan - acc: 0.1665 - val_loss: nan - val_acc: 0.1676\n",
            "Epoch 359/10000\n",
            "5514/5514 [==============================] - 2s 292us/step - loss: nan - acc: 0.1665 - val_loss: nan - val_acc: 0.1676\n",
            "Epoch 360/10000\n",
            "5514/5514 [==============================] - 2s 298us/step - loss: nan - acc: 0.1665 - val_loss: nan - val_acc: 0.1676\n",
            "Epoch 361/10000\n",
            "5514/5514 [==============================] - 2s 299us/step - loss: nan - acc: 0.1665 - val_loss: nan - val_acc: 0.1676\n",
            "Epoch 362/10000\n",
            "5514/5514 [==============================] - 2s 293us/step - loss: nan - acc: 0.1665 - val_loss: nan - val_acc: 0.1676\n",
            "Epoch 363/10000\n",
            "5514/5514 [==============================] - 2s 300us/step - loss: nan - acc: 0.1665 - val_loss: nan - val_acc: 0.1676\n",
            "Epoch 364/10000\n",
            "  50/5514 [..............................] - ETA: 1s - loss: nan - acc: 0.2200"
          ],
          "name": "stdout"
        },
        {
          "output_type": "stream",
          "text": [
            "5514/5514 [==============================] - 2s 296us/step - loss: nan - acc: 0.1665 - val_loss: nan - val_acc: 0.1676\n",
            "Epoch 365/10000\n",
            "5514/5514 [==============================] - 2s 293us/step - loss: nan - acc: 0.1665 - val_loss: nan - val_acc: 0.1676\n",
            "Epoch 366/10000\n",
            "5514/5514 [==============================] - 2s 294us/step - loss: nan - acc: 0.1665 - val_loss: nan - val_acc: 0.1676\n",
            "Epoch 367/10000\n",
            "5514/5514 [==============================] - 2s 297us/step - loss: nan - acc: 0.1665 - val_loss: nan - val_acc: 0.1676\n",
            "Epoch 368/10000\n",
            "5514/5514 [==============================] - 2s 296us/step - loss: nan - acc: 0.1665 - val_loss: nan - val_acc: 0.1676\n",
            "Epoch 369/10000\n",
            "5514/5514 [==============================] - 2s 296us/step - loss: nan - acc: 0.1665 - val_loss: nan - val_acc: 0.1676\n",
            "Epoch 370/10000\n",
            "5514/5514 [==============================] - 2s 304us/step - loss: nan - acc: 0.1665 - val_loss: nan - val_acc: 0.1676\n",
            "Epoch 371/10000\n",
            "  50/5514 [..............................] - ETA: 1s - loss: nan - acc: 0.1200"
          ],
          "name": "stdout"
        },
        {
          "output_type": "stream",
          "text": [
            "5514/5514 [==============================] - 2s 304us/step - loss: nan - acc: 0.1665 - val_loss: nan - val_acc: 0.1676\n",
            "Epoch 372/10000\n",
            "5514/5514 [==============================] - 2s 300us/step - loss: nan - acc: 0.1665 - val_loss: nan - val_acc: 0.1676\n",
            "Epoch 373/10000\n",
            "5514/5514 [==============================] - 2s 296us/step - loss: nan - acc: 0.1665 - val_loss: nan - val_acc: 0.1676\n",
            "Epoch 374/10000\n",
            "5514/5514 [==============================] - 2s 292us/step - loss: nan - acc: 0.1665 - val_loss: nan - val_acc: 0.1676\n",
            "Epoch 375/10000\n",
            "5514/5514 [==============================] - 2s 293us/step - loss: nan - acc: 0.1665 - val_loss: nan - val_acc: 0.1676\n",
            "Epoch 376/10000\n",
            "5514/5514 [==============================] - 2s 292us/step - loss: nan - acc: 0.1665 - val_loss: nan - val_acc: 0.1676\n",
            "Epoch 377/10000\n",
            "5514/5514 [==============================] - 2s 293us/step - loss: nan - acc: 0.1665 - val_loss: nan - val_acc: 0.1676\n",
            "Epoch 378/10000\n",
            "  50/5514 [..............................] - ETA: 1s - loss: nan - acc: 0.1400"
          ],
          "name": "stdout"
        },
        {
          "output_type": "stream",
          "text": [
            "5514/5514 [==============================] - 2s 298us/step - loss: nan - acc: 0.1665 - val_loss: nan - val_acc: 0.1676\n",
            "Epoch 379/10000\n",
            "5514/5514 [==============================] - 2s 298us/step - loss: nan - acc: 0.1665 - val_loss: nan - val_acc: 0.1676\n",
            "Epoch 380/10000\n",
            "5514/5514 [==============================] - 2s 296us/step - loss: nan - acc: 0.1665 - val_loss: nan - val_acc: 0.1676\n",
            "Epoch 381/10000\n",
            "5514/5514 [==============================] - 2s 295us/step - loss: nan - acc: 0.1665 - val_loss: nan - val_acc: 0.1676\n",
            "Epoch 382/10000\n",
            "5514/5514 [==============================] - 2s 301us/step - loss: nan - acc: 0.1665 - val_loss: nan - val_acc: 0.1676\n",
            "Epoch 383/10000\n",
            "5514/5514 [==============================] - 2s 300us/step - loss: nan - acc: 0.1665 - val_loss: nan - val_acc: 0.1676\n",
            "Epoch 384/10000\n",
            "5514/5514 [==============================] - 2s 295us/step - loss: nan - acc: 0.1665 - val_loss: nan - val_acc: 0.1676\n",
            "Epoch 385/10000\n",
            "  50/5514 [..............................] - ETA: 1s - loss: nan - acc: 0.1400"
          ],
          "name": "stdout"
        },
        {
          "output_type": "stream",
          "text": [
            "5514/5514 [==============================] - 2s 295us/step - loss: nan - acc: 0.1665 - val_loss: nan - val_acc: 0.1676\n",
            "Epoch 386/10000\n",
            "5514/5514 [==============================] - 2s 296us/step - loss: nan - acc: 0.1665 - val_loss: nan - val_acc: 0.1676\n",
            "Epoch 387/10000\n",
            "5514/5514 [==============================] - 2s 301us/step - loss: nan - acc: 0.1665 - val_loss: nan - val_acc: 0.1676\n",
            "Epoch 388/10000\n",
            "5514/5514 [==============================] - 2s 302us/step - loss: nan - acc: 0.1665 - val_loss: nan - val_acc: 0.1676\n",
            "Epoch 389/10000\n",
            "5514/5514 [==============================] - 2s 300us/step - loss: nan - acc: 0.1665 - val_loss: nan - val_acc: 0.1676\n",
            "Epoch 390/10000\n",
            "5514/5514 [==============================] - 2s 299us/step - loss: nan - acc: 0.1665 - val_loss: nan - val_acc: 0.1676\n",
            "Epoch 391/10000\n",
            "5514/5514 [==============================] - 2s 299us/step - loss: nan - acc: 0.1665 - val_loss: nan - val_acc: 0.1676\n",
            "Epoch 392/10000\n",
            "  50/5514 [..............................] - ETA: 1s - loss: nan - acc: 0.1400"
          ],
          "name": "stdout"
        },
        {
          "output_type": "stream",
          "text": [
            "5514/5514 [==============================] - 2s 296us/step - loss: nan - acc: 0.1665 - val_loss: nan - val_acc: 0.1676\n",
            "Epoch 393/10000\n",
            "5514/5514 [==============================] - 2s 296us/step - loss: nan - acc: 0.1665 - val_loss: nan - val_acc: 0.1676\n",
            "Epoch 394/10000\n",
            "5514/5514 [==============================] - 2s 296us/step - loss: nan - acc: 0.1665 - val_loss: nan - val_acc: 0.1676\n",
            "Epoch 395/10000\n",
            "5514/5514 [==============================] - 2s 297us/step - loss: nan - acc: 0.1665 - val_loss: nan - val_acc: 0.1676\n",
            "Epoch 396/10000\n",
            "5514/5514 [==============================] - 2s 299us/step - loss: nan - acc: 0.1665 - val_loss: nan - val_acc: 0.1676\n",
            "Epoch 397/10000\n",
            "5514/5514 [==============================] - 2s 302us/step - loss: nan - acc: 0.1665 - val_loss: nan - val_acc: 0.1676\n",
            "Epoch 398/10000\n",
            "5514/5514 [==============================] - 2s 300us/step - loss: nan - acc: 0.1665 - val_loss: nan - val_acc: 0.1676\n",
            "Epoch 399/10000\n",
            "  50/5514 [..............................] - ETA: 1s - loss: nan - acc: 0.1200"
          ],
          "name": "stdout"
        },
        {
          "output_type": "stream",
          "text": [
            "5514/5514 [==============================] - 2s 299us/step - loss: nan - acc: 0.1665 - val_loss: nan - val_acc: 0.1676\n",
            "Epoch 400/10000\n",
            "5514/5514 [==============================] - 2s 299us/step - loss: nan - acc: 0.1665 - val_loss: nan - val_acc: 0.1676\n",
            "Epoch 401/10000\n",
            "5514/5514 [==============================] - 2s 298us/step - loss: nan - acc: 0.1665 - val_loss: nan - val_acc: 0.1676\n",
            "Epoch 402/10000\n",
            "5514/5514 [==============================] - 2s 299us/step - loss: nan - acc: 0.1665 - val_loss: nan - val_acc: 0.1676\n",
            "Epoch 403/10000\n",
            "5514/5514 [==============================] - 2s 298us/step - loss: nan - acc: 0.1665 - val_loss: nan - val_acc: 0.1676\n",
            "Epoch 404/10000\n",
            "5514/5514 [==============================] - 2s 298us/step - loss: nan - acc: 0.1665 - val_loss: nan - val_acc: 0.1676\n",
            "Epoch 405/10000\n",
            "5514/5514 [==============================] - 2s 300us/step - loss: nan - acc: 0.1665 - val_loss: nan - val_acc: 0.1676\n",
            "Epoch 406/10000\n",
            "  50/5514 [..............................] - ETA: 1s - loss: nan - acc: 0.1600"
          ],
          "name": "stdout"
        },
        {
          "output_type": "stream",
          "text": [
            "5514/5514 [==============================] - 2s 300us/step - loss: nan - acc: 0.1665 - val_loss: nan - val_acc: 0.1676\n",
            "Epoch 407/10000\n",
            "5514/5514 [==============================] - 2s 300us/step - loss: nan - acc: 0.1665 - val_loss: nan - val_acc: 0.1676\n",
            "Epoch 408/10000\n",
            "5514/5514 [==============================] - 2s 300us/step - loss: nan - acc: 0.1665 - val_loss: nan - val_acc: 0.1676\n",
            "Epoch 409/10000\n",
            "5514/5514 [==============================] - 2s 296us/step - loss: nan - acc: 0.1665 - val_loss: nan - val_acc: 0.1676\n",
            "Epoch 410/10000\n",
            "5514/5514 [==============================] - 2s 299us/step - loss: nan - acc: 0.1665 - val_loss: nan - val_acc: 0.1676\n",
            "Epoch 411/10000\n",
            "5514/5514 [==============================] - 2s 300us/step - loss: nan - acc: 0.1665 - val_loss: nan - val_acc: 0.1676\n",
            "Epoch 412/10000\n",
            "5514/5514 [==============================] - 2s 300us/step - loss: nan - acc: 0.1665 - val_loss: nan - val_acc: 0.1676\n",
            "Epoch 413/10000\n",
            "  50/5514 [..............................] - ETA: 1s - loss: nan - acc: 0.1800"
          ],
          "name": "stdout"
        },
        {
          "output_type": "stream",
          "text": [
            "5514/5514 [==============================] - 2s 298us/step - loss: nan - acc: 0.1665 - val_loss: nan - val_acc: 0.1676\n",
            "Epoch 414/10000\n",
            "5514/5514 [==============================] - 2s 298us/step - loss: nan - acc: 0.1665 - val_loss: nan - val_acc: 0.1676\n",
            "Epoch 415/10000\n",
            "5514/5514 [==============================] - 2s 292us/step - loss: nan - acc: 0.1665 - val_loss: nan - val_acc: 0.1676\n",
            "Epoch 416/10000\n",
            "5514/5514 [==============================] - 2s 296us/step - loss: nan - acc: 0.1665 - val_loss: nan - val_acc: 0.1676\n",
            "Epoch 417/10000\n",
            "5514/5514 [==============================] - 2s 296us/step - loss: nan - acc: 0.1665 - val_loss: nan - val_acc: 0.1676\n",
            "Epoch 418/10000\n",
            "5514/5514 [==============================] - 2s 297us/step - loss: nan - acc: 0.1665 - val_loss: nan - val_acc: 0.1676\n",
            "Epoch 419/10000\n",
            "5514/5514 [==============================] - 2s 299us/step - loss: nan - acc: 0.1665 - val_loss: nan - val_acc: 0.1676\n",
            "Epoch 420/10000\n",
            "  50/5514 [..............................] - ETA: 1s - loss: nan - acc: 0.0800"
          ],
          "name": "stdout"
        },
        {
          "output_type": "stream",
          "text": [
            "5514/5514 [==============================] - 2s 294us/step - loss: nan - acc: 0.1665 - val_loss: nan - val_acc: 0.1676\n",
            "Epoch 421/10000\n",
            "5514/5514 [==============================] - 2s 298us/step - loss: nan - acc: 0.1665 - val_loss: nan - val_acc: 0.1676\n",
            "Epoch 422/10000\n",
            "5514/5514 [==============================] - 2s 296us/step - loss: nan - acc: 0.1665 - val_loss: nan - val_acc: 0.1676\n",
            "Epoch 423/10000\n",
            "5514/5514 [==============================] - 2s 296us/step - loss: nan - acc: 0.1665 - val_loss: nan - val_acc: 0.1676\n",
            "Epoch 424/10000\n",
            "5514/5514 [==============================] - 2s 294us/step - loss: nan - acc: 0.1665 - val_loss: nan - val_acc: 0.1676\n",
            "Epoch 425/10000\n",
            "5514/5514 [==============================] - 2s 294us/step - loss: nan - acc: 0.1665 - val_loss: nan - val_acc: 0.1676\n",
            "Epoch 426/10000\n",
            "5514/5514 [==============================] - 2s 293us/step - loss: nan - acc: 0.1665 - val_loss: nan - val_acc: 0.1676\n",
            "Epoch 427/10000\n",
            "  50/5514 [..............................] - ETA: 1s - loss: nan - acc: 0.1800"
          ],
          "name": "stdout"
        },
        {
          "output_type": "stream",
          "text": [
            "5514/5514 [==============================] - 2s 293us/step - loss: nan - acc: 0.1665 - val_loss: nan - val_acc: 0.1676\n",
            "Epoch 428/10000\n",
            "5514/5514 [==============================] - 2s 291us/step - loss: nan - acc: 0.1665 - val_loss: nan - val_acc: 0.1676\n",
            "Epoch 429/10000\n",
            "5514/5514 [==============================] - 2s 292us/step - loss: nan - acc: 0.1665 - val_loss: nan - val_acc: 0.1676\n",
            "Epoch 430/10000\n",
            "5514/5514 [==============================] - 2s 292us/step - loss: nan - acc: 0.1665 - val_loss: nan - val_acc: 0.1676\n",
            "Epoch 431/10000\n",
            "5514/5514 [==============================] - 2s 292us/step - loss: nan - acc: 0.1665 - val_loss: nan - val_acc: 0.1676\n",
            "Epoch 432/10000\n",
            "5514/5514 [==============================] - 2s 291us/step - loss: nan - acc: 0.1665 - val_loss: nan - val_acc: 0.1676\n",
            "Epoch 433/10000\n",
            "5514/5514 [==============================] - 2s 291us/step - loss: nan - acc: 0.1665 - val_loss: nan - val_acc: 0.1676\n",
            "Epoch 434/10000\n",
            "  50/5514 [..............................] - ETA: 1s - loss: nan - acc: 0.1400"
          ],
          "name": "stdout"
        },
        {
          "output_type": "stream",
          "text": [
            "5514/5514 [==============================] - 2s 290us/step - loss: nan - acc: 0.1665 - val_loss: nan - val_acc: 0.1676\n",
            "Epoch 435/10000\n",
            "5514/5514 [==============================] - 2s 289us/step - loss: nan - acc: 0.1665 - val_loss: nan - val_acc: 0.1676\n",
            "Epoch 436/10000\n",
            "5514/5514 [==============================] - 2s 292us/step - loss: nan - acc: 0.1665 - val_loss: nan - val_acc: 0.1676\n",
            "Epoch 437/10000\n",
            "5514/5514 [==============================] - 2s 291us/step - loss: nan - acc: 0.1665 - val_loss: nan - val_acc: 0.1676\n",
            "Epoch 438/10000\n",
            "5514/5514 [==============================] - 2s 290us/step - loss: nan - acc: 0.1665 - val_loss: nan - val_acc: 0.1676\n",
            "Epoch 439/10000\n",
            "5514/5514 [==============================] - 2s 288us/step - loss: nan - acc: 0.1665 - val_loss: nan - val_acc: 0.1676\n",
            "Epoch 440/10000\n",
            "5514/5514 [==============================] - 2s 291us/step - loss: nan - acc: 0.1665 - val_loss: nan - val_acc: 0.1676\n",
            "Epoch 441/10000\n",
            "  50/5514 [..............................] - ETA: 2s - loss: nan - acc: 0.2200"
          ],
          "name": "stdout"
        },
        {
          "output_type": "stream",
          "text": [
            "5514/5514 [==============================] - 2s 293us/step - loss: nan - acc: 0.1665 - val_loss: nan - val_acc: 0.1676\n",
            "Epoch 442/10000\n",
            "5514/5514 [==============================] - 2s 292us/step - loss: nan - acc: 0.1665 - val_loss: nan - val_acc: 0.1676\n",
            "Epoch 443/10000\n",
            "5514/5514 [==============================] - 2s 295us/step - loss: nan - acc: 0.1665 - val_loss: nan - val_acc: 0.1676\n",
            "Epoch 444/10000\n",
            "5514/5514 [==============================] - 2s 295us/step - loss: nan - acc: 0.1665 - val_loss: nan - val_acc: 0.1676\n",
            "Epoch 445/10000\n",
            "5514/5514 [==============================] - 2s 293us/step - loss: nan - acc: 0.1665 - val_loss: nan - val_acc: 0.1676\n",
            "Epoch 446/10000\n",
            "5514/5514 [==============================] - 2s 296us/step - loss: nan - acc: 0.1665 - val_loss: nan - val_acc: 0.1676\n",
            "Epoch 447/10000\n",
            "5514/5514 [==============================] - 2s 293us/step - loss: nan - acc: 0.1665 - val_loss: nan - val_acc: 0.1676\n",
            "Epoch 448/10000\n",
            "  50/5514 [..............................] - ETA: 1s - loss: nan - acc: 0.2600"
          ],
          "name": "stdout"
        },
        {
          "output_type": "stream",
          "text": [
            "5514/5514 [==============================] - 2s 289us/step - loss: nan - acc: 0.1665 - val_loss: nan - val_acc: 0.1676\n",
            "Epoch 449/10000\n",
            "5514/5514 [==============================] - 2s 292us/step - loss: nan - acc: 0.1665 - val_loss: nan - val_acc: 0.1676\n",
            "Epoch 450/10000\n",
            "5514/5514 [==============================] - 2s 291us/step - loss: nan - acc: 0.1665 - val_loss: nan - val_acc: 0.1676\n",
            "Epoch 451/10000\n",
            "5514/5514 [==============================] - 2s 290us/step - loss: nan - acc: 0.1665 - val_loss: nan - val_acc: 0.1676\n",
            "Epoch 452/10000\n",
            "5514/5514 [==============================] - 2s 290us/step - loss: nan - acc: 0.1665 - val_loss: nan - val_acc: 0.1676\n",
            "Epoch 453/10000\n",
            "5514/5514 [==============================] - 2s 290us/step - loss: nan - acc: 0.1665 - val_loss: nan - val_acc: 0.1676\n",
            "Epoch 454/10000\n",
            "5514/5514 [==============================] - 2s 292us/step - loss: nan - acc: 0.1665 - val_loss: nan - val_acc: 0.1676\n",
            "Epoch 455/10000\n",
            "  50/5514 [..............................] - ETA: 1s - loss: nan - acc: 0.1600"
          ],
          "name": "stdout"
        },
        {
          "output_type": "stream",
          "text": [
            "5514/5514 [==============================] - 2s 291us/step - loss: nan - acc: 0.1665 - val_loss: nan - val_acc: 0.1676\n",
            "Epoch 456/10000\n",
            "5514/5514 [==============================] - 2s 299us/step - loss: nan - acc: 0.1665 - val_loss: nan - val_acc: 0.1676\n",
            "Epoch 457/10000\n",
            "5514/5514 [==============================] - 2s 293us/step - loss: nan - acc: 0.1665 - val_loss: nan - val_acc: 0.1676\n",
            "Epoch 458/10000\n",
            "5514/5514 [==============================] - 2s 295us/step - loss: nan - acc: 0.1665 - val_loss: nan - val_acc: 0.1676\n",
            "Epoch 459/10000\n",
            "5514/5514 [==============================] - 2s 292us/step - loss: nan - acc: 0.1665 - val_loss: nan - val_acc: 0.1676\n",
            "Epoch 460/10000\n",
            "5514/5514 [==============================] - 2s 291us/step - loss: nan - acc: 0.1665 - val_loss: nan - val_acc: 0.1676\n",
            "Epoch 461/10000\n",
            "5514/5514 [==============================] - 2s 290us/step - loss: nan - acc: 0.1665 - val_loss: nan - val_acc: 0.1676\n"
          ],
          "name": "stdout"
        },
        {
          "output_type": "stream",
          "text": [
            "Epoch 462/10000\n",
            "5514/5514 [==============================] - 2s 289us/step - loss: nan - acc: 0.1665 - val_loss: nan - val_acc: 0.1676\n",
            "Epoch 463/10000\n",
            "5514/5514 [==============================] - 2s 290us/step - loss: nan - acc: 0.1665 - val_loss: nan - val_acc: 0.1676\n",
            "Epoch 464/10000\n",
            "5514/5514 [==============================] - 2s 292us/step - loss: nan - acc: 0.1665 - val_loss: nan - val_acc: 0.1676\n",
            "Epoch 465/10000\n",
            "5514/5514 [==============================] - 2s 292us/step - loss: nan - acc: 0.1665 - val_loss: nan - val_acc: 0.1676\n",
            "Epoch 466/10000\n",
            "5514/5514 [==============================] - 2s 297us/step - loss: nan - acc: 0.1665 - val_loss: nan - val_acc: 0.1676\n",
            "Epoch 467/10000\n",
            "5514/5514 [==============================] - 2s 295us/step - loss: nan - acc: 0.1665 - val_loss: nan - val_acc: 0.1676\n",
            "Epoch 468/10000\n",
            "5200/5514 [===========================>..] - ETA: 0s - loss: nan - acc: 0.1669"
          ],
          "name": "stdout"
        },
        {
          "output_type": "stream",
          "text": [
            "5514/5514 [==============================] - 2s 296us/step - loss: nan - acc: 0.1665 - val_loss: nan - val_acc: 0.1676\n",
            "Epoch 469/10000\n",
            "5514/5514 [==============================] - 2s 296us/step - loss: nan - acc: 0.1665 - val_loss: nan - val_acc: 0.1676\n",
            "Epoch 470/10000\n",
            "5514/5514 [==============================] - 2s 295us/step - loss: nan - acc: 0.1665 - val_loss: nan - val_acc: 0.1676\n",
            "Epoch 471/10000\n",
            "5514/5514 [==============================] - 2s 294us/step - loss: nan - acc: 0.1665 - val_loss: nan - val_acc: 0.1676\n",
            "Epoch 472/10000\n",
            "5514/5514 [==============================] - 2s 297us/step - loss: nan - acc: 0.1665 - val_loss: nan - val_acc: 0.1676\n",
            "Epoch 473/10000\n",
            "5514/5514 [==============================] - 2s 295us/step - loss: nan - acc: 0.1665 - val_loss: nan - val_acc: 0.1676\n",
            "Epoch 474/10000\n",
            "5514/5514 [==============================] - 2s 296us/step - loss: nan - acc: 0.1665 - val_loss: nan - val_acc: 0.1676\n",
            "Epoch 475/10000\n",
            " 450/5514 [=>............................] - ETA: 1s - loss: nan - acc: 0.1778"
          ],
          "name": "stdout"
        },
        {
          "output_type": "stream",
          "text": [
            "5514/5514 [==============================] - 2s 294us/step - loss: nan - acc: 0.1665 - val_loss: nan - val_acc: 0.1676\n",
            "Epoch 476/10000\n",
            "5514/5514 [==============================] - 2s 295us/step - loss: nan - acc: 0.1665 - val_loss: nan - val_acc: 0.1676\n",
            "Epoch 477/10000\n",
            "5514/5514 [==============================] - 2s 295us/step - loss: nan - acc: 0.1665 - val_loss: nan - val_acc: 0.1676\n",
            "Epoch 478/10000\n",
            "5514/5514 [==============================] - 2s 297us/step - loss: nan - acc: 0.1665 - val_loss: nan - val_acc: 0.1676\n",
            "Epoch 479/10000\n",
            "5514/5514 [==============================] - 2s 294us/step - loss: nan - acc: 0.1665 - val_loss: nan - val_acc: 0.1676\n",
            "Epoch 480/10000\n",
            "5514/5514 [==============================] - 2s 288us/step - loss: nan - acc: 0.1665 - val_loss: nan - val_acc: 0.1676\n",
            "Epoch 481/10000\n",
            "5514/5514 [==============================] - 2s 293us/step - loss: nan - acc: 0.1665 - val_loss: nan - val_acc: 0.1676\n",
            "Epoch 482/10000\n",
            "  50/5514 [..............................] - ETA: 1s - loss: nan - acc: 0.1000"
          ],
          "name": "stdout"
        },
        {
          "output_type": "stream",
          "text": [
            "5514/5514 [==============================] - 2s 293us/step - loss: nan - acc: 0.1665 - val_loss: nan - val_acc: 0.1676\n",
            "Epoch 483/10000\n",
            "5514/5514 [==============================] - 2s 293us/step - loss: nan - acc: 0.1665 - val_loss: nan - val_acc: 0.1676\n",
            "Epoch 484/10000\n",
            "5514/5514 [==============================] - 2s 294us/step - loss: nan - acc: 0.1665 - val_loss: nan - val_acc: 0.1676\n",
            "Epoch 485/10000\n",
            "5514/5514 [==============================] - 2s 294us/step - loss: nan - acc: 0.1665 - val_loss: nan - val_acc: 0.1676\n",
            "Epoch 486/10000\n",
            "5514/5514 [==============================] - 2s 292us/step - loss: nan - acc: 0.1665 - val_loss: nan - val_acc: 0.1676\n",
            "Epoch 487/10000\n",
            "5514/5514 [==============================] - 2s 290us/step - loss: nan - acc: 0.1665 - val_loss: nan - val_acc: 0.1676\n",
            "Epoch 488/10000\n",
            "5514/5514 [==============================] - 2s 296us/step - loss: nan - acc: 0.1665 - val_loss: nan - val_acc: 0.1676\n",
            "Epoch 489/10000\n",
            "  50/5514 [..............................] - ETA: 1s - loss: nan - acc: 0.1400"
          ],
          "name": "stdout"
        },
        {
          "output_type": "stream",
          "text": [
            "5514/5514 [==============================] - 2s 290us/step - loss: nan - acc: 0.1665 - val_loss: nan - val_acc: 0.1676\n",
            "Epoch 490/10000\n",
            "5514/5514 [==============================] - 2s 293us/step - loss: nan - acc: 0.1665 - val_loss: nan - val_acc: 0.1676\n",
            "Epoch 491/10000\n",
            "5514/5514 [==============================] - 2s 296us/step - loss: nan - acc: 0.1665 - val_loss: nan - val_acc: 0.1676\n",
            "Epoch 492/10000\n",
            "5514/5514 [==============================] - 2s 295us/step - loss: nan - acc: 0.1665 - val_loss: nan - val_acc: 0.1676\n",
            "Epoch 493/10000\n",
            "5514/5514 [==============================] - 2s 295us/step - loss: nan - acc: 0.1665 - val_loss: nan - val_acc: 0.1676\n",
            "Epoch 494/10000\n",
            "5514/5514 [==============================] - 2s 291us/step - loss: nan - acc: 0.1665 - val_loss: nan - val_acc: 0.1676\n",
            "Epoch 495/10000\n",
            "5514/5514 [==============================] - 2s 292us/step - loss: nan - acc: 0.1665 - val_loss: nan - val_acc: 0.1676\n",
            "Epoch 496/10000\n",
            "  50/5514 [..............................] - ETA: 1s - loss: nan - acc: 0.0800"
          ],
          "name": "stdout"
        },
        {
          "output_type": "stream",
          "text": [
            "5514/5514 [==============================] - 2s 295us/step - loss: nan - acc: 0.1665 - val_loss: nan - val_acc: 0.1676\n",
            "Epoch 497/10000\n",
            "5514/5514 [==============================] - 2s 292us/step - loss: nan - acc: 0.1665 - val_loss: nan - val_acc: 0.1676\n",
            "Epoch 498/10000\n",
            "5514/5514 [==============================] - 2s 296us/step - loss: nan - acc: 0.1665 - val_loss: nan - val_acc: 0.1676\n",
            "Epoch 499/10000\n",
            "5514/5514 [==============================] - 2s 293us/step - loss: nan - acc: 0.1665 - val_loss: nan - val_acc: 0.1676\n",
            "Epoch 500/10000\n",
            "5514/5514 [==============================] - 2s 294us/step - loss: nan - acc: 0.1665 - val_loss: nan - val_acc: 0.1676\n",
            "Epoch 501/10000\n",
            "5514/5514 [==============================] - 2s 296us/step - loss: nan - acc: 0.1665 - val_loss: nan - val_acc: 0.1676\n",
            "Epoch 502/10000\n",
            "5514/5514 [==============================] - 2s 295us/step - loss: nan - acc: 0.1665 - val_loss: nan - val_acc: 0.1676\n",
            "Epoch 503/10000\n",
            "  50/5514 [..............................] - ETA: 1s - loss: nan - acc: 0.2000"
          ],
          "name": "stdout"
        },
        {
          "output_type": "stream",
          "text": [
            "5514/5514 [==============================] - 2s 294us/step - loss: nan - acc: 0.1665 - val_loss: nan - val_acc: 0.1676\n",
            "Epoch 504/10000\n",
            "5514/5514 [==============================] - 2s 292us/step - loss: nan - acc: 0.1665 - val_loss: nan - val_acc: 0.1676\n",
            "Epoch 505/10000\n",
            "5514/5514 [==============================] - 2s 289us/step - loss: nan - acc: 0.1665 - val_loss: nan - val_acc: 0.1676\n",
            "Epoch 506/10000\n",
            "5514/5514 [==============================] - 2s 294us/step - loss: nan - acc: 0.1665 - val_loss: nan - val_acc: 0.1676\n",
            "Epoch 507/10000\n",
            "5514/5514 [==============================] - 2s 296us/step - loss: nan - acc: 0.1665 - val_loss: nan - val_acc: 0.1676\n",
            "Epoch 508/10000\n",
            "5514/5514 [==============================] - 2s 296us/step - loss: nan - acc: 0.1665 - val_loss: nan - val_acc: 0.1676\n",
            "Epoch 509/10000\n",
            "5514/5514 [==============================] - 2s 294us/step - loss: nan - acc: 0.1665 - val_loss: nan - val_acc: 0.1676\n",
            "Epoch 510/10000\n",
            "  50/5514 [..............................] - ETA: 2s - loss: nan - acc: 0.1200"
          ],
          "name": "stdout"
        },
        {
          "output_type": "stream",
          "text": [
            "5514/5514 [==============================] - 2s 301us/step - loss: nan - acc: 0.1665 - val_loss: nan - val_acc: 0.1676\n",
            "Epoch 511/10000\n",
            "5514/5514 [==============================] - 2s 301us/step - loss: nan - acc: 0.1665 - val_loss: nan - val_acc: 0.1676\n",
            "Epoch 512/10000\n",
            "5514/5514 [==============================] - 2s 295us/step - loss: nan - acc: 0.1665 - val_loss: nan - val_acc: 0.1676\n",
            "Epoch 513/10000\n",
            "5514/5514 [==============================] - 2s 294us/step - loss: nan - acc: 0.1665 - val_loss: nan - val_acc: 0.1676\n",
            "Epoch 514/10000\n",
            "5514/5514 [==============================] - 2s 294us/step - loss: nan - acc: 0.1665 - val_loss: nan - val_acc: 0.1676\n",
            "Epoch 515/10000\n",
            "5514/5514 [==============================] - 2s 298us/step - loss: nan - acc: 0.1665 - val_loss: nan - val_acc: 0.1676\n",
            "Epoch 516/10000\n",
            "5514/5514 [==============================] - 2s 299us/step - loss: nan - acc: 0.1665 - val_loss: nan - val_acc: 0.1676\n",
            "Epoch 517/10000\n",
            "  50/5514 [..............................] - ETA: 1s - loss: nan - acc: 0.1600"
          ],
          "name": "stdout"
        },
        {
          "output_type": "stream",
          "text": [
            "5514/5514 [==============================] - 2s 299us/step - loss: nan - acc: 0.1665 - val_loss: nan - val_acc: 0.1676\n",
            "Epoch 518/10000\n",
            "5514/5514 [==============================] - 2s 302us/step - loss: nan - acc: 0.1665 - val_loss: nan - val_acc: 0.1676\n",
            "Epoch 519/10000\n",
            "5514/5514 [==============================] - 2s 300us/step - loss: nan - acc: 0.1665 - val_loss: nan - val_acc: 0.1676\n",
            "Epoch 520/10000\n",
            "5514/5514 [==============================] - 2s 301us/step - loss: nan - acc: 0.1665 - val_loss: nan - val_acc: 0.1676\n",
            "Epoch 521/10000\n",
            "5514/5514 [==============================] - 2s 304us/step - loss: nan - acc: 0.1665 - val_loss: nan - val_acc: 0.1676\n",
            "Epoch 522/10000\n",
            "5514/5514 [==============================] - 2s 305us/step - loss: nan - acc: 0.1665 - val_loss: nan - val_acc: 0.1676\n",
            "Epoch 523/10000\n",
            "5514/5514 [==============================] - 2s 301us/step - loss: nan - acc: 0.1665 - val_loss: nan - val_acc: 0.1676\n",
            "Epoch 524/10000\n",
            "  50/5514 [..............................] - ETA: 2s - loss: nan - acc: 0.1400"
          ],
          "name": "stdout"
        },
        {
          "output_type": "stream",
          "text": [
            "5514/5514 [==============================] - 2s 301us/step - loss: nan - acc: 0.1665 - val_loss: nan - val_acc: 0.1676\n",
            "Epoch 525/10000\n",
            "5514/5514 [==============================] - 2s 297us/step - loss: nan - acc: 0.1665 - val_loss: nan - val_acc: 0.1676\n",
            "Epoch 526/10000\n",
            "5514/5514 [==============================] - 2s 294us/step - loss: nan - acc: 0.1665 - val_loss: nan - val_acc: 0.1676\n",
            "Epoch 527/10000\n",
            "5514/5514 [==============================] - 2s 296us/step - loss: nan - acc: 0.1665 - val_loss: nan - val_acc: 0.1676\n",
            "Epoch 528/10000\n",
            "5514/5514 [==============================] - 2s 299us/step - loss: nan - acc: 0.1665 - val_loss: nan - val_acc: 0.1676\n",
            "Epoch 529/10000\n",
            "5514/5514 [==============================] - 2s 300us/step - loss: nan - acc: 0.1665 - val_loss: nan - val_acc: 0.1676\n",
            "Epoch 530/10000\n",
            "5514/5514 [==============================] - 2s 295us/step - loss: nan - acc: 0.1665 - val_loss: nan - val_acc: 0.1676\n",
            "Epoch 531/10000\n",
            "  50/5514 [..............................] - ETA: 1s - loss: nan - acc: 0.1200"
          ],
          "name": "stdout"
        },
        {
          "output_type": "stream",
          "text": [
            "5514/5514 [==============================] - 2s 296us/step - loss: nan - acc: 0.1665 - val_loss: nan - val_acc: 0.1676\n",
            "Epoch 532/10000\n",
            "5514/5514 [==============================] - 2s 296us/step - loss: nan - acc: 0.1665 - val_loss: nan - val_acc: 0.1676\n",
            "Epoch 533/10000\n",
            "5514/5514 [==============================] - 2s 300us/step - loss: nan - acc: 0.1665 - val_loss: nan - val_acc: 0.1676\n",
            "Epoch 534/10000\n",
            "5514/5514 [==============================] - 2s 296us/step - loss: nan - acc: 0.1665 - val_loss: nan - val_acc: 0.1676\n",
            "Epoch 535/10000\n",
            "5514/5514 [==============================] - 2s 293us/step - loss: nan - acc: 0.1665 - val_loss: nan - val_acc: 0.1676\n",
            "Epoch 536/10000\n",
            "5514/5514 [==============================] - 2s 292us/step - loss: nan - acc: 0.1665 - val_loss: nan - val_acc: 0.1676\n",
            "Epoch 537/10000\n",
            "5514/5514 [==============================] - 2s 295us/step - loss: nan - acc: 0.1665 - val_loss: nan - val_acc: 0.1676\n",
            "Epoch 538/10000\n",
            "  50/5514 [..............................] - ETA: 1s - loss: nan - acc: 0.1600"
          ],
          "name": "stdout"
        },
        {
          "output_type": "stream",
          "text": [
            "5514/5514 [==============================] - 2s 292us/step - loss: nan - acc: 0.1665 - val_loss: nan - val_acc: 0.1676\n",
            "Epoch 539/10000\n",
            "5514/5514 [==============================] - 2s 297us/step - loss: nan - acc: 0.1665 - val_loss: nan - val_acc: 0.1676\n",
            "Epoch 540/10000\n",
            "5514/5514 [==============================] - 2s 297us/step - loss: nan - acc: 0.1665 - val_loss: nan - val_acc: 0.1676\n",
            "Epoch 541/10000\n",
            "5514/5514 [==============================] - 2s 287us/step - loss: nan - acc: 0.1665 - val_loss: nan - val_acc: 0.1676\n",
            "Epoch 542/10000\n",
            "5514/5514 [==============================] - 2s 292us/step - loss: nan - acc: 0.1665 - val_loss: nan - val_acc: 0.1676\n",
            "Epoch 543/10000\n",
            "5514/5514 [==============================] - 2s 293us/step - loss: nan - acc: 0.1665 - val_loss: nan - val_acc: 0.1676\n",
            "Epoch 544/10000\n",
            "5514/5514 [==============================] - 2s 290us/step - loss: nan - acc: 0.1665 - val_loss: nan - val_acc: 0.1676\n",
            "Epoch 545/10000\n",
            "  50/5514 [..............................] - ETA: 1s - loss: nan - acc: 0.0800"
          ],
          "name": "stdout"
        },
        {
          "output_type": "stream",
          "text": [
            "5514/5514 [==============================] - 2s 296us/step - loss: nan - acc: 0.1665 - val_loss: nan - val_acc: 0.1676\n",
            "Epoch 546/10000\n",
            "5514/5514 [==============================] - 2s 292us/step - loss: nan - acc: 0.1665 - val_loss: nan - val_acc: 0.1676\n",
            "Epoch 547/10000\n",
            "5514/5514 [==============================] - 2s 296us/step - loss: nan - acc: 0.1665 - val_loss: nan - val_acc: 0.1676\n",
            "Epoch 548/10000\n",
            "5514/5514 [==============================] - 2s 301us/step - loss: nan - acc: 0.1665 - val_loss: nan - val_acc: 0.1676\n",
            "Epoch 549/10000\n",
            "5514/5514 [==============================] - 2s 296us/step - loss: nan - acc: 0.1665 - val_loss: nan - val_acc: 0.1676\n",
            "Epoch 550/10000\n",
            "5514/5514 [==============================] - 2s 292us/step - loss: nan - acc: 0.1665 - val_loss: nan - val_acc: 0.1676\n",
            "Epoch 551/10000\n",
            "5514/5514 [==============================] - 2s 293us/step - loss: nan - acc: 0.1665 - val_loss: nan - val_acc: 0.1676\n",
            "Epoch 552/10000\n",
            "  50/5514 [..............................] - ETA: 1s - loss: nan - acc: 0.1000"
          ],
          "name": "stdout"
        },
        {
          "output_type": "stream",
          "text": [
            "5514/5514 [==============================] - 2s 296us/step - loss: nan - acc: 0.1665 - val_loss: nan - val_acc: 0.1676\n",
            "Epoch 553/10000\n",
            "5514/5514 [==============================] - 2s 299us/step - loss: nan - acc: 0.1665 - val_loss: nan - val_acc: 0.1676\n",
            "Epoch 554/10000\n",
            "5514/5514 [==============================] - 2s 304us/step - loss: nan - acc: 0.1665 - val_loss: nan - val_acc: 0.1676\n",
            "Epoch 555/10000\n",
            "5514/5514 [==============================] - 2s 298us/step - loss: nan - acc: 0.1665 - val_loss: nan - val_acc: 0.1676\n",
            "Epoch 556/10000\n",
            "5514/5514 [==============================] - 2s 291us/step - loss: nan - acc: 0.1665 - val_loss: nan - val_acc: 0.1676\n",
            "Epoch 557/10000\n",
            "5514/5514 [==============================] - 2s 292us/step - loss: nan - acc: 0.1665 - val_loss: nan - val_acc: 0.1676\n",
            "Epoch 558/10000\n",
            "5514/5514 [==============================] - 2s 292us/step - loss: nan - acc: 0.1665 - val_loss: nan - val_acc: 0.1676\n",
            "Epoch 559/10000\n",
            "  50/5514 [..............................] - ETA: 1s - loss: nan - acc: 0.1200"
          ],
          "name": "stdout"
        },
        {
          "output_type": "stream",
          "text": [
            "5514/5514 [==============================] - 2s 295us/step - loss: nan - acc: 0.1665 - val_loss: nan - val_acc: 0.1676\n",
            "Epoch 560/10000\n",
            "5514/5514 [==============================] - 2s 294us/step - loss: nan - acc: 0.1665 - val_loss: nan - val_acc: 0.1676\n",
            "Epoch 561/10000\n",
            "5514/5514 [==============================] - 2s 291us/step - loss: nan - acc: 0.1665 - val_loss: nan - val_acc: 0.1676\n",
            "Epoch 562/10000\n",
            "5514/5514 [==============================] - 2s 289us/step - loss: nan - acc: 0.1665 - val_loss: nan - val_acc: 0.1676\n",
            "Epoch 563/10000\n",
            "5514/5514 [==============================] - 2s 294us/step - loss: nan - acc: 0.1665 - val_loss: nan - val_acc: 0.1676\n",
            "Epoch 564/10000\n",
            "5514/5514 [==============================] - 2s 297us/step - loss: nan - acc: 0.1665 - val_loss: nan - val_acc: 0.1676\n",
            "Epoch 565/10000\n",
            "5514/5514 [==============================] - 2s 295us/step - loss: nan - acc: 0.1665 - val_loss: nan - val_acc: 0.1676\n",
            "Epoch 566/10000\n",
            "  50/5514 [..............................] - ETA: 1s - loss: nan - acc: 0.0800"
          ],
          "name": "stdout"
        },
        {
          "output_type": "stream",
          "text": [
            "5514/5514 [==============================] - 2s 296us/step - loss: nan - acc: 0.1665 - val_loss: nan - val_acc: 0.1676\n",
            "Epoch 567/10000\n",
            "5514/5514 [==============================] - 2s 297us/step - loss: nan - acc: 0.1665 - val_loss: nan - val_acc: 0.1676\n",
            "Epoch 568/10000\n",
            "5514/5514 [==============================] - 2s 294us/step - loss: nan - acc: 0.1665 - val_loss: nan - val_acc: 0.1676\n",
            "Epoch 569/10000\n",
            "5514/5514 [==============================] - 2s 297us/step - loss: nan - acc: 0.1665 - val_loss: nan - val_acc: 0.1676\n",
            "Epoch 570/10000\n",
            "5514/5514 [==============================] - 2s 297us/step - loss: nan - acc: 0.1665 - val_loss: nan - val_acc: 0.1676\n",
            "Epoch 571/10000\n",
            "5514/5514 [==============================] - 2s 294us/step - loss: nan - acc: 0.1665 - val_loss: nan - val_acc: 0.1676\n",
            "Epoch 572/10000\n",
            "5514/5514 [==============================] - 2s 293us/step - loss: nan - acc: 0.1665 - val_loss: nan - val_acc: 0.1676\n",
            "Epoch 573/10000\n",
            "  50/5514 [..............................] - ETA: 1s - loss: nan - acc: 0.3800"
          ],
          "name": "stdout"
        },
        {
          "output_type": "stream",
          "text": [
            "5514/5514 [==============================] - 2s 289us/step - loss: nan - acc: 0.1665 - val_loss: nan - val_acc: 0.1676\n",
            "Epoch 574/10000\n",
            "5514/5514 [==============================] - 2s 291us/step - loss: nan - acc: 0.1665 - val_loss: nan - val_acc: 0.1676\n",
            "Epoch 575/10000\n",
            "5514/5514 [==============================] - 2s 290us/step - loss: nan - acc: 0.1665 - val_loss: nan - val_acc: 0.1676\n",
            "Epoch 576/10000\n",
            "5514/5514 [==============================] - 2s 290us/step - loss: nan - acc: 0.1665 - val_loss: nan - val_acc: 0.1676\n",
            "Epoch 577/10000\n",
            "5514/5514 [==============================] - 2s 295us/step - loss: nan - acc: 0.1665 - val_loss: nan - val_acc: 0.1676\n",
            "Epoch 578/10000\n",
            "5514/5514 [==============================] - 2s 290us/step - loss: nan - acc: 0.1665 - val_loss: nan - val_acc: 0.1676\n",
            "Epoch 579/10000\n",
            "5514/5514 [==============================] - 2s 293us/step - loss: nan - acc: 0.1665 - val_loss: nan - val_acc: 0.1676\n",
            "Epoch 580/10000\n",
            "  50/5514 [..............................] - ETA: 2s - loss: nan - acc: 0.1000"
          ],
          "name": "stdout"
        },
        {
          "output_type": "stream",
          "text": [
            "5514/5514 [==============================] - 2s 294us/step - loss: nan - acc: 0.1665 - val_loss: nan - val_acc: 0.1676\n",
            "Epoch 581/10000\n",
            "5514/5514 [==============================] - 2s 291us/step - loss: nan - acc: 0.1665 - val_loss: nan - val_acc: 0.1676\n",
            "Epoch 582/10000\n",
            "5514/5514 [==============================] - 2s 291us/step - loss: nan - acc: 0.1665 - val_loss: nan - val_acc: 0.1676\n",
            "Epoch 583/10000\n",
            "5514/5514 [==============================] - 2s 290us/step - loss: nan - acc: 0.1665 - val_loss: nan - val_acc: 0.1676\n",
            "Epoch 584/10000\n",
            "5514/5514 [==============================] - 2s 291us/step - loss: nan - acc: 0.1665 - val_loss: nan - val_acc: 0.1676\n",
            "Epoch 585/10000\n",
            "5514/5514 [==============================] - 2s 292us/step - loss: nan - acc: 0.1665 - val_loss: nan - val_acc: 0.1676\n",
            "Epoch 586/10000\n",
            "5514/5514 [==============================] - 2s 292us/step - loss: nan - acc: 0.1665 - val_loss: nan - val_acc: 0.1676\n",
            "Epoch 587/10000\n",
            "  50/5514 [..............................] - ETA: 1s - loss: nan - acc: 0.2400"
          ],
          "name": "stdout"
        },
        {
          "output_type": "stream",
          "text": [
            "5514/5514 [==============================] - 2s 293us/step - loss: nan - acc: 0.1665 - val_loss: nan - val_acc: 0.1676\n",
            "Epoch 588/10000\n",
            "5514/5514 [==============================] - 2s 292us/step - loss: nan - acc: 0.1665 - val_loss: nan - val_acc: 0.1676\n",
            "Epoch 589/10000\n",
            "5514/5514 [==============================] - 2s 294us/step - loss: nan - acc: 0.1665 - val_loss: nan - val_acc: 0.1676\n",
            "Epoch 590/10000\n",
            "5514/5514 [==============================] - 2s 297us/step - loss: nan - acc: 0.1665 - val_loss: nan - val_acc: 0.1676\n",
            "Epoch 591/10000\n",
            "5514/5514 [==============================] - 2s 296us/step - loss: nan - acc: 0.1665 - val_loss: nan - val_acc: 0.1676\n",
            "Epoch 592/10000\n",
            "5514/5514 [==============================] - 2s 297us/step - loss: nan - acc: 0.1665 - val_loss: nan - val_acc: 0.1676\n",
            "Epoch 593/10000\n",
            "5514/5514 [==============================] - 2s 295us/step - loss: nan - acc: 0.1665 - val_loss: nan - val_acc: 0.1676\n",
            "Epoch 594/10000\n",
            "  50/5514 [..............................] - ETA: 1s - loss: nan - acc: 0.2200"
          ],
          "name": "stdout"
        },
        {
          "output_type": "stream",
          "text": [
            "5514/5514 [==============================] - 2s 294us/step - loss: nan - acc: 0.1665 - val_loss: nan - val_acc: 0.1676\n",
            "Epoch 595/10000\n",
            "5514/5514 [==============================] - 2s 292us/step - loss: nan - acc: 0.1665 - val_loss: nan - val_acc: 0.1676\n",
            "Epoch 596/10000\n",
            "5514/5514 [==============================] - 2s 293us/step - loss: nan - acc: 0.1665 - val_loss: nan - val_acc: 0.1676\n",
            "Epoch 597/10000\n",
            "5514/5514 [==============================] - 2s 295us/step - loss: nan - acc: 0.1665 - val_loss: nan - val_acc: 0.1676\n",
            "Epoch 598/10000\n",
            "5514/5514 [==============================] - 2s 297us/step - loss: nan - acc: 0.1665 - val_loss: nan - val_acc: 0.1676\n",
            "Epoch 599/10000\n",
            "5514/5514 [==============================] - 2s 296us/step - loss: nan - acc: 0.1665 - val_loss: nan - val_acc: 0.1676\n",
            "Epoch 600/10000\n",
            "5514/5514 [==============================] - 2s 295us/step - loss: nan - acc: 0.1665 - val_loss: nan - val_acc: 0.1676\n",
            "Epoch 601/10000\n",
            "  50/5514 [..............................] - ETA: 1s - loss: nan - acc: 0.2400"
          ],
          "name": "stdout"
        },
        {
          "output_type": "stream",
          "text": [
            "5514/5514 [==============================] - 2s 299us/step - loss: nan - acc: 0.1665 - val_loss: nan - val_acc: 0.1676\n",
            "Epoch 602/10000\n",
            "5514/5514 [==============================] - 2s 297us/step - loss: nan - acc: 0.1665 - val_loss: nan - val_acc: 0.1676\n",
            "Epoch 603/10000\n",
            "5514/5514 [==============================] - 2s 298us/step - loss: nan - acc: 0.1665 - val_loss: nan - val_acc: 0.1676\n",
            "Epoch 604/10000\n",
            "5514/5514 [==============================] - 2s 299us/step - loss: nan - acc: 0.1665 - val_loss: nan - val_acc: 0.1676\n",
            "Epoch 605/10000\n",
            "5514/5514 [==============================] - 2s 296us/step - loss: nan - acc: 0.1665 - val_loss: nan - val_acc: 0.1676\n",
            "Epoch 606/10000\n",
            "5514/5514 [==============================] - 2s 298us/step - loss: nan - acc: 0.1665 - val_loss: nan - val_acc: 0.1676\n",
            "Epoch 607/10000\n",
            "5514/5514 [==============================] - 2s 303us/step - loss: nan - acc: 0.1665 - val_loss: nan - val_acc: 0.1676\n",
            "Epoch 608/10000\n",
            "  50/5514 [..............................] - ETA: 1s - loss: nan - acc: 0.1200"
          ],
          "name": "stdout"
        },
        {
          "output_type": "stream",
          "text": [
            "5514/5514 [==============================] - 2s 296us/step - loss: nan - acc: 0.1665 - val_loss: nan - val_acc: 0.1676\n",
            "Epoch 609/10000\n",
            "5514/5514 [==============================] - 2s 295us/step - loss: nan - acc: 0.1665 - val_loss: nan - val_acc: 0.1676\n",
            "Epoch 610/10000\n",
            "5514/5514 [==============================] - 2s 292us/step - loss: nan - acc: 0.1665 - val_loss: nan - val_acc: 0.1676\n",
            "Epoch 611/10000\n",
            "5514/5514 [==============================] - 2s 296us/step - loss: nan - acc: 0.1665 - val_loss: nan - val_acc: 0.1676\n",
            "Epoch 612/10000\n",
            "5514/5514 [==============================] - 2s 290us/step - loss: nan - acc: 0.1665 - val_loss: nan - val_acc: 0.1676\n",
            "Epoch 613/10000\n",
            "5514/5514 [==============================] - 2s 295us/step - loss: nan - acc: 0.1665 - val_loss: nan - val_acc: 0.1676\n",
            "Epoch 614/10000\n",
            "5514/5514 [==============================] - 2s 297us/step - loss: nan - acc: 0.1665 - val_loss: nan - val_acc: 0.1676\n",
            "Epoch 615/10000\n",
            "  50/5514 [..............................] - ETA: 1s - loss: nan - acc: 0.2400"
          ],
          "name": "stdout"
        },
        {
          "output_type": "stream",
          "text": [
            "5514/5514 [==============================] - 2s 300us/step - loss: nan - acc: 0.1665 - val_loss: nan - val_acc: 0.1676\n",
            "Epoch 616/10000\n",
            "5514/5514 [==============================] - 2s 301us/step - loss: nan - acc: 0.1665 - val_loss: nan - val_acc: 0.1676\n",
            "Epoch 617/10000\n",
            "5514/5514 [==============================] - 2s 300us/step - loss: nan - acc: 0.1665 - val_loss: nan - val_acc: 0.1676\n",
            "Epoch 618/10000\n",
            "5514/5514 [==============================] - 2s 303us/step - loss: nan - acc: 0.1665 - val_loss: nan - val_acc: 0.1676\n",
            "Epoch 619/10000\n",
            "5514/5514 [==============================] - 2s 301us/step - loss: nan - acc: 0.1665 - val_loss: nan - val_acc: 0.1676\n",
            "Epoch 620/10000\n",
            "5514/5514 [==============================] - 2s 297us/step - loss: nan - acc: 0.1665 - val_loss: nan - val_acc: 0.1676\n",
            "Epoch 621/10000\n",
            "5514/5514 [==============================] - 2s 296us/step - loss: nan - acc: 0.1665 - val_loss: nan - val_acc: 0.1676\n",
            "Epoch 622/10000\n",
            "  50/5514 [..............................] - ETA: 1s - loss: nan - acc: 0.3000"
          ],
          "name": "stdout"
        },
        {
          "output_type": "stream",
          "text": [
            "5514/5514 [==============================] - 2s 297us/step - loss: nan - acc: 0.1665 - val_loss: nan - val_acc: 0.1676\n",
            "Epoch 623/10000\n",
            "5514/5514 [==============================] - 2s 299us/step - loss: nan - acc: 0.1665 - val_loss: nan - val_acc: 0.1676\n",
            "Epoch 624/10000\n",
            "5514/5514 [==============================] - 2s 299us/step - loss: nan - acc: 0.1665 - val_loss: nan - val_acc: 0.1676\n",
            "Epoch 625/10000\n",
            "5514/5514 [==============================] - 2s 300us/step - loss: nan - acc: 0.1665 - val_loss: nan - val_acc: 0.1676\n",
            "Epoch 626/10000\n",
            "5514/5514 [==============================] - 2s 300us/step - loss: nan - acc: 0.1665 - val_loss: nan - val_acc: 0.1676\n",
            "Epoch 627/10000\n",
            "5514/5514 [==============================] - 2s 299us/step - loss: nan - acc: 0.1665 - val_loss: nan - val_acc: 0.1676\n",
            "Epoch 628/10000\n",
            "5514/5514 [==============================] - 2s 301us/step - loss: nan - acc: 0.1665 - val_loss: nan - val_acc: 0.1676\n",
            "Epoch 629/10000\n",
            "  50/5514 [..............................] - ETA: 1s - loss: nan - acc: 0.2200"
          ],
          "name": "stdout"
        },
        {
          "output_type": "stream",
          "text": [
            "5514/5514 [==============================] - 2s 303us/step - loss: nan - acc: 0.1665 - val_loss: nan - val_acc: 0.1676\n",
            "Epoch 630/10000\n",
            "5514/5514 [==============================] - 2s 299us/step - loss: nan - acc: 0.1665 - val_loss: nan - val_acc: 0.1676\n",
            "Epoch 631/10000\n",
            "5514/5514 [==============================] - 2s 301us/step - loss: nan - acc: 0.1665 - val_loss: nan - val_acc: 0.1676\n",
            "Epoch 632/10000\n",
            "5514/5514 [==============================] - 2s 300us/step - loss: nan - acc: 0.1665 - val_loss: nan - val_acc: 0.1676\n",
            "Epoch 633/10000\n",
            "5514/5514 [==============================] - 2s 302us/step - loss: nan - acc: 0.1665 - val_loss: nan - val_acc: 0.1676\n",
            "Epoch 634/10000\n",
            "5514/5514 [==============================] - 2s 300us/step - loss: nan - acc: 0.1665 - val_loss: nan - val_acc: 0.1676\n",
            "Epoch 635/10000\n",
            "5514/5514 [==============================] - 2s 298us/step - loss: nan - acc: 0.1665 - val_loss: nan - val_acc: 0.1676\n",
            "Epoch 636/10000\n",
            "  50/5514 [..............................] - ETA: 1s - loss: nan - acc: 0.2800"
          ],
          "name": "stdout"
        },
        {
          "output_type": "stream",
          "text": [
            "5514/5514 [==============================] - 2s 298us/step - loss: nan - acc: 0.1665 - val_loss: nan - val_acc: 0.1676\n",
            "Epoch 637/10000\n",
            "5514/5514 [==============================] - 2s 299us/step - loss: nan - acc: 0.1665 - val_loss: nan - val_acc: 0.1676\n",
            "Epoch 638/10000\n",
            "5514/5514 [==============================] - 2s 296us/step - loss: nan - acc: 0.1665 - val_loss: nan - val_acc: 0.1676\n",
            "Epoch 639/10000\n",
            "5514/5514 [==============================] - 2s 297us/step - loss: nan - acc: 0.1665 - val_loss: nan - val_acc: 0.1676\n",
            "Epoch 640/10000\n",
            "5514/5514 [==============================] - 2s 298us/step - loss: nan - acc: 0.1665 - val_loss: nan - val_acc: 0.1676\n",
            "Epoch 641/10000\n",
            "5514/5514 [==============================] - 2s 297us/step - loss: nan - acc: 0.1665 - val_loss: nan - val_acc: 0.1676\n",
            "Epoch 642/10000\n",
            "5514/5514 [==============================] - 2s 297us/step - loss: nan - acc: 0.1665 - val_loss: nan - val_acc: 0.1676\n",
            "Epoch 643/10000\n",
            "  50/5514 [..............................] - ETA: 1s - loss: nan - acc: 0.2600"
          ],
          "name": "stdout"
        },
        {
          "output_type": "stream",
          "text": [
            "5514/5514 [==============================] - 2s 297us/step - loss: nan - acc: 0.1665 - val_loss: nan - val_acc: 0.1676\n",
            "Epoch 644/10000\n",
            "5514/5514 [==============================] - 2s 296us/step - loss: nan - acc: 0.1665 - val_loss: nan - val_acc: 0.1676\n",
            "Epoch 645/10000\n",
            "5514/5514 [==============================] - 2s 297us/step - loss: nan - acc: 0.1665 - val_loss: nan - val_acc: 0.1676\n",
            "Epoch 646/10000\n",
            "5514/5514 [==============================] - 2s 297us/step - loss: nan - acc: 0.1665 - val_loss: nan - val_acc: 0.1676\n",
            "Epoch 647/10000\n",
            "5514/5514 [==============================] - 2s 300us/step - loss: nan - acc: 0.1665 - val_loss: nan - val_acc: 0.1676\n",
            "Epoch 648/10000\n",
            "5514/5514 [==============================] - 2s 299us/step - loss: nan - acc: 0.1665 - val_loss: nan - val_acc: 0.1676\n",
            "Epoch 649/10000\n",
            "5514/5514 [==============================] - 2s 300us/step - loss: nan - acc: 0.1665 - val_loss: nan - val_acc: 0.1676\n",
            "Epoch 650/10000\n",
            "  50/5514 [..............................] - ETA: 1s - loss: nan - acc: 0.2000"
          ],
          "name": "stdout"
        },
        {
          "output_type": "stream",
          "text": [
            "5514/5514 [==============================] - 2s 297us/step - loss: nan - acc: 0.1665 - val_loss: nan - val_acc: 0.1676\n",
            "Epoch 651/10000\n",
            "5514/5514 [==============================] - 2s 298us/step - loss: nan - acc: 0.1665 - val_loss: nan - val_acc: 0.1676\n",
            "Epoch 652/10000\n",
            "5514/5514 [==============================] - 2s 306us/step - loss: nan - acc: 0.1665 - val_loss: nan - val_acc: 0.1676\n",
            "Epoch 653/10000\n",
            "5514/5514 [==============================] - 2s 304us/step - loss: nan - acc: 0.1665 - val_loss: nan - val_acc: 0.1676\n",
            "Epoch 654/10000\n",
            "5514/5514 [==============================] - 2s 305us/step - loss: nan - acc: 0.1665 - val_loss: nan - val_acc: 0.1676\n",
            "Epoch 655/10000\n",
            "5514/5514 [==============================] - 2s 304us/step - loss: nan - acc: 0.1665 - val_loss: nan - val_acc: 0.1676\n",
            "Epoch 656/10000\n",
            "5514/5514 [==============================] - 2s 304us/step - loss: nan - acc: 0.1665 - val_loss: nan - val_acc: 0.1676\n"
          ],
          "name": "stdout"
        },
        {
          "output_type": "stream",
          "text": [
            "Epoch 657/10000\n",
            "5514/5514 [==============================] - 2s 307us/step - loss: nan - acc: 0.1665 - val_loss: nan - val_acc: 0.1676\n",
            "Epoch 658/10000\n",
            "5514/5514 [==============================] - 2s 308us/step - loss: nan - acc: 0.1665 - val_loss: nan - val_acc: 0.1676\n",
            "Epoch 659/10000\n",
            "5514/5514 [==============================] - 2s 307us/step - loss: nan - acc: 0.1665 - val_loss: nan - val_acc: 0.1676\n",
            "Epoch 660/10000\n",
            "5514/5514 [==============================] - 2s 306us/step - loss: nan - acc: 0.1665 - val_loss: nan - val_acc: 0.1676\n",
            "Epoch 661/10000\n",
            "5514/5514 [==============================] - 2s 305us/step - loss: nan - acc: 0.1665 - val_loss: nan - val_acc: 0.1676\n",
            "Epoch 662/10000\n",
            "5514/5514 [==============================] - 2s 306us/step - loss: nan - acc: 0.1665 - val_loss: nan - val_acc: 0.1676\n",
            "Epoch 663/10000\n",
            "5200/5514 [===========================>..] - ETA: 0s - loss: nan - acc: 0.1669"
          ],
          "name": "stdout"
        },
        {
          "output_type": "stream",
          "text": [
            "5514/5514 [==============================] - 2s 308us/step - loss: nan - acc: 0.1665 - val_loss: nan - val_acc: 0.1676\n",
            "Epoch 664/10000\n",
            "5514/5514 [==============================] - 2s 305us/step - loss: nan - acc: 0.1665 - val_loss: nan - val_acc: 0.1676\n",
            "Epoch 665/10000\n",
            "5514/5514 [==============================] - 2s 302us/step - loss: nan - acc: 0.1665 - val_loss: nan - val_acc: 0.1676\n",
            "Epoch 666/10000\n",
            "5514/5514 [==============================] - 2s 297us/step - loss: nan - acc: 0.1665 - val_loss: nan - val_acc: 0.1676\n",
            "Epoch 667/10000\n",
            "5514/5514 [==============================] - 2s 296us/step - loss: nan - acc: 0.1665 - val_loss: nan - val_acc: 0.1676\n",
            "Epoch 668/10000\n",
            "5514/5514 [==============================] - 2s 301us/step - loss: nan - acc: 0.1665 - val_loss: nan - val_acc: 0.1676\n",
            "Epoch 669/10000\n",
            "5514/5514 [==============================] - 2s 300us/step - loss: nan - acc: 0.1665 - val_loss: nan - val_acc: 0.1676\n",
            "Epoch 670/10000\n",
            " 450/5514 [=>............................] - ETA: 1s - loss: nan - acc: 0.1444"
          ],
          "name": "stdout"
        },
        {
          "output_type": "stream",
          "text": [
            "5514/5514 [==============================] - 2s 303us/step - loss: nan - acc: 0.1665 - val_loss: nan - val_acc: 0.1676\n",
            "Epoch 671/10000\n",
            "5514/5514 [==============================] - 2s 302us/step - loss: nan - acc: 0.1665 - val_loss: nan - val_acc: 0.1676\n",
            "Epoch 672/10000\n",
            "5514/5514 [==============================] - 2s 301us/step - loss: nan - acc: 0.1665 - val_loss: nan - val_acc: 0.1676\n",
            "Epoch 673/10000\n",
            "5514/5514 [==============================] - 2s 298us/step - loss: nan - acc: 0.1665 - val_loss: nan - val_acc: 0.1676\n",
            "Epoch 674/10000\n",
            "5514/5514 [==============================] - 2s 301us/step - loss: nan - acc: 0.1665 - val_loss: nan - val_acc: 0.1676\n",
            "Epoch 675/10000\n",
            "5514/5514 [==============================] - 2s 301us/step - loss: nan - acc: 0.1665 - val_loss: nan - val_acc: 0.1676\n",
            "Epoch 676/10000\n",
            "5514/5514 [==============================] - 2s 299us/step - loss: nan - acc: 0.1665 - val_loss: nan - val_acc: 0.1676\n",
            "Epoch 677/10000\n",
            "  50/5514 [..............................] - ETA: 1s - loss: nan - acc: 0.2800"
          ],
          "name": "stdout"
        },
        {
          "output_type": "stream",
          "text": [
            "5514/5514 [==============================] - 2s 299us/step - loss: nan - acc: 0.1665 - val_loss: nan - val_acc: 0.1676\n",
            "Epoch 678/10000\n",
            "5514/5514 [==============================] - 2s 299us/step - loss: nan - acc: 0.1665 - val_loss: nan - val_acc: 0.1676\n",
            "Epoch 679/10000\n",
            "5514/5514 [==============================] - 2s 298us/step - loss: nan - acc: 0.1665 - val_loss: nan - val_acc: 0.1676\n",
            "Epoch 680/10000\n",
            "5514/5514 [==============================] - 2s 301us/step - loss: nan - acc: 0.1665 - val_loss: nan - val_acc: 0.1676\n",
            "Epoch 681/10000\n",
            "5514/5514 [==============================] - 2s 298us/step - loss: nan - acc: 0.1665 - val_loss: nan - val_acc: 0.1676\n",
            "Epoch 682/10000\n",
            "5514/5514 [==============================] - 2s 298us/step - loss: nan - acc: 0.1665 - val_loss: nan - val_acc: 0.1676\n",
            "Epoch 683/10000\n",
            "5514/5514 [==============================] - 2s 302us/step - loss: nan - acc: 0.1665 - val_loss: nan - val_acc: 0.1676\n",
            "Epoch 684/10000\n",
            "  50/5514 [..............................] - ETA: 1s - loss: nan - acc: 0.1200"
          ],
          "name": "stdout"
        },
        {
          "output_type": "stream",
          "text": [
            "5514/5514 [==============================] - 2s 301us/step - loss: nan - acc: 0.1665 - val_loss: nan - val_acc: 0.1676\n",
            "Epoch 685/10000\n",
            "5514/5514 [==============================] - 2s 299us/step - loss: nan - acc: 0.1665 - val_loss: nan - val_acc: 0.1676\n",
            "Epoch 686/10000\n",
            "5514/5514 [==============================] - 2s 301us/step - loss: nan - acc: 0.1665 - val_loss: nan - val_acc: 0.1676\n",
            "Epoch 687/10000\n",
            "5514/5514 [==============================] - 2s 301us/step - loss: nan - acc: 0.1665 - val_loss: nan - val_acc: 0.1676\n",
            "Epoch 688/10000\n",
            "5514/5514 [==============================] - 2s 296us/step - loss: nan - acc: 0.1665 - val_loss: nan - val_acc: 0.1676\n",
            "Epoch 689/10000\n",
            "5514/5514 [==============================] - 2s 299us/step - loss: nan - acc: 0.1665 - val_loss: nan - val_acc: 0.1676\n",
            "Epoch 690/10000\n",
            "5514/5514 [==============================] - 2s 304us/step - loss: nan - acc: 0.1665 - val_loss: nan - val_acc: 0.1676\n",
            "Epoch 691/10000\n",
            "  50/5514 [..............................] - ETA: 1s - loss: nan - acc: 0.1400"
          ],
          "name": "stdout"
        },
        {
          "output_type": "stream",
          "text": [
            "5514/5514 [==============================] - 2s 301us/step - loss: nan - acc: 0.1665 - val_loss: nan - val_acc: 0.1676\n",
            "Epoch 692/10000\n",
            "5514/5514 [==============================] - 2s 302us/step - loss: nan - acc: 0.1665 - val_loss: nan - val_acc: 0.1676\n",
            "Epoch 693/10000\n",
            "5514/5514 [==============================] - 2s 300us/step - loss: nan - acc: 0.1665 - val_loss: nan - val_acc: 0.1676\n",
            "Epoch 694/10000\n",
            "5514/5514 [==============================] - 2s 300us/step - loss: nan - acc: 0.1665 - val_loss: nan - val_acc: 0.1676\n",
            "Epoch 695/10000\n",
            "5514/5514 [==============================] - 2s 301us/step - loss: nan - acc: 0.1665 - val_loss: nan - val_acc: 0.1676\n",
            "Epoch 696/10000\n",
            "5514/5514 [==============================] - 2s 301us/step - loss: nan - acc: 0.1665 - val_loss: nan - val_acc: 0.1676\n",
            "Epoch 697/10000\n",
            "5514/5514 [==============================] - 2s 303us/step - loss: nan - acc: 0.1665 - val_loss: nan - val_acc: 0.1676\n",
            "Epoch 698/10000\n",
            "  50/5514 [..............................] - ETA: 1s - loss: nan - acc: 0.1600"
          ],
          "name": "stdout"
        },
        {
          "output_type": "stream",
          "text": [
            "5514/5514 [==============================] - 2s 303us/step - loss: nan - acc: 0.1665 - val_loss: nan - val_acc: 0.1676\n",
            "Epoch 699/10000\n",
            "5514/5514 [==============================] - 2s 301us/step - loss: nan - acc: 0.1665 - val_loss: nan - val_acc: 0.1676\n",
            "Epoch 700/10000\n",
            "5514/5514 [==============================] - 2s 301us/step - loss: nan - acc: 0.1665 - val_loss: nan - val_acc: 0.1676\n",
            "Epoch 701/10000\n",
            "5514/5514 [==============================] - 2s 299us/step - loss: nan - acc: 0.1665 - val_loss: nan - val_acc: 0.1676\n",
            "Epoch 702/10000\n",
            "5514/5514 [==============================] - 2s 301us/step - loss: nan - acc: 0.1665 - val_loss: nan - val_acc: 0.1676\n",
            "Epoch 703/10000\n",
            "5514/5514 [==============================] - 2s 300us/step - loss: nan - acc: 0.1665 - val_loss: nan - val_acc: 0.1676\n",
            "Epoch 704/10000\n",
            "5514/5514 [==============================] - 2s 300us/step - loss: nan - acc: 0.1665 - val_loss: nan - val_acc: 0.1676\n",
            "Epoch 705/10000\n",
            "  50/5514 [..............................] - ETA: 1s - loss: nan - acc: 0.1400"
          ],
          "name": "stdout"
        },
        {
          "output_type": "stream",
          "text": [
            "5514/5514 [==============================] - 2s 303us/step - loss: nan - acc: 0.1665 - val_loss: nan - val_acc: 0.1676\n",
            "Epoch 706/10000\n",
            "5514/5514 [==============================] - 2s 301us/step - loss: nan - acc: 0.1665 - val_loss: nan - val_acc: 0.1676\n",
            "Epoch 707/10000\n",
            "5514/5514 [==============================] - 2s 297us/step - loss: nan - acc: 0.1665 - val_loss: nan - val_acc: 0.1676\n",
            "Epoch 708/10000\n",
            "5514/5514 [==============================] - 2s 300us/step - loss: nan - acc: 0.1665 - val_loss: nan - val_acc: 0.1676\n",
            "Epoch 709/10000\n",
            "5514/5514 [==============================] - 2s 300us/step - loss: nan - acc: 0.1665 - val_loss: nan - val_acc: 0.1676\n",
            "Epoch 710/10000\n",
            "5514/5514 [==============================] - 2s 299us/step - loss: nan - acc: 0.1665 - val_loss: nan - val_acc: 0.1676\n",
            "Epoch 711/10000\n",
            "5514/5514 [==============================] - 2s 300us/step - loss: nan - acc: 0.1665 - val_loss: nan - val_acc: 0.1676\n",
            "Epoch 712/10000\n",
            "  50/5514 [..............................] - ETA: 1s - loss: nan - acc: 0.1400"
          ],
          "name": "stdout"
        },
        {
          "output_type": "stream",
          "text": [
            "5514/5514 [==============================] - 2s 293us/step - loss: nan - acc: 0.1665 - val_loss: nan - val_acc: 0.1676\n",
            "Epoch 713/10000\n",
            "5514/5514 [==============================] - 2s 297us/step - loss: nan - acc: 0.1665 - val_loss: nan - val_acc: 0.1676\n",
            "Epoch 714/10000\n",
            "5514/5514 [==============================] - 2s 297us/step - loss: nan - acc: 0.1665 - val_loss: nan - val_acc: 0.1676\n",
            "Epoch 715/10000\n",
            "5514/5514 [==============================] - 2s 297us/step - loss: nan - acc: 0.1665 - val_loss: nan - val_acc: 0.1676\n",
            "Epoch 716/10000\n",
            "5514/5514 [==============================] - 2s 301us/step - loss: nan - acc: 0.1665 - val_loss: nan - val_acc: 0.1676\n",
            "Epoch 717/10000\n",
            "5514/5514 [==============================] - 2s 297us/step - loss: nan - acc: 0.1665 - val_loss: nan - val_acc: 0.1676\n",
            "Epoch 718/10000\n",
            "5514/5514 [==============================] - 2s 297us/step - loss: nan - acc: 0.1665 - val_loss: nan - val_acc: 0.1676\n",
            "Epoch 719/10000\n",
            "  50/5514 [..............................] - ETA: 1s - loss: nan - acc: 0.2000"
          ],
          "name": "stdout"
        },
        {
          "output_type": "stream",
          "text": [
            "5514/5514 [==============================] - 2s 301us/step - loss: nan - acc: 0.1665 - val_loss: nan - val_acc: 0.1676\n",
            "Epoch 720/10000\n",
            "5514/5514 [==============================] - 2s 301us/step - loss: nan - acc: 0.1665 - val_loss: nan - val_acc: 0.1676\n",
            "Epoch 721/10000\n",
            "5514/5514 [==============================] - 2s 302us/step - loss: nan - acc: 0.1665 - val_loss: nan - val_acc: 0.1676\n",
            "Epoch 722/10000\n",
            "5514/5514 [==============================] - 2s 302us/step - loss: nan - acc: 0.1665 - val_loss: nan - val_acc: 0.1676\n",
            "Epoch 723/10000\n",
            "5514/5514 [==============================] - 2s 302us/step - loss: nan - acc: 0.1665 - val_loss: nan - val_acc: 0.1676\n",
            "Epoch 724/10000\n",
            "5514/5514 [==============================] - 2s 302us/step - loss: nan - acc: 0.1665 - val_loss: nan - val_acc: 0.1676\n",
            "Epoch 725/10000\n",
            "5514/5514 [==============================] - 2s 301us/step - loss: nan - acc: 0.1665 - val_loss: nan - val_acc: 0.1676\n",
            "Epoch 726/10000\n",
            "  50/5514 [..............................] - ETA: 1s - loss: nan - acc: 0.1800"
          ],
          "name": "stdout"
        },
        {
          "output_type": "stream",
          "text": [
            "5514/5514 [==============================] - 2s 301us/step - loss: nan - acc: 0.1665 - val_loss: nan - val_acc: 0.1676\n",
            "Epoch 727/10000\n",
            "5514/5514 [==============================] - 2s 299us/step - loss: nan - acc: 0.1665 - val_loss: nan - val_acc: 0.1676\n",
            "Epoch 728/10000\n",
            "5514/5514 [==============================] - 2s 298us/step - loss: nan - acc: 0.1665 - val_loss: nan - val_acc: 0.1676\n",
            "Epoch 729/10000\n",
            "5514/5514 [==============================] - 2s 298us/step - loss: nan - acc: 0.1665 - val_loss: nan - val_acc: 0.1676\n",
            "Epoch 730/10000\n",
            "5514/5514 [==============================] - 2s 301us/step - loss: nan - acc: 0.1665 - val_loss: nan - val_acc: 0.1676\n",
            "Epoch 731/10000\n",
            "5514/5514 [==============================] - 2s 297us/step - loss: nan - acc: 0.1665 - val_loss: nan - val_acc: 0.1676\n",
            "Epoch 732/10000\n",
            "5514/5514 [==============================] - 2s 295us/step - loss: nan - acc: 0.1665 - val_loss: nan - val_acc: 0.1676\n",
            "Epoch 733/10000\n",
            "  50/5514 [..............................] - ETA: 1s - loss: nan - acc: 0.1200"
          ],
          "name": "stdout"
        },
        {
          "output_type": "stream",
          "text": [
            "5514/5514 [==============================] - 2s 296us/step - loss: nan - acc: 0.1665 - val_loss: nan - val_acc: 0.1676\n",
            "Epoch 734/10000\n",
            "5514/5514 [==============================] - 2s 298us/step - loss: nan - acc: 0.1665 - val_loss: nan - val_acc: 0.1676\n",
            "Epoch 735/10000\n",
            "5514/5514 [==============================] - 2s 301us/step - loss: nan - acc: 0.1665 - val_loss: nan - val_acc: 0.1676\n",
            "Epoch 736/10000\n",
            "5514/5514 [==============================] - 2s 299us/step - loss: nan - acc: 0.1665 - val_loss: nan - val_acc: 0.1676\n",
            "Epoch 737/10000\n",
            "5514/5514 [==============================] - 2s 297us/step - loss: nan - acc: 0.1665 - val_loss: nan - val_acc: 0.1676\n",
            "Epoch 738/10000\n",
            "5514/5514 [==============================] - 2s 295us/step - loss: nan - acc: 0.1665 - val_loss: nan - val_acc: 0.1676\n",
            "Epoch 739/10000\n",
            "5514/5514 [==============================] - 2s 295us/step - loss: nan - acc: 0.1665 - val_loss: nan - val_acc: 0.1676\n",
            "Epoch 740/10000\n",
            "  50/5514 [..............................] - ETA: 1s - loss: nan - acc: 0.1400"
          ],
          "name": "stdout"
        },
        {
          "output_type": "stream",
          "text": [
            "5514/5514 [==============================] - 2s 296us/step - loss: nan - acc: 0.1665 - val_loss: nan - val_acc: 0.1676\n",
            "Epoch 741/10000\n",
            "5514/5514 [==============================] - 2s 298us/step - loss: nan - acc: 0.1665 - val_loss: nan - val_acc: 0.1676\n",
            "Epoch 742/10000\n",
            "5514/5514 [==============================] - 2s 296us/step - loss: nan - acc: 0.1665 - val_loss: nan - val_acc: 0.1676\n",
            "Epoch 743/10000\n",
            "5514/5514 [==============================] - 2s 294us/step - loss: nan - acc: 0.1665 - val_loss: nan - val_acc: 0.1676\n",
            "Epoch 744/10000\n",
            "5514/5514 [==============================] - 2s 299us/step - loss: nan - acc: 0.1665 - val_loss: nan - val_acc: 0.1676\n",
            "Epoch 745/10000\n",
            "5514/5514 [==============================] - 2s 297us/step - loss: nan - acc: 0.1665 - val_loss: nan - val_acc: 0.1676\n",
            "Epoch 746/10000\n",
            "5514/5514 [==============================] - 2s 295us/step - loss: nan - acc: 0.1665 - val_loss: nan - val_acc: 0.1676\n",
            "Epoch 747/10000\n",
            "  50/5514 [..............................] - ETA: 1s - loss: nan - acc: 0.1200"
          ],
          "name": "stdout"
        },
        {
          "output_type": "stream",
          "text": [
            "5514/5514 [==============================] - 2s 295us/step - loss: nan - acc: 0.1665 - val_loss: nan - val_acc: 0.1676\n",
            "Epoch 748/10000\n",
            "5514/5514 [==============================] - 2s 296us/step - loss: nan - acc: 0.1665 - val_loss: nan - val_acc: 0.1676\n",
            "Epoch 749/10000\n",
            "5514/5514 [==============================] - 2s 301us/step - loss: nan - acc: 0.1665 - val_loss: nan - val_acc: 0.1676\n",
            "Epoch 750/10000\n",
            "5514/5514 [==============================] - 2s 298us/step - loss: nan - acc: 0.1665 - val_loss: nan - val_acc: 0.1676\n",
            "Epoch 751/10000\n",
            "5514/5514 [==============================] - 2s 295us/step - loss: nan - acc: 0.1665 - val_loss: nan - val_acc: 0.1676\n",
            "Epoch 752/10000\n",
            "5514/5514 [==============================] - 2s 298us/step - loss: nan - acc: 0.1665 - val_loss: nan - val_acc: 0.1676\n",
            "Epoch 753/10000\n",
            "5514/5514 [==============================] - 2s 296us/step - loss: nan - acc: 0.1665 - val_loss: nan - val_acc: 0.1676\n",
            "Epoch 754/10000\n",
            "  50/5514 [..............................] - ETA: 1s - loss: nan - acc: 0.1000"
          ],
          "name": "stdout"
        },
        {
          "output_type": "stream",
          "text": [
            "5514/5514 [==============================] - 2s 295us/step - loss: nan - acc: 0.1665 - val_loss: nan - val_acc: 0.1676\n",
            "Epoch 755/10000\n",
            "5514/5514 [==============================] - 2s 294us/step - loss: nan - acc: 0.1665 - val_loss: nan - val_acc: 0.1676\n",
            "Epoch 756/10000\n",
            "5514/5514 [==============================] - 2s 298us/step - loss: nan - acc: 0.1665 - val_loss: nan - val_acc: 0.1676\n",
            "Epoch 757/10000\n",
            "5514/5514 [==============================] - 2s 298us/step - loss: nan - acc: 0.1665 - val_loss: nan - val_acc: 0.1676\n",
            "Epoch 758/10000\n",
            "5514/5514 [==============================] - 2s 297us/step - loss: nan - acc: 0.1665 - val_loss: nan - val_acc: 0.1676\n",
            "Epoch 759/10000\n",
            "5514/5514 [==============================] - 2s 297us/step - loss: nan - acc: 0.1665 - val_loss: nan - val_acc: 0.1676\n",
            "Epoch 760/10000\n",
            "5514/5514 [==============================] - 2s 295us/step - loss: nan - acc: 0.1665 - val_loss: nan - val_acc: 0.1676\n",
            "Epoch 761/10000\n",
            "  50/5514 [..............................] - ETA: 1s - loss: nan - acc: 0.2000"
          ],
          "name": "stdout"
        },
        {
          "output_type": "stream",
          "text": [
            "5514/5514 [==============================] - 2s 296us/step - loss: nan - acc: 0.1665 - val_loss: nan - val_acc: 0.1676\n",
            "Epoch 762/10000\n",
            "5514/5514 [==============================] - 2s 296us/step - loss: nan - acc: 0.1665 - val_loss: nan - val_acc: 0.1676\n",
            "Epoch 763/10000\n",
            "5514/5514 [==============================] - 2s 297us/step - loss: nan - acc: 0.1665 - val_loss: nan - val_acc: 0.1676\n",
            "Epoch 764/10000\n",
            "5514/5514 [==============================] - 2s 297us/step - loss: nan - acc: 0.1665 - val_loss: nan - val_acc: 0.1676\n",
            "Epoch 765/10000\n",
            "5514/5514 [==============================] - 2s 298us/step - loss: nan - acc: 0.1665 - val_loss: nan - val_acc: 0.1676\n",
            "Epoch 766/10000\n",
            "5514/5514 [==============================] - 2s 299us/step - loss: nan - acc: 0.1665 - val_loss: nan - val_acc: 0.1676\n",
            "Epoch 767/10000\n",
            "5514/5514 [==============================] - 2s 297us/step - loss: nan - acc: 0.1665 - val_loss: nan - val_acc: 0.1676\n",
            "Epoch 768/10000\n",
            "  50/5514 [..............................] - ETA: 1s - loss: nan - acc: 0.2600"
          ],
          "name": "stdout"
        },
        {
          "output_type": "stream",
          "text": [
            "5514/5514 [==============================] - 2s 299us/step - loss: nan - acc: 0.1665 - val_loss: nan - val_acc: 0.1676\n",
            "Epoch 769/10000\n",
            "5514/5514 [==============================] - 2s 298us/step - loss: nan - acc: 0.1665 - val_loss: nan - val_acc: 0.1676\n",
            "Epoch 770/10000\n",
            "5514/5514 [==============================] - 2s 297us/step - loss: nan - acc: 0.1665 - val_loss: nan - val_acc: 0.1676\n",
            "Epoch 771/10000\n",
            "5514/5514 [==============================] - 2s 301us/step - loss: nan - acc: 0.1665 - val_loss: nan - val_acc: 0.1676\n",
            "Epoch 772/10000\n",
            "5514/5514 [==============================] - 2s 298us/step - loss: nan - acc: 0.1665 - val_loss: nan - val_acc: 0.1676\n",
            "Epoch 773/10000\n",
            "5514/5514 [==============================] - 2s 299us/step - loss: nan - acc: 0.1665 - val_loss: nan - val_acc: 0.1676\n",
            "Epoch 774/10000\n",
            "5514/5514 [==============================] - 2s 296us/step - loss: nan - acc: 0.1665 - val_loss: nan - val_acc: 0.1676\n",
            "Epoch 775/10000\n",
            "  50/5514 [..............................] - ETA: 1s - loss: nan - acc: 0.1200"
          ],
          "name": "stdout"
        },
        {
          "output_type": "stream",
          "text": [
            "5514/5514 [==============================] - 2s 297us/step - loss: nan - acc: 0.1665 - val_loss: nan - val_acc: 0.1676\n",
            "Epoch 776/10000\n",
            "5514/5514 [==============================] - 2s 297us/step - loss: nan - acc: 0.1665 - val_loss: nan - val_acc: 0.1676\n",
            "Epoch 777/10000\n",
            "5514/5514 [==============================] - 2s 297us/step - loss: nan - acc: 0.1665 - val_loss: nan - val_acc: 0.1676\n",
            "Epoch 778/10000\n",
            "5514/5514 [==============================] - 2s 298us/step - loss: nan - acc: 0.1665 - val_loss: nan - val_acc: 0.1676\n",
            "Epoch 779/10000\n",
            "5514/5514 [==============================] - 2s 295us/step - loss: nan - acc: 0.1665 - val_loss: nan - val_acc: 0.1676\n",
            "Epoch 780/10000\n",
            "5514/5514 [==============================] - 2s 299us/step - loss: nan - acc: 0.1665 - val_loss: nan - val_acc: 0.1676\n",
            "Epoch 781/10000\n",
            "5514/5514 [==============================] - 2s 295us/step - loss: nan - acc: 0.1665 - val_loss: nan - val_acc: 0.1676\n",
            "Epoch 782/10000\n",
            "  50/5514 [..............................] - ETA: 1s - loss: nan - acc: 0.1800"
          ],
          "name": "stdout"
        },
        {
          "output_type": "stream",
          "text": [
            "5514/5514 [==============================] - 2s 296us/step - loss: nan - acc: 0.1665 - val_loss: nan - val_acc: 0.1676\n",
            "Epoch 783/10000\n",
            "5514/5514 [==============================] - 2s 293us/step - loss: nan - acc: 0.1665 - val_loss: nan - val_acc: 0.1676\n",
            "Epoch 784/10000\n",
            "5514/5514 [==============================] - 2s 294us/step - loss: nan - acc: 0.1665 - val_loss: nan - val_acc: 0.1676\n",
            "Epoch 785/10000\n",
            "5514/5514 [==============================] - 2s 297us/step - loss: nan - acc: 0.1665 - val_loss: nan - val_acc: 0.1676\n",
            "Epoch 786/10000\n",
            "5514/5514 [==============================] - 2s 298us/step - loss: nan - acc: 0.1665 - val_loss: nan - val_acc: 0.1676\n",
            "Epoch 787/10000\n",
            "5514/5514 [==============================] - 2s 296us/step - loss: nan - acc: 0.1665 - val_loss: nan - val_acc: 0.1676\n",
            "Epoch 788/10000\n",
            "5514/5514 [==============================] - 2s 297us/step - loss: nan - acc: 0.1665 - val_loss: nan - val_acc: 0.1676\n",
            "Epoch 789/10000\n",
            "  50/5514 [..............................] - ETA: 1s - loss: nan - acc: 0.2200"
          ],
          "name": "stdout"
        },
        {
          "output_type": "stream",
          "text": [
            "5514/5514 [==============================] - 2s 300us/step - loss: nan - acc: 0.1665 - val_loss: nan - val_acc: 0.1676\n",
            "Epoch 790/10000\n",
            "5514/5514 [==============================] - 2s 298us/step - loss: nan - acc: 0.1665 - val_loss: nan - val_acc: 0.1676\n",
            "Epoch 791/10000\n",
            "5514/5514 [==============================] - 2s 296us/step - loss: nan - acc: 0.1665 - val_loss: nan - val_acc: 0.1676\n",
            "Epoch 792/10000\n",
            "5514/5514 [==============================] - 2s 299us/step - loss: nan - acc: 0.1665 - val_loss: nan - val_acc: 0.1676\n",
            "Epoch 793/10000\n",
            "5514/5514 [==============================] - 2s 295us/step - loss: nan - acc: 0.1665 - val_loss: nan - val_acc: 0.1676\n",
            "Epoch 794/10000\n",
            "5514/5514 [==============================] - 2s 299us/step - loss: nan - acc: 0.1665 - val_loss: nan - val_acc: 0.1676\n",
            "Epoch 795/10000\n",
            "5514/5514 [==============================] - 2s 295us/step - loss: nan - acc: 0.1665 - val_loss: nan - val_acc: 0.1676\n",
            "Epoch 796/10000\n",
            "  50/5514 [..............................] - ETA: 1s - loss: nan - acc: 0.1200"
          ],
          "name": "stdout"
        },
        {
          "output_type": "stream",
          "text": [
            "5514/5514 [==============================] - 2s 296us/step - loss: nan - acc: 0.1665 - val_loss: nan - val_acc: 0.1676\n",
            "Epoch 797/10000\n",
            "5514/5514 [==============================] - 2s 299us/step - loss: nan - acc: 0.1665 - val_loss: nan - val_acc: 0.1676\n",
            "Epoch 798/10000\n",
            "5514/5514 [==============================] - 2s 296us/step - loss: nan - acc: 0.1665 - val_loss: nan - val_acc: 0.1676\n",
            "Epoch 799/10000\n",
            "5514/5514 [==============================] - 2s 299us/step - loss: nan - acc: 0.1665 - val_loss: nan - val_acc: 0.1676\n",
            "Epoch 800/10000\n",
            "5514/5514 [==============================] - 2s 300us/step - loss: nan - acc: 0.1665 - val_loss: nan - val_acc: 0.1676\n",
            "Epoch 801/10000\n",
            "5514/5514 [==============================] - 2s 297us/step - loss: nan - acc: 0.1665 - val_loss: nan - val_acc: 0.1676\n",
            "Epoch 802/10000\n",
            "5514/5514 [==============================] - 2s 296us/step - loss: nan - acc: 0.1665 - val_loss: nan - val_acc: 0.1676\n",
            "Epoch 803/10000\n",
            "  50/5514 [..............................] - ETA: 2s - loss: nan - acc: 0.0800"
          ],
          "name": "stdout"
        },
        {
          "output_type": "stream",
          "text": [
            "5514/5514 [==============================] - 2s 297us/step - loss: nan - acc: 0.1665 - val_loss: nan - val_acc: 0.1676\n",
            "Epoch 804/10000\n",
            "5514/5514 [==============================] - 2s 298us/step - loss: nan - acc: 0.1665 - val_loss: nan - val_acc: 0.1676\n",
            "Epoch 805/10000\n",
            "5514/5514 [==============================] - 2s 300us/step - loss: nan - acc: 0.1665 - val_loss: nan - val_acc: 0.1676\n",
            "Epoch 806/10000\n",
            "5514/5514 [==============================] - 2s 296us/step - loss: nan - acc: 0.1665 - val_loss: nan - val_acc: 0.1676\n",
            "Epoch 807/10000\n",
            "5514/5514 [==============================] - 2s 298us/step - loss: nan - acc: 0.1665 - val_loss: nan - val_acc: 0.1676\n",
            "Epoch 808/10000\n",
            "5514/5514 [==============================] - 2s 299us/step - loss: nan - acc: 0.1665 - val_loss: nan - val_acc: 0.1676\n",
            "Epoch 809/10000\n",
            "5514/5514 [==============================] - 2s 299us/step - loss: nan - acc: 0.1665 - val_loss: nan - val_acc: 0.1676\n",
            "Epoch 810/10000\n",
            "  50/5514 [..............................] - ETA: 1s - loss: nan - acc: 0.1600"
          ],
          "name": "stdout"
        },
        {
          "output_type": "stream",
          "text": [
            "5514/5514 [==============================] - 2s 298us/step - loss: nan - acc: 0.1665 - val_loss: nan - val_acc: 0.1676\n",
            "Epoch 811/10000\n",
            "5514/5514 [==============================] - 2s 299us/step - loss: nan - acc: 0.1665 - val_loss: nan - val_acc: 0.1676\n",
            "Epoch 812/10000\n",
            "5514/5514 [==============================] - 2s 297us/step - loss: nan - acc: 0.1665 - val_loss: nan - val_acc: 0.1676\n",
            "Epoch 813/10000\n",
            "5514/5514 [==============================] - 2s 294us/step - loss: nan - acc: 0.1665 - val_loss: nan - val_acc: 0.1676\n",
            "Epoch 814/10000\n",
            "5514/5514 [==============================] - 2s 297us/step - loss: nan - acc: 0.1665 - val_loss: nan - val_acc: 0.1676\n",
            "Epoch 815/10000\n",
            "5514/5514 [==============================] - 2s 295us/step - loss: nan - acc: 0.1665 - val_loss: nan - val_acc: 0.1676\n",
            "Epoch 816/10000\n",
            "5514/5514 [==============================] - 2s 298us/step - loss: nan - acc: 0.1665 - val_loss: nan - val_acc: 0.1676\n",
            "Epoch 817/10000\n",
            "  50/5514 [..............................] - ETA: 1s - loss: nan - acc: 0.1000"
          ],
          "name": "stdout"
        },
        {
          "output_type": "stream",
          "text": [
            "5514/5514 [==============================] - 2s 295us/step - loss: nan - acc: 0.1665 - val_loss: nan - val_acc: 0.1676\n",
            "Epoch 818/10000\n",
            "5514/5514 [==============================] - 2s 300us/step - loss: nan - acc: 0.1665 - val_loss: nan - val_acc: 0.1676\n",
            "Epoch 819/10000\n",
            "5514/5514 [==============================] - 2s 301us/step - loss: nan - acc: 0.1665 - val_loss: nan - val_acc: 0.1676\n",
            "Epoch 820/10000\n",
            "5514/5514 [==============================] - 2s 301us/step - loss: nan - acc: 0.1665 - val_loss: nan - val_acc: 0.1676\n",
            "Epoch 821/10000\n",
            "5514/5514 [==============================] - 2s 299us/step - loss: nan - acc: 0.1665 - val_loss: nan - val_acc: 0.1676\n",
            "Epoch 822/10000\n",
            "5514/5514 [==============================] - 2s 300us/step - loss: nan - acc: 0.1665 - val_loss: nan - val_acc: 0.1676\n",
            "Epoch 823/10000\n",
            "5514/5514 [==============================] - 2s 296us/step - loss: nan - acc: 0.1665 - val_loss: nan - val_acc: 0.1676\n",
            "Epoch 824/10000\n",
            "  50/5514 [..............................] - ETA: 2s - loss: nan - acc: 0.1000"
          ],
          "name": "stdout"
        },
        {
          "output_type": "stream",
          "text": [
            "5514/5514 [==============================] - 2s 296us/step - loss: nan - acc: 0.1665 - val_loss: nan - val_acc: 0.1676\n",
            "Epoch 825/10000\n",
            "5514/5514 [==============================] - 2s 302us/step - loss: nan - acc: 0.1665 - val_loss: nan - val_acc: 0.1676\n",
            "Epoch 826/10000\n",
            "5514/5514 [==============================] - 2s 302us/step - loss: nan - acc: 0.1665 - val_loss: nan - val_acc: 0.1676\n",
            "Epoch 827/10000\n",
            "5514/5514 [==============================] - 2s 300us/step - loss: nan - acc: 0.1665 - val_loss: nan - val_acc: 0.1676\n",
            "Epoch 828/10000\n",
            "5514/5514 [==============================] - 2s 302us/step - loss: nan - acc: 0.1665 - val_loss: nan - val_acc: 0.1676\n",
            "Epoch 829/10000\n",
            "5514/5514 [==============================] - 2s 301us/step - loss: nan - acc: 0.1665 - val_loss: nan - val_acc: 0.1676\n",
            "Epoch 830/10000\n",
            "2650/5514 [=============>................] - ETA: 0s - loss: nan - acc: 0.1596Buffered data was truncated after reaching the output size limit."
          ],
          "name": "stdout"
        }
      ]
    },
    {
      "metadata": {
        "id": "2YXazeH8udoG",
        "colab_type": "text"
      },
      "cell_type": "markdown",
      "source": [
        "### Code below prints the test loss and accuracy <br>\n",
        "### Before you print your accuracy and loss, play around with the parameters!!"
      ]
    },
    {
      "metadata": {
        "id": "k0e7vQOO5w90",
        "colab_type": "code",
        "colab": {
          "base_uri": "https://localhost:8080/",
          "height": 197
        },
        "outputId": "1d09de5e-21cf-4687-8ad5-110b5635b3c1"
      },
      "cell_type": "code",
      "source": [
        "score = model.evaluate(X_test, y_test, verbose=0)\n",
        "print('Test loss:', score[0])\n",
        "print('Test accuracy:', score[1])"
      ],
      "execution_count": 53,
      "outputs": [
        {
          "output_type": "error",
          "ename": "NameError",
          "evalue": "ignored",
          "traceback": [
            "\u001b[0;31m\u001b[0m",
            "\u001b[0;31mNameError\u001b[0mTraceback (most recent call last)",
            "\u001b[0;32m<ipython-input-53-a47fbc6f3577>\u001b[0m in \u001b[0;36m<module>\u001b[0;34m()\u001b[0m\n\u001b[0;32m----> 1\u001b[0;31m \u001b[0mscore\u001b[0m \u001b[0;34m=\u001b[0m \u001b[0mmodel\u001b[0m\u001b[0;34m.\u001b[0m\u001b[0mevaluate\u001b[0m\u001b[0;34m(\u001b[0m\u001b[0mX_test\u001b[0m\u001b[0;34m,\u001b[0m \u001b[0my_test\u001b[0m\u001b[0;34m,\u001b[0m \u001b[0mverbose\u001b[0m\u001b[0;34m=\u001b[0m\u001b[0;36m0\u001b[0m\u001b[0;34m)\u001b[0m\u001b[0;34m\u001b[0m\u001b[0m\n\u001b[0m\u001b[1;32m      2\u001b[0m \u001b[0;32mprint\u001b[0m\u001b[0;34m(\u001b[0m\u001b[0;34m'Test loss:'\u001b[0m\u001b[0;34m,\u001b[0m \u001b[0mscore\u001b[0m\u001b[0;34m[\u001b[0m\u001b[0;36m0\u001b[0m\u001b[0;34m]\u001b[0m\u001b[0;34m)\u001b[0m\u001b[0;34m\u001b[0m\u001b[0m\n\u001b[1;32m      3\u001b[0m \u001b[0;32mprint\u001b[0m\u001b[0;34m(\u001b[0m\u001b[0;34m'Test accuracy:'\u001b[0m\u001b[0;34m,\u001b[0m \u001b[0mscore\u001b[0m\u001b[0;34m[\u001b[0m\u001b[0;36m1\u001b[0m\u001b[0;34m]\u001b[0m\u001b[0;34m)\u001b[0m\u001b[0;34m\u001b[0m\u001b[0m\n",
            "\u001b[0;31mNameError\u001b[0m: name 'y_test' is not defined"
          ]
        }
      ]
    },
    {
      "metadata": {
        "id": "0oQd_q-LxEi8",
        "colab_type": "code",
        "colab": {}
      },
      "cell_type": "code",
      "source": [
        ""
      ],
      "execution_count": 0,
      "outputs": []
    },
    {
      "metadata": {
        "id": "42UVWm_wxEf5",
        "colab_type": "code",
        "colab": {}
      },
      "cell_type": "code",
      "source": [
        ""
      ],
      "execution_count": 0,
      "outputs": []
    },
    {
      "metadata": {
        "id": "DRsI4XwYxFgK",
        "colab_type": "text"
      },
      "cell_type": "markdown",
      "source": [
        "### Provided Functions Below"
      ]
    },
    {
      "metadata": {
        "id": "adnPCq9PuTBq",
        "colab_type": "code",
        "colab": {}
      },
      "cell_type": "code",
      "source": [
        "def read_data_train():\n",
        "  \"\"\" Read data \"\"\"\n",
        "\n",
        "  # Fixed params\n",
        "  n_class = 6\n",
        "  n_steps = 128\n",
        "\n",
        "  label_path = 'https://raw.githubusercontent.com/BeaverWorksMedlytics/datasets/master/week2_conv1d/y_train.txt'\n",
        "  labels = pd.read_csv(label_path, header = None)\n",
        "\n",
        "  list_of_channels = ['body_acc_x', 'body_acc_y', 'body_acc_z', 'body_gyro_x',\n",
        "  'body_gyro_y', 'body_gyro_z', 'total_acc_x', 'total_acc_y', 'total_acc_z']\n",
        "\n",
        "  X = np.zeros((len(labels), n_steps, len(list_of_channels)))\n",
        "\n",
        "  label_path = 'https://raw.githubusercontent.com/BeaverWorksMedlytics/datasets/master/week2_conv1d/IntertialSignals/body_acc_x_train.txt'\n",
        "  dat_ = pd.read_csv(label_path, delim_whitespace = True, header = None)\n",
        "  X[:,:,0] = dat_.as_matrix()\n",
        "\n",
        "  label_path = 'https://raw.githubusercontent.com/BeaverWorksMedlytics/datasets/master/week2_conv1d/IntertialSignals/body_acc_y_train.txt'\n",
        "  dat_ = pd.read_csv(label_path, delim_whitespace = True, header = None)\n",
        "  X[:,:,1] = dat_.as_matrix()\n",
        "\n",
        "  label_path = 'https://raw.githubusercontent.com/BeaverWorksMedlytics/datasets/master/week2_conv1d/IntertialSignals/body_acc_z_train.txt'\n",
        "  dat_ = pd.read_csv(label_path, delim_whitespace = True, header = None)\n",
        "  X[:,:,2] = dat_.as_matrix()\n",
        "\n",
        "  label_path = 'https://raw.githubusercontent.com/BeaverWorksMedlytics/datasets/master/week2_conv1d/IntertialSignals/body_gyro_x_train.txt'\n",
        "  dat_ = pd.read_csv(label_path, delim_whitespace = True, header = None)\n",
        "  X[:,:,3] = dat_.as_matrix()\n",
        "\n",
        "  label_path = 'https://raw.githubusercontent.com/BeaverWorksMedlytics/datasets/master/week2_conv1d/IntertialSignals/body_gyro_y_train.txt'\n",
        "  dat_ = pd.read_csv(label_path, delim_whitespace = True, header = None)\n",
        "  X[:,:,4] = dat_.as_matrix()\n",
        "\n",
        "  label_path = 'https://raw.githubusercontent.com/BeaverWorksMedlytics/datasets/master/week2_conv1d/IntertialSignals/body_gyro_z_train.txt'\n",
        "  dat_ = pd.read_csv(label_path, delim_whitespace = True, header = None)\n",
        "  X[:,:,5] = dat_.as_matrix()\n",
        "\n",
        "  label_path = 'https://raw.githubusercontent.com/BeaverWorksMedlytics/datasets/master/week2_conv1d/IntertialSignals/total_acc_x_train.txt'\n",
        "  dat_ = pd.read_csv(label_path, delim_whitespace = True, header = None)\n",
        "  X[:,:,6] = dat_.as_matrix()\n",
        "\n",
        "  label_path = 'https://raw.githubusercontent.com/BeaverWorksMedlytics/datasets/master/week2_conv1d/IntertialSignals/total_acc_y_train.txt'\n",
        "  dat_ = pd.read_csv(label_path, delim_whitespace = True, header = None)\n",
        "  X[:,:,7] = dat_.as_matrix()\n",
        "\n",
        "  label_path = 'https://raw.githubusercontent.com/BeaverWorksMedlytics/datasets/master/week2_conv1d/IntertialSignals/total_acc_z_train.txt'\n",
        "  dat_ = pd.read_csv(label_path, delim_whitespace = True, header = None)\n",
        "  X[:,:,8] = dat_.as_matrix()\n",
        "\n",
        "\n",
        "  # Return \n",
        "  return X, labels[0].values, list_of_channels"
      ],
      "execution_count": 0,
      "outputs": []
    },
    {
      "metadata": {
        "id": "iDJBOkx9x0HZ",
        "colab_type": "code",
        "colab": {}
      },
      "cell_type": "code",
      "source": [
        "def read_data_test():\n",
        "  \"\"\" Read data \"\"\"\n",
        "\n",
        "  # Fixed params\n",
        "  n_class = 6\n",
        "  n_steps = 128\n",
        "\n",
        "  label_path = 'https://raw.githubusercontent.com/BeaverWorksMedlytics/datasets/master/week2_conv1d/y_test.txt'\n",
        "  labels = pd.read_csv(label_path, header = None)\n",
        "\n",
        "  list_of_channels = ['body_acc_x', 'body_acc_y', 'body_acc_z', 'body_gyro_x',\n",
        "  'body_gyro_y', 'body_gyro_z', 'total_acc_x', 'total_acc_y', 'total_acc_z']\n",
        "\n",
        "  X = np.zeros((len(labels), n_steps, len(list_of_channels)))\n",
        "\n",
        "  label_path = 'https://raw.githubusercontent.com/BeaverWorksMedlytics/datasets/master/week2_conv1d/IntertialSignals/body_acc_x_test.txt'\n",
        "  dat_ = pd.read_csv(label_path, delim_whitespace = True, header = None)\n",
        "  X[:,:,0] = dat_.as_matrix()\n",
        "\n",
        "  label_path = 'https://raw.githubusercontent.com/BeaverWorksMedlytics/datasets/master/week2_conv1d/IntertialSignals/body_acc_y_test.txt'\n",
        "  dat_ = pd.read_csv(label_path, delim_whitespace = True, header = None)\n",
        "  X[:,:,1] = dat_.as_matrix()\n",
        "\n",
        "  label_path = 'https://raw.githubusercontent.com/BeaverWorksMedlytics/datasets/master/week2_conv1d/IntertialSignals/body_acc_z_test.txt'\n",
        "  dat_ = pd.read_csv(label_path, delim_whitespace = True, header = None)\n",
        "  X[:,:,2] = dat_.as_matrix()\n",
        "\n",
        "  label_path = 'https://raw.githubusercontent.com/BeaverWorksMedlytics/datasets/master/week2_conv1d/IntertialSignals/body_gyro_x_test.txt'\n",
        "  dat_ = pd.read_csv(label_path, delim_whitespace = True, header = None)\n",
        "  X[:,:,3] = dat_.as_matrix()\n",
        "\n",
        "  label_path = 'https://raw.githubusercontent.com/BeaverWorksMedlytics/datasets/master/week2_conv1d/IntertialSignals/body_gyro_y_test.txt'\n",
        "  dat_ = pd.read_csv(label_path, delim_whitespace = True, header = None)\n",
        "  X[:,:,4] = dat_.as_matrix()\n",
        "\n",
        "  label_path = 'https://raw.githubusercontent.com/BeaverWorksMedlytics/datasets/master/week2_conv1d/IntertialSignals/body_gyro_z_test.txt'\n",
        "  dat_ = pd.read_csv(label_path, delim_whitespace = True, header = None)\n",
        "  X[:,:,5] = dat_.as_matrix()\n",
        "\n",
        "  label_path = 'https://raw.githubusercontent.com/BeaverWorksMedlytics/datasets/master/week2_conv1d/IntertialSignals/total_acc_x_test.txt'\n",
        "  dat_ = pd.read_csv(label_path, delim_whitespace = True, header = None)\n",
        "  X[:,:,6] = dat_.as_matrix()\n",
        "\n",
        "  label_path = 'https://raw.githubusercontent.com/BeaverWorksMedlytics/datasets/master/week2_conv1d/IntertialSignals/total_acc_y_test.txt'\n",
        "  dat_ = pd.read_csv(label_path, delim_whitespace = True, header = None)\n",
        "  X[:,:,7] = dat_.as_matrix()\n",
        "\n",
        "  label_path = 'https://raw.githubusercontent.com/BeaverWorksMedlytics/datasets/master/week2_conv1d/IntertialSignals/total_acc_z_test.txt'\n",
        "  dat_ = pd.read_csv(label_path, delim_whitespace = True, header = None)\n",
        "  X[:,:,8] = dat_.as_matrix()\n",
        "\n",
        "\n",
        "  # Return \n",
        "  return X, labels[0].values, list_of_channels"
      ],
      "execution_count": 0,
      "outputs": []
    },
    {
      "metadata": {
        "id": "wrog_9co1HhG",
        "colab_type": "code",
        "colab": {}
      },
      "cell_type": "code",
      "source": [
        "def one_hot(labels, n_class = 6):\n",
        "\t\"\"\" One-hot encoding \"\"\"\n",
        "\texpansion = np.eye(n_class)\n",
        "\ty = expansion[:, labels-1].T\n",
        "\tassert y.shape[1] == n_class, \"Wrong number of labels!\"\n",
        "\n",
        "\treturn y"
      ],
      "execution_count": 0,
      "outputs": []
    },
    {
      "metadata": {
        "id": "EYft5h8x1IbU",
        "colab_type": "code",
        "colab": {}
      },
      "cell_type": "code",
      "source": [
        "def get_batches(X, y, batch_size = 100):\n",
        "\t\"\"\" Return a generator for batches \"\"\"\n",
        "\tn_batches = len(X) // batch_size\n",
        "\tX, y = X[:n_batches*batch_size], y[:n_batches*batch_size]\n",
        "\n",
        "\t# Loop over batches and yield\n",
        "\tfor b in range(0, len(X), batch_size):\n",
        "\t\tyield X[b:b+batch_size], y[b:b+batch_size]"
      ],
      "execution_count": 0,
      "outputs": []
    },
    {
      "metadata": {
        "id": "Sfwx7f1icYwo",
        "colab_type": "code",
        "colab": {}
      },
      "cell_type": "code",
      "source": [
        ""
      ],
      "execution_count": 0,
      "outputs": []
    }
  ]
}